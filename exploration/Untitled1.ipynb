{
 "cells": [
  {
   "cell_type": "code",
   "execution_count": 9,
   "id": "a014c65c-a77a-4765-81c1-06389051a99d",
   "metadata": {},
   "outputs": [],
   "source": [
    "from metaapi_cloud_sdk import MetaApi\n"
   ]
  },
  {
   "cell_type": "code",
   "execution_count": 10,
   "id": "9516170a-2539-4fd0-b578-53180d2f16fd",
   "metadata": {},
   "outputs": [
    {
     "ename": "NameError",
     "evalue": "name 'api' is not defined",
     "output_type": "error",
     "traceback": [
      "\u001b[0;31m---------------------------------------------------------------------------\u001b[0m",
      "\u001b[0;31mNameError\u001b[0m                                 Traceback (most recent call last)",
      "Cell \u001b[0;32mIn[10], line 5\u001b[0m\n\u001b[1;32m      3\u001b[0m token \u001b[38;5;241m=\u001b[39m \u001b[38;5;124m'\u001b[39m\u001b[38;5;124meyJhbGciOiJSUzUxMiIsInR5cCI6IkpXVCJ9.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.gX_val74-IJtF_pYyFj_hJy3pZsLaN6OW6YT7hzPJC6bUYmCxw9DiLYDrzLV4zjs7S-tu5W5q1A35lDLdaJIkGh8kEElYHQrKcsZt5SFBuSMZMte9pXbTI_SSe7M4bVa-VhZaKR9oufa3ibflYPkBL-Z8xIyT6m3OE0RQQ4AkfxosDYsIUMC_-6oAQ8oBLhOKd06_llmvWpcNZLyyV7JXu3cngg1PacxZAqOaSKDe4Noi6PGyJVvozcJQrQCBBPma9Xr8nN8TvzEZoSK5tYMRCBsOdK-iCA2ZFroBUA4S9S2s0w0M1nVyIcYBawuYXINXNVMI1FdK8I1G6IVX7-lrEqwHCfBlBn_1LQLGrm51fRQ_1DsTfnrjc31Acnzor5zbggaKFJh8QB1GtMhiWLuGv2JEoZfxkO3mBge9sEQ9q_REepYxNVQsWZCdbUJrRoybWt3IPfCNsXr1nnwXLUx2VIehfzeb_bmJKRfdM5h1eqjNxfutNijOzp-i0COgkw8AseYNqsXO5cJRK6QqXSyXimJGeWVDNtPcNjgUH-Q159abu_YHSemHxfnHVK8pAnN5kpP5bNsWlnf4nrMbDJIBONXNRuTvKB3Q-YR4Kc9GNmA2Xg8I6qBvSoiWsb4IB7FnZ7vhSqh0OrSMtiLf7HjkS24USKzFancEpQUCTZ56dc\u001b[39m\u001b[38;5;124m'\u001b[39m\n\u001b[1;32m      4\u001b[0m accountId \u001b[38;5;241m=\u001b[39m \u001b[38;5;124m'\u001b[39m\u001b[38;5;124ma486984d-4f3f-4df2-8835-b60b5f9978b2\u001b[39m\u001b[38;5;124m'\u001b[39m\n\u001b[0;32m----> 5\u001b[0m account \u001b[38;5;241m=\u001b[39m \u001b[38;5;28;01mawait\u001b[39;00m api\u001b[38;5;241m.\u001b[39mmetatrader_account_api\u001b[38;5;241m.\u001b[39mget_account(account_id\u001b[38;5;241m=\u001b[39maccountId)\n\u001b[1;32m      6\u001b[0m connection \u001b[38;5;241m=\u001b[39m account\u001b[38;5;241m.\u001b[39mget_streaming_connection()\n\u001b[1;32m      7\u001b[0m \u001b[38;5;28;01mawait\u001b[39;00m connection\u001b[38;5;241m.\u001b[39mconnect()\n",
      "\u001b[0;31mNameError\u001b[0m: name 'api' is not defined"
     ]
    }
   ],
   "source": [
    "from datetime import datetime\n",
    "\n",
    "token = 'eyJhbGciOiJSUzUxMiIsInR5cCI6IkpXVCJ9.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.gX_val74-IJtF_pYyFj_hJy3pZsLaN6OW6YT7hzPJC6bUYmCxw9DiLYDrzLV4zjs7S-tu5W5q1A35lDLdaJIkGh8kEElYHQrKcsZt5SFBuSMZMte9pXbTI_SSe7M4bVa-VhZaKR9oufa3ibflYPkBL-Z8xIyT6m3OE0RQQ4AkfxosDYsIUMC_-6oAQ8oBLhOKd06_llmvWpcNZLyyV7JXu3cngg1PacxZAqOaSKDe4Noi6PGyJVvozcJQrQCBBPma9Xr8nN8TvzEZoSK5tYMRCBsOdK-iCA2ZFroBUA4S9S2s0w0M1nVyIcYBawuYXINXNVMI1FdK8I1G6IVX7-lrEqwHCfBlBn_1LQLGrm51fRQ_1DsTfnrjc31Acnzor5zbggaKFJh8QB1GtMhiWLuGv2JEoZfxkO3mBge9sEQ9q_REepYxNVQsWZCdbUJrRoybWt3IPfCNsXr1nnwXLUx2VIehfzeb_bmJKRfdM5h1eqjNxfutNijOzp-i0COgkw8AseYNqsXO5cJRK6QqXSyXimJGeWVDNtPcNjgUH-Q159abu_YHSemHxfnHVK8pAnN5kpP5bNsWlnf4nrMbDJIBONXNRuTvKB3Q-YR4Kc9GNmA2Xg8I6qBvSoiWsb4IB7FnZ7vhSqh0OrSMtiLf7HjkS24USKzFancEpQUCTZ56dc'\n",
    "accountId = 'a486984d-4f3f-4df2-8835-b60b5f9978b2'\n",
    "account = await api.metatrader_account_api.get_account(account_id=accountId)\n",
    "connection = account.get_streaming_connection()\n",
    "await connection.connect()\n",
    "\n",
    "# access local copy of terminal state\n",
    "terminalState = connection.terminal_state\n",
    "\n",
    "# wait until synchronization completed\n",
    "await connection.wait_synchronized()\n",
    "\n",
    "print(terminalState.connected)\n",
    "print(terminalState.connected_to_broker)\n",
    "print(terminalState.account_information)\n",
    "print(terminalState.positions)\n",
    "print(terminalState.orders)\n",
    "# symbol specifications\n",
    "print(terminalState.specifications)\n",
    "print(terminalState.specification(symbol='EURUSD'))\n",
    "print(terminalState.price(symbol='EURUSD'))\n",
    "\n",
    "# access history storage\n",
    "historyStorage = connection.history_storage\n",
    "\n",
    "# both orderSynchronizationFinished and dealSynchronizationFinished\n",
    "# should be true once history synchronization have finished\n",
    "# print(historyStorage.order_synchronization_finished)\n",
    "# print(historyStorage.deal_synchronization_finished)\n",
    "\n",
    "# print(historyStorage.deals)\n",
    "# print(historyStorage.get_deals_by_ticket('1'))\n",
    "# print(historyStorage.get_deals_by_position('1'))\n",
    "# print(historyStorage.get_deals_by_time_range(datetime.fromtimestamp(datetime.now().timestamp() - 24 * 60 * 60), datetime.now()))\n",
    "\n",
    "# print(historyStorage.history_orders)\n",
    "# print(historyStorage.get_history_orders_by_ticket('1'))\n",
    "# print(historyStorage.get_history_orders_by_position('1'))\n",
    "# print(historyStorage.get_history_orders_by_time_range(datetime.fromtimestamp(datetime.now().timestamp() - 24 * 60 * 60), datetime.now()))"
   ]
  },
  {
   "cell_type": "code",
   "execution_count": 11,
   "id": "f76a6e7c-b089-4233-8c04-6b4c3f71d751",
   "metadata": {},
   "outputs": [
    {
     "ename": "NameError",
     "evalue": "name 'account' is not defined",
     "output_type": "error",
     "traceback": [
      "\u001b[0;31m---------------------------------------------------------------------------\u001b[0m",
      "\u001b[0;31mNameError\u001b[0m                                 Traceback (most recent call last)",
      "Cell \u001b[0;32mIn[11], line 1\u001b[0m\n\u001b[0;32m----> 1\u001b[0m connection \u001b[38;5;241m=\u001b[39m \u001b[43maccount\u001b[49m\u001b[38;5;241m.\u001b[39mget_streaming_connection()\n\u001b[1;32m      2\u001b[0m \u001b[38;5;28;01mawait\u001b[39;00m connection\u001b[38;5;241m.\u001b[39mconnect()\n\u001b[1;32m      4\u001b[0m \u001b[38;5;28;01mawait\u001b[39;00m connection\u001b[38;5;241m.\u001b[39mwait_synchronized()\n",
      "\u001b[0;31mNameError\u001b[0m: name 'account' is not defined"
     ]
    }
   ],
   "source": [
    "connection = account.get_streaming_connection()\n",
    "await connection.connect()\n",
    "\n",
    "await connection.wait_synchronized()\n",
    "\n",
    "# first, subscribe to market data\n",
    "await connection.subscribe_to_market_data(symbol='GBPUSD')\n",
    "\n",
    "# read contract specification\n"
   ]
  },
  {
   "cell_type": "code",
   "execution_count": 9,
   "id": "fecc8bcf-36cc-4977-b85a-72c1f5a3b3e4",
   "metadata": {},
   "outputs": [
    {
     "name": "stdout",
     "output_type": "stream",
     "text": [
      "{'symbol': 'EURUSD', 'tickSize': 1e-05, 'minVolume': 0.01, 'maxVolume': 500, 'volumeStep': 0.01, 'fillingModes': ['SYMBOL_FILLING_FOK', 'SYMBOL_FILLING_IOC'], 'executionMode': 'SYMBOL_TRADE_EXECUTION_MARKET', 'contractSize': 100000, 'quoteSessions': {'SUNDAY': [], 'MONDAY': [{'from': '00:00:00.000', 'to': '23:58:59.999'}], 'TUESDAY': [{'from': '00:00:00.000', 'to': '23:58:59.999'}], 'WEDNESDAY': [{'from': '00:00:00.000', 'to': '23:58:59.999'}], 'THURSDAY': [{'from': '00:00:00.000', 'to': '23:58:59.999'}], 'FRIDAY': [{'from': '00:00:00.000', 'to': '23:58:59.999'}], 'SATURDAY': []}, 'tradeSessions': {'SUNDAY': [], 'MONDAY': [{'from': '00:05:00.000', 'to': '23:54:59.999'}], 'TUESDAY': [{'from': '00:05:00.000', 'to': '23:54:59.999'}], 'WEDNESDAY': [{'from': '00:05:00.000', 'to': '23:54:59.999'}], 'THURSDAY': [{'from': '00:05:00.000', 'to': '23:54:59.999'}], 'FRIDAY': [{'from': '00:05:00.000', 'to': '23:54:59.999'}], 'SATURDAY': []}, 'initialMargin': 0, 'maintenanceMargin': 0, 'priceCalculationMode': 'SYMBOL_CALC_MODE_FOREX', 'marginCurrency': 'EUR', 'profitCurrency': 'USD', 'baseCurrency': 'EUR', 'swapMode': 'SYMBOL_SWAP_MODE_POINTS', 'allowedExpirationModes': ['SYMBOL_EXPIRATION_GTC', 'SYMBOL_EXPIRATION_DAY', 'SYMBOL_EXPIRATION_SPECIFIED', 'SYMBOL_EXPIRATION_SPECIFIED_DAY'], 'allowedOrderTypes': ['SYMBOL_ORDER_MARKET', 'SYMBOL_ORDER_LIMIT', 'SYMBOL_ORDER_STOP', 'SYMBOL_ORDER_STOP_LIMIT', 'SYMBOL_ORDER_SL', 'SYMBOL_ORDER_TP'], 'orderGTCMode': 'SYMBOL_ORDERS_GTC', 'digits': 5, 'path': 'Forex-Pro\\\\EURUSD', 'description': 'Euro vs US Dollar', 'tradeMode': 'SYMBOL_TRADE_MODE_FULL', 'stopsLevel': 0, 'freezeLevel': 0, 'swapLong': -9.6, 'swapShort': 1, 'swapRollover3Days': 'SUNDAY', 'pipSize': 0.0001}\n",
      "None\n"
     ]
    }
   ],
   "source": [
    "print(terminalState.specification(symbol='EURUSD'))\n",
    "\n",
    "# read current price\n",
    "print(terminalState.price(symbol='EURUSD'))\n",
    "\n",
    "# unsubscribe from market data when no longer needed\n",
    "# await connection.unsubscribe_from_market_data(symbol='GBPUSD')"
   ]
  },
  {
   "cell_type": "code",
   "execution_count": 15,
   "id": "c67df00d-e4f0-449d-83d8-c669ffe143f5",
   "metadata": {},
   "outputs": [
    {
     "name": "stdout",
     "output_type": "stream",
     "text": [
      "{'symbol': 'GBPUSD', 'bid': 1.30981, 'ask': 1.30998, 'time': datetime.datetime(2024, 9, 9, 7, 24, 15, 366000, tzinfo=datetime.timezone.utc), 'brokerTime': '2024-09-09 10:24:15.366', 'profitTickValue': 1, 'lossTickValue': 1, 'accountCurrencyExchangeRate': 1, 'timestamps': {'eventGenerated': datetime.datetime(2024, 9, 9, 7, 24, 15, 366000, tzinfo=datetime.timezone.utc), 'serverProcessingStarted': datetime.datetime(2024, 9, 9, 7, 24, 15, 531000, tzinfo=datetime.timezone.utc), 'serverProcessingFinished': datetime.datetime(2024, 9, 9, 7, 24, 15, 533000, tzinfo=datetime.timezone.utc), 'clientProcessingFinished': datetime.datetime(2024, 9, 9, 8, 24, 15, 255268)}, 'equity': 10000}\n",
      "{'symbol': 'GBPUSD', 'bid': 1.30981, 'ask': 1.30998, 'time': datetime.datetime(2024, 9, 9, 7, 24, 15, 366000, tzinfo=datetime.timezone.utc), 'brokerTime': '2024-09-09 10:24:15.366', 'profitTickValue': 1, 'lossTickValue': 1, 'accountCurrencyExchangeRate': 1, 'timestamps': {'eventGenerated': datetime.datetime(2024, 9, 9, 7, 24, 15, 366000, tzinfo=datetime.timezone.utc), 'serverProcessingStarted': datetime.datetime(2024, 9, 9, 7, 24, 15, 531000, tzinfo=datetime.timezone.utc), 'serverProcessingFinished': datetime.datetime(2024, 9, 9, 7, 24, 15, 533000, tzinfo=datetime.timezone.utc), 'clientProcessingFinished': datetime.datetime(2024, 9, 9, 8, 24, 15, 255268)}, 'equity': 10000}\n",
      "{'symbol': 'GBPUSD', 'bid': 1.30981, 'ask': 1.30998, 'time': datetime.datetime(2024, 9, 9, 7, 24, 15, 366000, tzinfo=datetime.timezone.utc), 'brokerTime': '2024-09-09 10:24:15.366', 'profitTickValue': 1, 'lossTickValue': 1, 'accountCurrencyExchangeRate': 1, 'timestamps': {'eventGenerated': datetime.datetime(2024, 9, 9, 7, 24, 15, 366000, tzinfo=datetime.timezone.utc), 'serverProcessingStarted': datetime.datetime(2024, 9, 9, 7, 24, 15, 531000, tzinfo=datetime.timezone.utc), 'serverProcessingFinished': datetime.datetime(2024, 9, 9, 7, 24, 15, 533000, tzinfo=datetime.timezone.utc), 'clientProcessingFinished': datetime.datetime(2024, 9, 9, 8, 24, 15, 255268)}, 'equity': 10000}\n",
      "{'symbol': 'GBPUSD', 'bid': 1.30981, 'ask': 1.30998, 'time': datetime.datetime(2024, 9, 9, 7, 24, 15, 366000, tzinfo=datetime.timezone.utc), 'brokerTime': '2024-09-09 10:24:15.366', 'profitTickValue': 1, 'lossTickValue': 1, 'accountCurrencyExchangeRate': 1, 'timestamps': {'eventGenerated': datetime.datetime(2024, 9, 9, 7, 24, 15, 366000, tzinfo=datetime.timezone.utc), 'serverProcessingStarted': datetime.datetime(2024, 9, 9, 7, 24, 15, 531000, tzinfo=datetime.timezone.utc), 'serverProcessingFinished': datetime.datetime(2024, 9, 9, 7, 24, 15, 533000, tzinfo=datetime.timezone.utc), 'clientProcessingFinished': datetime.datetime(2024, 9, 9, 8, 24, 15, 255268)}, 'equity': 10000}\n",
      "{'symbol': 'GBPUSD', 'bid': 1.30981, 'ask': 1.30998, 'time': datetime.datetime(2024, 9, 9, 7, 24, 15, 366000, tzinfo=datetime.timezone.utc), 'brokerTime': '2024-09-09 10:24:15.366', 'profitTickValue': 1, 'lossTickValue': 1, 'accountCurrencyExchangeRate': 1, 'timestamps': {'eventGenerated': datetime.datetime(2024, 9, 9, 7, 24, 15, 366000, tzinfo=datetime.timezone.utc), 'serverProcessingStarted': datetime.datetime(2024, 9, 9, 7, 24, 15, 531000, tzinfo=datetime.timezone.utc), 'serverProcessingFinished': datetime.datetime(2024, 9, 9, 7, 24, 15, 533000, tzinfo=datetime.timezone.utc), 'clientProcessingFinished': datetime.datetime(2024, 9, 9, 8, 24, 15, 255268)}, 'equity': 10000}\n",
      "{'symbol': 'GBPUSD', 'bid': 1.30981, 'ask': 1.30998, 'time': datetime.datetime(2024, 9, 9, 7, 24, 15, 366000, tzinfo=datetime.timezone.utc), 'brokerTime': '2024-09-09 10:24:15.366', 'profitTickValue': 1, 'lossTickValue': 1, 'accountCurrencyExchangeRate': 1, 'timestamps': {'eventGenerated': datetime.datetime(2024, 9, 9, 7, 24, 15, 366000, tzinfo=datetime.timezone.utc), 'serverProcessingStarted': datetime.datetime(2024, 9, 9, 7, 24, 15, 531000, tzinfo=datetime.timezone.utc), 'serverProcessingFinished': datetime.datetime(2024, 9, 9, 7, 24, 15, 533000, tzinfo=datetime.timezone.utc), 'clientProcessingFinished': datetime.datetime(2024, 9, 9, 8, 24, 15, 255268)}, 'equity': 10000}\n",
      "{'symbol': 'GBPUSD', 'bid': 1.30981, 'ask': 1.30998, 'time': datetime.datetime(2024, 9, 9, 7, 24, 15, 366000, tzinfo=datetime.timezone.utc), 'brokerTime': '2024-09-09 10:24:15.366', 'profitTickValue': 1, 'lossTickValue': 1, 'accountCurrencyExchangeRate': 1, 'timestamps': {'eventGenerated': datetime.datetime(2024, 9, 9, 7, 24, 15, 366000, tzinfo=datetime.timezone.utc), 'serverProcessingStarted': datetime.datetime(2024, 9, 9, 7, 24, 15, 531000, tzinfo=datetime.timezone.utc), 'serverProcessingFinished': datetime.datetime(2024, 9, 9, 7, 24, 15, 533000, tzinfo=datetime.timezone.utc), 'clientProcessingFinished': datetime.datetime(2024, 9, 9, 8, 24, 15, 255268)}, 'equity': 10000}\n",
      "{'symbol': 'GBPUSD', 'bid': 1.30981, 'ask': 1.30998, 'time': datetime.datetime(2024, 9, 9, 7, 24, 15, 366000, tzinfo=datetime.timezone.utc), 'brokerTime': '2024-09-09 10:24:15.366', 'profitTickValue': 1, 'lossTickValue': 1, 'accountCurrencyExchangeRate': 1, 'timestamps': {'eventGenerated': datetime.datetime(2024, 9, 9, 7, 24, 15, 366000, tzinfo=datetime.timezone.utc), 'serverProcessingStarted': datetime.datetime(2024, 9, 9, 7, 24, 15, 531000, tzinfo=datetime.timezone.utc), 'serverProcessingFinished': datetime.datetime(2024, 9, 9, 7, 24, 15, 533000, tzinfo=datetime.timezone.utc), 'clientProcessingFinished': datetime.datetime(2024, 9, 9, 8, 24, 15, 255268)}, 'equity': 10000}\n",
      "{'symbol': 'GBPUSD', 'bid': 1.30981, 'ask': 1.30998, 'time': datetime.datetime(2024, 9, 9, 7, 24, 15, 366000, tzinfo=datetime.timezone.utc), 'brokerTime': '2024-09-09 10:24:15.366', 'profitTickValue': 1, 'lossTickValue': 1, 'accountCurrencyExchangeRate': 1, 'timestamps': {'eventGenerated': datetime.datetime(2024, 9, 9, 7, 24, 15, 366000, tzinfo=datetime.timezone.utc), 'serverProcessingStarted': datetime.datetime(2024, 9, 9, 7, 24, 15, 531000, tzinfo=datetime.timezone.utc), 'serverProcessingFinished': datetime.datetime(2024, 9, 9, 7, 24, 15, 533000, tzinfo=datetime.timezone.utc), 'clientProcessingFinished': datetime.datetime(2024, 9, 9, 8, 24, 15, 255268)}, 'equity': 10000}\n",
      "{'symbol': 'GBPUSD', 'bid': 1.30981, 'ask': 1.30998, 'time': datetime.datetime(2024, 9, 9, 7, 24, 15, 366000, tzinfo=datetime.timezone.utc), 'brokerTime': '2024-09-09 10:24:15.366', 'profitTickValue': 1, 'lossTickValue': 1, 'accountCurrencyExchangeRate': 1, 'timestamps': {'eventGenerated': datetime.datetime(2024, 9, 9, 7, 24, 15, 366000, tzinfo=datetime.timezone.utc), 'serverProcessingStarted': datetime.datetime(2024, 9, 9, 7, 24, 15, 531000, tzinfo=datetime.timezone.utc), 'serverProcessingFinished': datetime.datetime(2024, 9, 9, 7, 24, 15, 533000, tzinfo=datetime.timezone.utc), 'clientProcessingFinished': datetime.datetime(2024, 9, 9, 8, 24, 15, 255268)}, 'equity': 10000}\n",
      "{'symbol': 'GBPUSD', 'bid': 1.30981, 'ask': 1.30998, 'time': datetime.datetime(2024, 9, 9, 7, 24, 15, 366000, tzinfo=datetime.timezone.utc), 'brokerTime': '2024-09-09 10:24:15.366', 'profitTickValue': 1, 'lossTickValue': 1, 'accountCurrencyExchangeRate': 1, 'timestamps': {'eventGenerated': datetime.datetime(2024, 9, 9, 7, 24, 15, 366000, tzinfo=datetime.timezone.utc), 'serverProcessingStarted': datetime.datetime(2024, 9, 9, 7, 24, 15, 531000, tzinfo=datetime.timezone.utc), 'serverProcessingFinished': datetime.datetime(2024, 9, 9, 7, 24, 15, 533000, tzinfo=datetime.timezone.utc), 'clientProcessingFinished': datetime.datetime(2024, 9, 9, 8, 24, 15, 255268)}, 'equity': 10000}\n",
      "{'symbol': 'GBPUSD', 'bid': 1.30981, 'ask': 1.30998, 'time': datetime.datetime(2024, 9, 9, 7, 24, 15, 366000, tzinfo=datetime.timezone.utc), 'brokerTime': '2024-09-09 10:24:15.366', 'profitTickValue': 1, 'lossTickValue': 1, 'accountCurrencyExchangeRate': 1, 'timestamps': {'eventGenerated': datetime.datetime(2024, 9, 9, 7, 24, 15, 366000, tzinfo=datetime.timezone.utc), 'serverProcessingStarted': datetime.datetime(2024, 9, 9, 7, 24, 15, 531000, tzinfo=datetime.timezone.utc), 'serverProcessingFinished': datetime.datetime(2024, 9, 9, 7, 24, 15, 533000, tzinfo=datetime.timezone.utc), 'clientProcessingFinished': datetime.datetime(2024, 9, 9, 8, 24, 15, 255268)}, 'equity': 10000}\n",
      "{'symbol': 'GBPUSD', 'bid': 1.30981, 'ask': 1.30998, 'time': datetime.datetime(2024, 9, 9, 7, 24, 15, 366000, tzinfo=datetime.timezone.utc), 'brokerTime': '2024-09-09 10:24:15.366', 'profitTickValue': 1, 'lossTickValue': 1, 'accountCurrencyExchangeRate': 1, 'timestamps': {'eventGenerated': datetime.datetime(2024, 9, 9, 7, 24, 15, 366000, tzinfo=datetime.timezone.utc), 'serverProcessingStarted': datetime.datetime(2024, 9, 9, 7, 24, 15, 531000, tzinfo=datetime.timezone.utc), 'serverProcessingFinished': datetime.datetime(2024, 9, 9, 7, 24, 15, 533000, tzinfo=datetime.timezone.utc), 'clientProcessingFinished': datetime.datetime(2024, 9, 9, 8, 24, 15, 255268)}, 'equity': 10000}\n",
      "{'symbol': 'GBPUSD', 'bid': 1.30981, 'ask': 1.30998, 'time': datetime.datetime(2024, 9, 9, 7, 24, 15, 366000, tzinfo=datetime.timezone.utc), 'brokerTime': '2024-09-09 10:24:15.366', 'profitTickValue': 1, 'lossTickValue': 1, 'accountCurrencyExchangeRate': 1, 'timestamps': {'eventGenerated': datetime.datetime(2024, 9, 9, 7, 24, 15, 366000, tzinfo=datetime.timezone.utc), 'serverProcessingStarted': datetime.datetime(2024, 9, 9, 7, 24, 15, 531000, tzinfo=datetime.timezone.utc), 'serverProcessingFinished': datetime.datetime(2024, 9, 9, 7, 24, 15, 533000, tzinfo=datetime.timezone.utc), 'clientProcessingFinished': datetime.datetime(2024, 9, 9, 8, 24, 15, 255268)}, 'equity': 10000}\n",
      "{'symbol': 'GBPUSD', 'bid': 1.30981, 'ask': 1.30998, 'time': datetime.datetime(2024, 9, 9, 7, 24, 15, 366000, tzinfo=datetime.timezone.utc), 'brokerTime': '2024-09-09 10:24:15.366', 'profitTickValue': 1, 'lossTickValue': 1, 'accountCurrencyExchangeRate': 1, 'timestamps': {'eventGenerated': datetime.datetime(2024, 9, 9, 7, 24, 15, 366000, tzinfo=datetime.timezone.utc), 'serverProcessingStarted': datetime.datetime(2024, 9, 9, 7, 24, 15, 531000, tzinfo=datetime.timezone.utc), 'serverProcessingFinished': datetime.datetime(2024, 9, 9, 7, 24, 15, 533000, tzinfo=datetime.timezone.utc), 'clientProcessingFinished': datetime.datetime(2024, 9, 9, 8, 24, 15, 255268)}, 'equity': 10000}\n",
      "{'symbol': 'GBPUSD', 'bid': 1.30981, 'ask': 1.30998, 'time': datetime.datetime(2024, 9, 9, 7, 24, 15, 366000, tzinfo=datetime.timezone.utc), 'brokerTime': '2024-09-09 10:24:15.366', 'profitTickValue': 1, 'lossTickValue': 1, 'accountCurrencyExchangeRate': 1, 'timestamps': {'eventGenerated': datetime.datetime(2024, 9, 9, 7, 24, 15, 366000, tzinfo=datetime.timezone.utc), 'serverProcessingStarted': datetime.datetime(2024, 9, 9, 7, 24, 15, 531000, tzinfo=datetime.timezone.utc), 'serverProcessingFinished': datetime.datetime(2024, 9, 9, 7, 24, 15, 533000, tzinfo=datetime.timezone.utc), 'clientProcessingFinished': datetime.datetime(2024, 9, 9, 8, 24, 15, 255268)}, 'equity': 10000}\n",
      "{'symbol': 'GBPUSD', 'bid': 1.30981, 'ask': 1.30998, 'time': datetime.datetime(2024, 9, 9, 7, 24, 15, 366000, tzinfo=datetime.timezone.utc), 'brokerTime': '2024-09-09 10:24:15.366', 'profitTickValue': 1, 'lossTickValue': 1, 'accountCurrencyExchangeRate': 1, 'timestamps': {'eventGenerated': datetime.datetime(2024, 9, 9, 7, 24, 15, 366000, tzinfo=datetime.timezone.utc), 'serverProcessingStarted': datetime.datetime(2024, 9, 9, 7, 24, 15, 531000, tzinfo=datetime.timezone.utc), 'serverProcessingFinished': datetime.datetime(2024, 9, 9, 7, 24, 15, 533000, tzinfo=datetime.timezone.utc), 'clientProcessingFinished': datetime.datetime(2024, 9, 9, 8, 24, 15, 255268)}, 'equity': 10000}\n",
      "{'symbol': 'GBPUSD', 'bid': 1.30981, 'ask': 1.30998, 'time': datetime.datetime(2024, 9, 9, 7, 24, 15, 366000, tzinfo=datetime.timezone.utc), 'brokerTime': '2024-09-09 10:24:15.366', 'profitTickValue': 1, 'lossTickValue': 1, 'accountCurrencyExchangeRate': 1, 'timestamps': {'eventGenerated': datetime.datetime(2024, 9, 9, 7, 24, 15, 366000, tzinfo=datetime.timezone.utc), 'serverProcessingStarted': datetime.datetime(2024, 9, 9, 7, 24, 15, 531000, tzinfo=datetime.timezone.utc), 'serverProcessingFinished': datetime.datetime(2024, 9, 9, 7, 24, 15, 533000, tzinfo=datetime.timezone.utc), 'clientProcessingFinished': datetime.datetime(2024, 9, 9, 8, 24, 15, 255268)}, 'equity': 10000}\n",
      "{'symbol': 'GBPUSD', 'bid': 1.30981, 'ask': 1.30998, 'time': datetime.datetime(2024, 9, 9, 7, 24, 15, 366000, tzinfo=datetime.timezone.utc), 'brokerTime': '2024-09-09 10:24:15.366', 'profitTickValue': 1, 'lossTickValue': 1, 'accountCurrencyExchangeRate': 1, 'timestamps': {'eventGenerated': datetime.datetime(2024, 9, 9, 7, 24, 15, 366000, tzinfo=datetime.timezone.utc), 'serverProcessingStarted': datetime.datetime(2024, 9, 9, 7, 24, 15, 531000, tzinfo=datetime.timezone.utc), 'serverProcessingFinished': datetime.datetime(2024, 9, 9, 7, 24, 15, 533000, tzinfo=datetime.timezone.utc), 'clientProcessingFinished': datetime.datetime(2024, 9, 9, 8, 24, 15, 255268)}, 'equity': 10000}\n",
      "{'symbol': 'GBPUSD', 'bid': 1.30981, 'ask': 1.30998, 'time': datetime.datetime(2024, 9, 9, 7, 24, 15, 366000, tzinfo=datetime.timezone.utc), 'brokerTime': '2024-09-09 10:24:15.366', 'profitTickValue': 1, 'lossTickValue': 1, 'accountCurrencyExchangeRate': 1, 'timestamps': {'eventGenerated': datetime.datetime(2024, 9, 9, 7, 24, 15, 366000, tzinfo=datetime.timezone.utc), 'serverProcessingStarted': datetime.datetime(2024, 9, 9, 7, 24, 15, 531000, tzinfo=datetime.timezone.utc), 'serverProcessingFinished': datetime.datetime(2024, 9, 9, 7, 24, 15, 533000, tzinfo=datetime.timezone.utc), 'clientProcessingFinished': datetime.datetime(2024, 9, 9, 8, 24, 15, 255268)}, 'equity': 10000}\n"
     ]
    }
   ],
   "source": [
    "# import time\n",
    "# i=0\n",
    "# while i< 20:\n",
    "#     print(terminalState.price(symbol='GBPUSD'))\n",
    "#     # time.sleep(5)\n",
    "#     i+=1"
   ]
  },
  {
   "cell_type": "code",
   "execution_count": null,
   "id": "01c86137-adcc-4637-8b20-1eaf41559a07",
   "metadata": {},
   "outputs": [],
   "source": []
  }
 ],
 "metadata": {
  "kernelspec": {
   "display_name": "Python 3 (ipykernel)",
   "language": "python",
   "name": "python3"
  },
  "language_info": {
   "codemirror_mode": {
    "name": "ipython",
    "version": 3
   },
   "file_extension": ".py",
   "mimetype": "text/x-python",
   "name": "python",
   "nbconvert_exporter": "python",
   "pygments_lexer": "ipython3",
   "version": "3.9.12"
  }
 },
 "nbformat": 4,
 "nbformat_minor": 5
}
