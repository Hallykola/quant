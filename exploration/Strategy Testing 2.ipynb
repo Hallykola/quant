{
 "cells": [
  {
   "cell_type": "code",
   "execution_count": 135,
   "id": "82c69a3c-b51e-418a-b198-1439321aa79c",
   "metadata": {},
   "outputs": [],
   "source": [
    "import requests\n",
    "import pandas as pd\n",
    "import json\n",
    "import sys\n",
    "sys.path.append('../')\n",
    "from dateutil import parser\n",
    "from infrastructure.instrument_collection import instrumentCollection\n",
    "# from datetime import datetime as datetime\n",
    "from datetime import timedelta, datetime\n",
    "pd.set_option('display.max_columns', None)\n",
    "pd.set_option('expand_frame_repr', False)\n",
    "\n",
    "import pandas as pd\n",
    "import sys\n",
    "from technicals.patterns import apply_patterns\n",
    "from models.trade_decision import TradeDecision\n",
    "\n",
    "from constants import defs\n",
    "from technicals.indicators import BollingerBands\n",
    "sys.path.append(\"../\")\n",
    "from models.tradesettings import TradeSettings"
   ]
  },
  {
   "cell_type": "code",
   "execution_count": 136,
   "id": "d3257b64-4fd6-4248-a11a-7ebdf53d305b",
   "metadata": {},
   "outputs": [],
   "source": [
    "API_KEY = \"69f109a1f4f5cc5df743768870afa57d-7eeba7f9b30b063c75a4c3e6fceeb083\"\n",
    "ACCOUNT_ID = \"101-004-29766214-001\"\n",
    "OANDA_URL = \"https://api-fxpractice.oanda.com/v3\" "
   ]
  },
  {
   "cell_type": "code",
   "execution_count": 137,
   "id": "86fdd423-d03d-4541-85b5-3bdff25a6140",
   "metadata": {},
   "outputs": [],
   "source": [
    "session = requests.Session()"
   ]
  },
  {
   "cell_type": "code",
   "execution_count": 138,
   "id": "66b62c1c-ff7f-4af5-b327-7f66fba503c7",
   "metadata": {},
   "outputs": [],
   "source": [
    "session.headers.update({\"Authorization\": f\"Bearer {API_KEY}\", \"Content-Type\":\"application/json\"})"
   ]
  },
  {
   "cell_type": "code",
   "execution_count": 139,
   "id": "693b4640-de4f-4c76-b705-3bb4535b9115",
   "metadata": {},
   "outputs": [],
   "source": [
    "params = dict(count=10, price=\"MBA\",granularity=\"H1\" )"
   ]
  },
  {
   "cell_type": "code",
   "execution_count": 168,
   "id": "57ac7187-467b-4183-9c77-dd251edb75c6",
   "metadata": {},
   "outputs": [],
   "source": [
    "instrument = \"EUR_JPY\"\n",
    "granularity = \"M1\"\n"
   ]
  },
  {
   "cell_type": "code",
   "execution_count": 169,
   "id": "39d74a0b-4c01-4dc5-9711-ab618f70e594",
   "metadata": {},
   "outputs": [],
   "source": [
    "fileName = f\"my_candles{instrument}_{granularity}.json\"\n",
    "path  = \"../data\"\n",
    "full_path = f'{path}/{fileName}'"
   ]
  },
  {
   "cell_type": "code",
   "execution_count": 170,
   "id": "fcac09a6-ac4c-4f6e-aacf-a3dfe20bfa75",
   "metadata": {},
   "outputs": [],
   "source": [
    "new_df = pd.read_json(full_path)"
   ]
  },
  {
   "cell_type": "code",
   "execution_count": 171,
   "id": "f9b84070-6dfc-49b7-a3a0-01b56f9beafb",
   "metadata": {},
   "outputs": [],
   "source": [
    "df_copy  = new_df.copy() "
   ]
  },
  {
   "cell_type": "code",
   "execution_count": 172,
   "id": "46c52591-72a8-4eac-aae0-ad91591b91b4",
   "metadata": {},
   "outputs": [],
   "source": [
    "# mas =  [10,20,50,100,200]\n",
    "# for i in mas:\n",
    "#     df_an[f'MA_{i}']= df_an['mid_o'].rolling(window=i).mean()\n",
    "# df_an.dropna(inplace=True)"
   ]
  },
  {
   "cell_type": "code",
   "execution_count": 173,
   "id": "c24af86c-5aef-4312-8fff-cfb79b5cc8cf",
   "metadata": {},
   "outputs": [
    {
     "data": {
      "text/html": [
       "<div>\n",
       "<style scoped>\n",
       "    .dataframe tbody tr th:only-of-type {\n",
       "        vertical-align: middle;\n",
       "    }\n",
       "\n",
       "    .dataframe tbody tr th {\n",
       "        vertical-align: top;\n",
       "    }\n",
       "\n",
       "    .dataframe thead th {\n",
       "        text-align: right;\n",
       "    }\n",
       "</style>\n",
       "<table border=\"1\" class=\"dataframe\">\n",
       "  <thead>\n",
       "    <tr style=\"text-align: right;\">\n",
       "      <th></th>\n",
       "      <th>time</th>\n",
       "      <th>mid_o</th>\n",
       "      <th>mid_h</th>\n",
       "      <th>mid_l</th>\n",
       "      <th>mid_c</th>\n",
       "      <th>ask_o</th>\n",
       "      <th>ask_h</th>\n",
       "      <th>ask_l</th>\n",
       "      <th>ask_c</th>\n",
       "      <th>bid_o</th>\n",
       "      <th>bid_h</th>\n",
       "      <th>bid_l</th>\n",
       "      <th>bid_c</th>\n",
       "    </tr>\n",
       "  </thead>\n",
       "  <tbody>\n",
       "    <tr>\n",
       "      <th>0</th>\n",
       "      <td>2024-01-01T22:03:00.000000000Z</td>\n",
       "      <td>155.628</td>\n",
       "      <td>155.628</td>\n",
       "      <td>155.628</td>\n",
       "      <td>155.628</td>\n",
       "      <td>155.703</td>\n",
       "      <td>155.703</td>\n",
       "      <td>155.703</td>\n",
       "      <td>155.703</td>\n",
       "      <td>155.553</td>\n",
       "      <td>155.553</td>\n",
       "      <td>155.553</td>\n",
       "      <td>155.553</td>\n",
       "    </tr>\n",
       "    <tr>\n",
       "      <th>1</th>\n",
       "      <td>2024-01-01T22:05:00.000000000Z</td>\n",
       "      <td>155.659</td>\n",
       "      <td>155.659</td>\n",
       "      <td>155.659</td>\n",
       "      <td>155.659</td>\n",
       "      <td>155.734</td>\n",
       "      <td>155.734</td>\n",
       "      <td>155.734</td>\n",
       "      <td>155.734</td>\n",
       "      <td>155.584</td>\n",
       "      <td>155.584</td>\n",
       "      <td>155.584</td>\n",
       "      <td>155.584</td>\n",
       "    </tr>\n",
       "    <tr>\n",
       "      <th>2</th>\n",
       "      <td>2024-01-01T22:07:00.000000000Z</td>\n",
       "      <td>155.618</td>\n",
       "      <td>155.618</td>\n",
       "      <td>155.608</td>\n",
       "      <td>155.608</td>\n",
       "      <td>155.693</td>\n",
       "      <td>155.693</td>\n",
       "      <td>155.683</td>\n",
       "      <td>155.683</td>\n",
       "      <td>155.543</td>\n",
       "      <td>155.543</td>\n",
       "      <td>155.533</td>\n",
       "      <td>155.533</td>\n",
       "    </tr>\n",
       "    <tr>\n",
       "      <th>3</th>\n",
       "      <td>2024-01-01T22:09:00.000000000Z</td>\n",
       "      <td>155.610</td>\n",
       "      <td>155.610</td>\n",
       "      <td>155.610</td>\n",
       "      <td>155.610</td>\n",
       "      <td>155.682</td>\n",
       "      <td>155.682</td>\n",
       "      <td>155.682</td>\n",
       "      <td>155.682</td>\n",
       "      <td>155.539</td>\n",
       "      <td>155.539</td>\n",
       "      <td>155.539</td>\n",
       "      <td>155.539</td>\n",
       "    </tr>\n",
       "    <tr>\n",
       "      <th>4</th>\n",
       "      <td>2024-01-01T22:10:00.000000000Z</td>\n",
       "      <td>155.610</td>\n",
       "      <td>155.614</td>\n",
       "      <td>155.610</td>\n",
       "      <td>155.613</td>\n",
       "      <td>155.681</td>\n",
       "      <td>155.684</td>\n",
       "      <td>155.673</td>\n",
       "      <td>155.673</td>\n",
       "      <td>155.540</td>\n",
       "      <td>155.553</td>\n",
       "      <td>155.540</td>\n",
       "      <td>155.553</td>\n",
       "    </tr>\n",
       "    <tr>\n",
       "      <th>...</th>\n",
       "      <td>...</td>\n",
       "      <td>...</td>\n",
       "      <td>...</td>\n",
       "      <td>...</td>\n",
       "      <td>...</td>\n",
       "      <td>...</td>\n",
       "      <td>...</td>\n",
       "      <td>...</td>\n",
       "      <td>...</td>\n",
       "      <td>...</td>\n",
       "      <td>...</td>\n",
       "      <td>...</td>\n",
       "      <td>...</td>\n",
       "    </tr>\n",
       "    <tr>\n",
       "      <th>256248</th>\n",
       "      <td>2024-09-06T20:55:00.000000000Z</td>\n",
       "      <td>157.780</td>\n",
       "      <td>157.780</td>\n",
       "      <td>157.722</td>\n",
       "      <td>157.722</td>\n",
       "      <td>157.802</td>\n",
       "      <td>157.805</td>\n",
       "      <td>157.744</td>\n",
       "      <td>157.748</td>\n",
       "      <td>157.759</td>\n",
       "      <td>157.759</td>\n",
       "      <td>157.697</td>\n",
       "      <td>157.697</td>\n",
       "    </tr>\n",
       "    <tr>\n",
       "      <th>256249</th>\n",
       "      <td>2024-09-06T20:56:00.000000000Z</td>\n",
       "      <td>157.724</td>\n",
       "      <td>157.762</td>\n",
       "      <td>157.722</td>\n",
       "      <td>157.732</td>\n",
       "      <td>157.749</td>\n",
       "      <td>157.801</td>\n",
       "      <td>157.743</td>\n",
       "      <td>157.778</td>\n",
       "      <td>157.700</td>\n",
       "      <td>157.738</td>\n",
       "      <td>157.687</td>\n",
       "      <td>157.687</td>\n",
       "    </tr>\n",
       "    <tr>\n",
       "      <th>256250</th>\n",
       "      <td>2024-09-06T20:57:00.000000000Z</td>\n",
       "      <td>157.736</td>\n",
       "      <td>157.776</td>\n",
       "      <td>157.728</td>\n",
       "      <td>157.768</td>\n",
       "      <td>157.777</td>\n",
       "      <td>157.822</td>\n",
       "      <td>157.766</td>\n",
       "      <td>157.815</td>\n",
       "      <td>157.694</td>\n",
       "      <td>157.731</td>\n",
       "      <td>157.685</td>\n",
       "      <td>157.721</td>\n",
       "    </tr>\n",
       "    <tr>\n",
       "      <th>256251</th>\n",
       "      <td>2024-09-06T20:58:00.000000000Z</td>\n",
       "      <td>157.770</td>\n",
       "      <td>157.770</td>\n",
       "      <td>157.742</td>\n",
       "      <td>157.752</td>\n",
       "      <td>157.819</td>\n",
       "      <td>157.822</td>\n",
       "      <td>157.788</td>\n",
       "      <td>157.802</td>\n",
       "      <td>157.721</td>\n",
       "      <td>157.721</td>\n",
       "      <td>157.687</td>\n",
       "      <td>157.703</td>\n",
       "    </tr>\n",
       "    <tr>\n",
       "      <th>256252</th>\n",
       "      <td>2024-09-06T20:59:00.000000000Z</td>\n",
       "      <td>157.754</td>\n",
       "      <td>157.754</td>\n",
       "      <td>157.752</td>\n",
       "      <td>157.754</td>\n",
       "      <td>157.802</td>\n",
       "      <td>157.802</td>\n",
       "      <td>157.802</td>\n",
       "      <td>157.802</td>\n",
       "      <td>157.707</td>\n",
       "      <td>157.707</td>\n",
       "      <td>157.703</td>\n",
       "      <td>157.706</td>\n",
       "    </tr>\n",
       "  </tbody>\n",
       "</table>\n",
       "<p>256253 rows × 13 columns</p>\n",
       "</div>"
      ],
      "text/plain": [
       "                                  time    mid_o    mid_h    mid_l    mid_c    ask_o    ask_h    ask_l    ask_c    bid_o    bid_h    bid_l    bid_c\n",
       "0       2024-01-01T22:03:00.000000000Z  155.628  155.628  155.628  155.628  155.703  155.703  155.703  155.703  155.553  155.553  155.553  155.553\n",
       "1       2024-01-01T22:05:00.000000000Z  155.659  155.659  155.659  155.659  155.734  155.734  155.734  155.734  155.584  155.584  155.584  155.584\n",
       "2       2024-01-01T22:07:00.000000000Z  155.618  155.618  155.608  155.608  155.693  155.693  155.683  155.683  155.543  155.543  155.533  155.533\n",
       "3       2024-01-01T22:09:00.000000000Z  155.610  155.610  155.610  155.610  155.682  155.682  155.682  155.682  155.539  155.539  155.539  155.539\n",
       "4       2024-01-01T22:10:00.000000000Z  155.610  155.614  155.610  155.613  155.681  155.684  155.673  155.673  155.540  155.553  155.540  155.553\n",
       "...                                ...      ...      ...      ...      ...      ...      ...      ...      ...      ...      ...      ...      ...\n",
       "256248  2024-09-06T20:55:00.000000000Z  157.780  157.780  157.722  157.722  157.802  157.805  157.744  157.748  157.759  157.759  157.697  157.697\n",
       "256249  2024-09-06T20:56:00.000000000Z  157.724  157.762  157.722  157.732  157.749  157.801  157.743  157.778  157.700  157.738  157.687  157.687\n",
       "256250  2024-09-06T20:57:00.000000000Z  157.736  157.776  157.728  157.768  157.777  157.822  157.766  157.815  157.694  157.731  157.685  157.721\n",
       "256251  2024-09-06T20:58:00.000000000Z  157.770  157.770  157.742  157.752  157.819  157.822  157.788  157.802  157.721  157.721  157.687  157.703\n",
       "256252  2024-09-06T20:59:00.000000000Z  157.754  157.754  157.752  157.754  157.802  157.802  157.802  157.802  157.707  157.707  157.703  157.706\n",
       "\n",
       "[256253 rows x 13 columns]"
      ]
     },
     "execution_count": 173,
     "metadata": {},
     "output_type": "execute_result"
    }
   ],
   "source": [
    "df_copy"
   ]
  },
  {
   "cell_type": "code",
   "execution_count": 174,
   "id": "4f95193a-26ab-4a84-ae4a-7d492ad9cba6",
   "metadata": {},
   "outputs": [],
   "source": [
    "def apply_SL(row,trade_settings: TradeSettings ):\n",
    "    if row.SIGNAL == defs.BUY:\n",
    "        return row.mid_c - (row.GAIN)\n",
    "    if row.SIGNAL == defs.SELL:\n",
    "        return row.mid_c + (row.GAIN)\n",
    "    return 0.0\n",
    "    # if row.SIGNAL == defs.BUY:\n",
    "    #     return row.mid_c - (row.GAIN/trade_settings.riskreward)\n",
    "    # if row.SIGNAL == defs.SELL:\n",
    "    #     return row.mid_c + (row.GAIN/trade_settings.riskreward)\n",
    "    # return 0.0\n",
    "\n",
    "def apply_TP(row):\n",
    "    if row.SIGNAL == defs.BUY:\n",
    "        return row.mid_c + row.GAIN\n",
    "    if row.SIGNAL == defs.SELL:\n",
    "        return row.mid_c - row.GAIN\n",
    "    return 0.0\n",
    "# def apply_signal(row, tradeSettings:TradeSettings):\n",
    "#     if row.SPREAD <= tradeSettings.maxspread and row.GAIN >= tradeSettings.mingain:\n",
    "#         if row.PREV_CROSS_BB_UP == 1 and row.mid_c < row.BB_UP:\n",
    "#             return defs.SELL\n",
    "#         elif row.mid_c < row.BB_LW and row.mid_o > row.BB_LW:\n",
    "#             return defs.BUY\n",
    "#     return defs.NONE\n",
    "def apply_cross_boll_up(row):\n",
    "    if row.mid_c > row.BB_UP : #and row.mid_o < row.BB_UP:\n",
    "            return 1\n",
    "    else:\n",
    "        return 0\n",
    "def apply_signal(row, tradeSettings:TradeSettings):\n",
    "    if row.SPREAD <= tradeSettings.maxspread and row.GAIN >= tradeSettings.mingain:\n",
    "        if row.mid_c > row.BB_UP and row.mid_o < row.BB_UP:\n",
    "            return defs.SELL\n",
    "        elif row.mid_c < row.BB_LW and row.mid_o > row.BB_LW:\n",
    "            return defs.BUY\n",
    "    return defs.NONE\n"
   ]
  },
  {
   "cell_type": "code",
   "execution_count": 175,
   "id": "eba56e8a-4af0-4ea3-9f21-484b45de6a4c",
   "metadata": {},
   "outputs": [],
   "source": [
    "def process_candles(df: pd.DataFrame, pair, trade_settings: TradeSettings):\n",
    "    df_an = df.copy()\n",
    "    df_an.reset_index(drop=True, inplace=True)\n",
    "    df_an[\"PAIR\"] = pair\n",
    "    df_an[\"SPREAD\"] = df_an.ask_c -df_an.bid_c\n",
    "    df_an = BollingerBands(df_an,trade_settings.n_ma,trade_settings.n_std)\n",
    "    df_an[\"GAIN\"] = (df_an.mid_c - df_an.BB_MA)*0.6\n",
    "    df_an[\"CROSS_BB_UP\"] = df_an.apply(apply_cross_boll_up, axis=1)\n",
    "    df_an[\"PREV_CROSS_BB_UP\"] = df_an[\"CROSS_BB_UP\"].shift(1)\n",
    "    df_an['SIGNAL'] = df_an.apply(apply_signal, axis=1,  args=(trade_settings,))\n",
    "    df_an[\"SL\"] = df_an.apply(apply_SL, axis=1, args=(trade_settings,))\n",
    "    df_an[\"TP\"] = df_an.apply(apply_TP,axis=1)\n",
    "    df_an[\"LOSS\"] = abs(df_an.mid_c - df_an.SL)\n",
    "\n",
    "    log_cols = ['PAIR', 'time', 'mid_c', 'mid_o','BB_UP' ,'BB_MA','BB_LW','SL', 'TP', 'SPREAD', 'GAIN', 'LOSS', 'SIGNAL']\n",
    "\n",
    "    # log_cols = ['PAIR', 'time', 'mid_c', 'mid_o', 'SL', 'TP', 'SPREAD', 'GAIN', 'LOSS', 'SIGNAL']\n",
    "    print(f\"process_candles:\\n{df_an[log_cols].tail()}\", pair)\n",
    "\n",
    "    return  df_an  #df_an[log_cols].iloc[-1]"
   ]
  },
  {
   "cell_type": "code",
   "execution_count": 176,
   "id": "263b7141-264a-4355-8a22-a7b92e985b73",
   "metadata": {},
   "outputs": [],
   "source": [
    "settings = \"\"\n",
    "tradeSettings  = {}\n",
    "trade_risk  = 0\n",
    "granularity  = \"M1\""
   ]
  },
  {
   "cell_type": "code",
   "execution_count": 177,
   "id": "bdff338f-41fa-41da-a2e0-82ed8997d6f0",
   "metadata": {},
   "outputs": [],
   "source": [
    "with open(\"../bot/settings.json\",\"r\") as f:\n",
    "            settings = json.loads(f.read())\n",
    "            tradeSettings  = {k:TradeSettings(k,v) for k,v in settings['trading_pairs'].items()}\n",
    "            trade_risk  = settings['trade_risk']\n",
    "            granularity  = settings['granularity']"
   ]
  },
  {
   "cell_type": "code",
   "execution_count": 178,
   "id": "fb03b998-357f-4144-8f6b-1a46b22209f0",
   "metadata": {},
   "outputs": [
    {
     "data": {
      "text/plain": [
       "{'EUR_USD': {'pair': 'EUR_USD', 'n_ma': 10, 'n_std': 2.0, 'maxspread': 0.0004, 'mingain': 0.0006, 'riskreward': 1.5},\n",
       " 'GBP_JPY': {'pair': 'GBP_JPY', 'n_ma': 10, 'n_std': 2.0, 'maxspread': 0.04, 'mingain': 0.06, 'riskreward': 1.5},\n",
       " 'EUR_JPY': {'pair': 'EUR_JPY', 'n_ma': 10, 'n_std': 2.0, 'maxspread': 0.04, 'mingain': 0.06, 'riskreward': 1.5},\n",
       " 'USD_JPY': {'pair': 'USD_JPY', 'n_ma': 10, 'n_std': 2.0, 'maxspread': 0.04, 'mingain': 0.06, 'riskreward': 1.5},\n",
       " 'GBP_USD': {'pair': 'GBP_USD', 'n_ma': 10, 'n_std': 2.0, 'maxspread': 0.0004, 'mingain': 0.0006, 'riskreward': 1.5},\n",
       " 'EUR_GBP': {'pair': 'EUR_GBP', 'n_ma': 10, 'n_std': 2.0, 'maxspread': 0.0004, 'mingain': 0.0006, 'riskreward': 1.5},\n",
       " 'USD_CAD': {'pair': 'USD_CAD', 'n_ma': 10, 'n_std': 2.0, 'maxspread': 0.0004, 'mingain': 0.0006, 'riskreward': 1.5}}"
      ]
     },
     "execution_count": 178,
     "metadata": {},
     "output_type": "execute_result"
    }
   ],
   "source": [
    "tradeSettings"
   ]
  },
  {
   "cell_type": "code",
   "execution_count": 179,
   "id": "92ecb8f3-d1fa-491c-bd73-10babb053c7d",
   "metadata": {},
   "outputs": [
    {
     "name": "stdout",
     "output_type": "stream",
     "text": [
      "process_candles:\n",
      "           PAIR                            time    mid_c    mid_o       BB_UP       BB_MA       BB_LW   SL   TP  SPREAD     GAIN     LOSS  SIGNAL\n",
      "256248  EUR_JPY  2024-09-06T20:55:00.000000000Z  157.722  157.780  157.790789  157.753433  157.716077  0.0  0.0   0.051 -0.01886  157.722       0\n",
      "256249  EUR_JPY  2024-09-06T20:56:00.000000000Z  157.732  157.724  157.787363  157.755100  157.722837  0.0  0.0   0.091 -0.01386  157.732       0\n",
      "256250  EUR_JPY  2024-09-06T20:57:00.000000000Z  157.768  157.736  157.787866  157.756233  157.724601  0.0  0.0   0.094  0.00706  157.768       0\n",
      "256251  EUR_JPY  2024-09-06T20:58:00.000000000Z  157.752  157.770  157.788060  157.756767  157.725473  0.0  0.0   0.099 -0.00286  157.752       0\n",
      "256252  EUR_JPY  2024-09-06T20:59:00.000000000Z  157.754  157.754  157.786419  157.758500  157.730581  0.0  0.0   0.096 -0.00270  157.754       0 EUR_JPY\n"
     ]
    }
   ],
   "source": [
    "df_an = process_candles(df_copy, instrument, tradeSettings[instrument])"
   ]
  },
  {
   "cell_type": "code",
   "execution_count": 180,
   "id": "3b3db350-0f75-4a02-8426-5cfa2897a1f0",
   "metadata": {},
   "outputs": [
    {
     "data": {
      "text/html": [
       "<div>\n",
       "<style scoped>\n",
       "    .dataframe tbody tr th:only-of-type {\n",
       "        vertical-align: middle;\n",
       "    }\n",
       "\n",
       "    .dataframe tbody tr th {\n",
       "        vertical-align: top;\n",
       "    }\n",
       "\n",
       "    .dataframe thead th {\n",
       "        text-align: right;\n",
       "    }\n",
       "</style>\n",
       "<table border=\"1\" class=\"dataframe\">\n",
       "  <thead>\n",
       "    <tr style=\"text-align: right;\">\n",
       "      <th></th>\n",
       "      <th>time</th>\n",
       "      <th>mid_o</th>\n",
       "      <th>mid_h</th>\n",
       "      <th>mid_l</th>\n",
       "      <th>mid_c</th>\n",
       "      <th>ask_o</th>\n",
       "      <th>ask_h</th>\n",
       "      <th>ask_l</th>\n",
       "      <th>ask_c</th>\n",
       "      <th>bid_o</th>\n",
       "      <th>bid_h</th>\n",
       "      <th>bid_l</th>\n",
       "      <th>bid_c</th>\n",
       "      <th>PAIR</th>\n",
       "      <th>SPREAD</th>\n",
       "      <th>BB_MA</th>\n",
       "      <th>BB_UP</th>\n",
       "      <th>BB_LW</th>\n",
       "      <th>GAIN</th>\n",
       "      <th>CROSS_BB_UP</th>\n",
       "      <th>PREV_CROSS_BB_UP</th>\n",
       "      <th>SIGNAL</th>\n",
       "      <th>SL</th>\n",
       "      <th>TP</th>\n",
       "      <th>LOSS</th>\n",
       "    </tr>\n",
       "  </thead>\n",
       "  <tbody>\n",
       "    <tr>\n",
       "      <th>0</th>\n",
       "      <td>2024-01-01T22:03:00.000000000Z</td>\n",
       "      <td>155.628</td>\n",
       "      <td>155.628</td>\n",
       "      <td>155.628</td>\n",
       "      <td>155.628</td>\n",
       "      <td>155.703</td>\n",
       "      <td>155.703</td>\n",
       "      <td>155.703</td>\n",
       "      <td>155.703</td>\n",
       "      <td>155.553</td>\n",
       "      <td>155.553</td>\n",
       "      <td>155.553</td>\n",
       "      <td>155.553</td>\n",
       "      <td>EUR_JPY</td>\n",
       "      <td>0.150</td>\n",
       "      <td>NaN</td>\n",
       "      <td>NaN</td>\n",
       "      <td>NaN</td>\n",
       "      <td>NaN</td>\n",
       "      <td>0</td>\n",
       "      <td>NaN</td>\n",
       "      <td>0</td>\n",
       "      <td>0.0</td>\n",
       "      <td>0.0</td>\n",
       "      <td>155.628</td>\n",
       "    </tr>\n",
       "    <tr>\n",
       "      <th>1</th>\n",
       "      <td>2024-01-01T22:05:00.000000000Z</td>\n",
       "      <td>155.659</td>\n",
       "      <td>155.659</td>\n",
       "      <td>155.659</td>\n",
       "      <td>155.659</td>\n",
       "      <td>155.734</td>\n",
       "      <td>155.734</td>\n",
       "      <td>155.734</td>\n",
       "      <td>155.734</td>\n",
       "      <td>155.584</td>\n",
       "      <td>155.584</td>\n",
       "      <td>155.584</td>\n",
       "      <td>155.584</td>\n",
       "      <td>EUR_JPY</td>\n",
       "      <td>0.150</td>\n",
       "      <td>NaN</td>\n",
       "      <td>NaN</td>\n",
       "      <td>NaN</td>\n",
       "      <td>NaN</td>\n",
       "      <td>0</td>\n",
       "      <td>0.0</td>\n",
       "      <td>0</td>\n",
       "      <td>0.0</td>\n",
       "      <td>0.0</td>\n",
       "      <td>155.659</td>\n",
       "    </tr>\n",
       "    <tr>\n",
       "      <th>2</th>\n",
       "      <td>2024-01-01T22:07:00.000000000Z</td>\n",
       "      <td>155.618</td>\n",
       "      <td>155.618</td>\n",
       "      <td>155.608</td>\n",
       "      <td>155.608</td>\n",
       "      <td>155.693</td>\n",
       "      <td>155.693</td>\n",
       "      <td>155.683</td>\n",
       "      <td>155.683</td>\n",
       "      <td>155.543</td>\n",
       "      <td>155.543</td>\n",
       "      <td>155.533</td>\n",
       "      <td>155.533</td>\n",
       "      <td>EUR_JPY</td>\n",
       "      <td>0.150</td>\n",
       "      <td>NaN</td>\n",
       "      <td>NaN</td>\n",
       "      <td>NaN</td>\n",
       "      <td>NaN</td>\n",
       "      <td>0</td>\n",
       "      <td>0.0</td>\n",
       "      <td>0</td>\n",
       "      <td>0.0</td>\n",
       "      <td>0.0</td>\n",
       "      <td>155.608</td>\n",
       "    </tr>\n",
       "    <tr>\n",
       "      <th>3</th>\n",
       "      <td>2024-01-01T22:09:00.000000000Z</td>\n",
       "      <td>155.610</td>\n",
       "      <td>155.610</td>\n",
       "      <td>155.610</td>\n",
       "      <td>155.610</td>\n",
       "      <td>155.682</td>\n",
       "      <td>155.682</td>\n",
       "      <td>155.682</td>\n",
       "      <td>155.682</td>\n",
       "      <td>155.539</td>\n",
       "      <td>155.539</td>\n",
       "      <td>155.539</td>\n",
       "      <td>155.539</td>\n",
       "      <td>EUR_JPY</td>\n",
       "      <td>0.143</td>\n",
       "      <td>NaN</td>\n",
       "      <td>NaN</td>\n",
       "      <td>NaN</td>\n",
       "      <td>NaN</td>\n",
       "      <td>0</td>\n",
       "      <td>0.0</td>\n",
       "      <td>0</td>\n",
       "      <td>0.0</td>\n",
       "      <td>0.0</td>\n",
       "      <td>155.610</td>\n",
       "    </tr>\n",
       "    <tr>\n",
       "      <th>4</th>\n",
       "      <td>2024-01-01T22:10:00.000000000Z</td>\n",
       "      <td>155.610</td>\n",
       "      <td>155.614</td>\n",
       "      <td>155.610</td>\n",
       "      <td>155.613</td>\n",
       "      <td>155.681</td>\n",
       "      <td>155.684</td>\n",
       "      <td>155.673</td>\n",
       "      <td>155.673</td>\n",
       "      <td>155.540</td>\n",
       "      <td>155.553</td>\n",
       "      <td>155.540</td>\n",
       "      <td>155.553</td>\n",
       "      <td>EUR_JPY</td>\n",
       "      <td>0.120</td>\n",
       "      <td>NaN</td>\n",
       "      <td>NaN</td>\n",
       "      <td>NaN</td>\n",
       "      <td>NaN</td>\n",
       "      <td>0</td>\n",
       "      <td>0.0</td>\n",
       "      <td>0</td>\n",
       "      <td>0.0</td>\n",
       "      <td>0.0</td>\n",
       "      <td>155.613</td>\n",
       "    </tr>\n",
       "    <tr>\n",
       "      <th>...</th>\n",
       "      <td>...</td>\n",
       "      <td>...</td>\n",
       "      <td>...</td>\n",
       "      <td>...</td>\n",
       "      <td>...</td>\n",
       "      <td>...</td>\n",
       "      <td>...</td>\n",
       "      <td>...</td>\n",
       "      <td>...</td>\n",
       "      <td>...</td>\n",
       "      <td>...</td>\n",
       "      <td>...</td>\n",
       "      <td>...</td>\n",
       "      <td>...</td>\n",
       "      <td>...</td>\n",
       "      <td>...</td>\n",
       "      <td>...</td>\n",
       "      <td>...</td>\n",
       "      <td>...</td>\n",
       "      <td>...</td>\n",
       "      <td>...</td>\n",
       "      <td>...</td>\n",
       "      <td>...</td>\n",
       "      <td>...</td>\n",
       "      <td>...</td>\n",
       "    </tr>\n",
       "    <tr>\n",
       "      <th>256248</th>\n",
       "      <td>2024-09-06T20:55:00.000000000Z</td>\n",
       "      <td>157.780</td>\n",
       "      <td>157.780</td>\n",
       "      <td>157.722</td>\n",
       "      <td>157.722</td>\n",
       "      <td>157.802</td>\n",
       "      <td>157.805</td>\n",
       "      <td>157.744</td>\n",
       "      <td>157.748</td>\n",
       "      <td>157.759</td>\n",
       "      <td>157.759</td>\n",
       "      <td>157.697</td>\n",
       "      <td>157.697</td>\n",
       "      <td>EUR_JPY</td>\n",
       "      <td>0.051</td>\n",
       "      <td>157.753433</td>\n",
       "      <td>157.790789</td>\n",
       "      <td>157.716077</td>\n",
       "      <td>-0.01886</td>\n",
       "      <td>0</td>\n",
       "      <td>0.0</td>\n",
       "      <td>0</td>\n",
       "      <td>0.0</td>\n",
       "      <td>0.0</td>\n",
       "      <td>157.722</td>\n",
       "    </tr>\n",
       "    <tr>\n",
       "      <th>256249</th>\n",
       "      <td>2024-09-06T20:56:00.000000000Z</td>\n",
       "      <td>157.724</td>\n",
       "      <td>157.762</td>\n",
       "      <td>157.722</td>\n",
       "      <td>157.732</td>\n",
       "      <td>157.749</td>\n",
       "      <td>157.801</td>\n",
       "      <td>157.743</td>\n",
       "      <td>157.778</td>\n",
       "      <td>157.700</td>\n",
       "      <td>157.738</td>\n",
       "      <td>157.687</td>\n",
       "      <td>157.687</td>\n",
       "      <td>EUR_JPY</td>\n",
       "      <td>0.091</td>\n",
       "      <td>157.755100</td>\n",
       "      <td>157.787363</td>\n",
       "      <td>157.722837</td>\n",
       "      <td>-0.01386</td>\n",
       "      <td>0</td>\n",
       "      <td>0.0</td>\n",
       "      <td>0</td>\n",
       "      <td>0.0</td>\n",
       "      <td>0.0</td>\n",
       "      <td>157.732</td>\n",
       "    </tr>\n",
       "    <tr>\n",
       "      <th>256250</th>\n",
       "      <td>2024-09-06T20:57:00.000000000Z</td>\n",
       "      <td>157.736</td>\n",
       "      <td>157.776</td>\n",
       "      <td>157.728</td>\n",
       "      <td>157.768</td>\n",
       "      <td>157.777</td>\n",
       "      <td>157.822</td>\n",
       "      <td>157.766</td>\n",
       "      <td>157.815</td>\n",
       "      <td>157.694</td>\n",
       "      <td>157.731</td>\n",
       "      <td>157.685</td>\n",
       "      <td>157.721</td>\n",
       "      <td>EUR_JPY</td>\n",
       "      <td>0.094</td>\n",
       "      <td>157.756233</td>\n",
       "      <td>157.787866</td>\n",
       "      <td>157.724601</td>\n",
       "      <td>0.00706</td>\n",
       "      <td>0</td>\n",
       "      <td>0.0</td>\n",
       "      <td>0</td>\n",
       "      <td>0.0</td>\n",
       "      <td>0.0</td>\n",
       "      <td>157.768</td>\n",
       "    </tr>\n",
       "    <tr>\n",
       "      <th>256251</th>\n",
       "      <td>2024-09-06T20:58:00.000000000Z</td>\n",
       "      <td>157.770</td>\n",
       "      <td>157.770</td>\n",
       "      <td>157.742</td>\n",
       "      <td>157.752</td>\n",
       "      <td>157.819</td>\n",
       "      <td>157.822</td>\n",
       "      <td>157.788</td>\n",
       "      <td>157.802</td>\n",
       "      <td>157.721</td>\n",
       "      <td>157.721</td>\n",
       "      <td>157.687</td>\n",
       "      <td>157.703</td>\n",
       "      <td>EUR_JPY</td>\n",
       "      <td>0.099</td>\n",
       "      <td>157.756767</td>\n",
       "      <td>157.788060</td>\n",
       "      <td>157.725473</td>\n",
       "      <td>-0.00286</td>\n",
       "      <td>0</td>\n",
       "      <td>0.0</td>\n",
       "      <td>0</td>\n",
       "      <td>0.0</td>\n",
       "      <td>0.0</td>\n",
       "      <td>157.752</td>\n",
       "    </tr>\n",
       "    <tr>\n",
       "      <th>256252</th>\n",
       "      <td>2024-09-06T20:59:00.000000000Z</td>\n",
       "      <td>157.754</td>\n",
       "      <td>157.754</td>\n",
       "      <td>157.752</td>\n",
       "      <td>157.754</td>\n",
       "      <td>157.802</td>\n",
       "      <td>157.802</td>\n",
       "      <td>157.802</td>\n",
       "      <td>157.802</td>\n",
       "      <td>157.707</td>\n",
       "      <td>157.707</td>\n",
       "      <td>157.703</td>\n",
       "      <td>157.706</td>\n",
       "      <td>EUR_JPY</td>\n",
       "      <td>0.096</td>\n",
       "      <td>157.758500</td>\n",
       "      <td>157.786419</td>\n",
       "      <td>157.730581</td>\n",
       "      <td>-0.00270</td>\n",
       "      <td>0</td>\n",
       "      <td>0.0</td>\n",
       "      <td>0</td>\n",
       "      <td>0.0</td>\n",
       "      <td>0.0</td>\n",
       "      <td>157.754</td>\n",
       "    </tr>\n",
       "  </tbody>\n",
       "</table>\n",
       "<p>256253 rows × 25 columns</p>\n",
       "</div>"
      ],
      "text/plain": [
       "                                  time    mid_o    mid_h    mid_l    mid_c    ask_o    ask_h    ask_l    ask_c    bid_o    bid_h    bid_l    bid_c     PAIR  SPREAD       BB_MA       BB_UP       BB_LW     GAIN  CROSS_BB_UP  PREV_CROSS_BB_UP  SIGNAL   SL   TP     LOSS\n",
       "0       2024-01-01T22:03:00.000000000Z  155.628  155.628  155.628  155.628  155.703  155.703  155.703  155.703  155.553  155.553  155.553  155.553  EUR_JPY   0.150         NaN         NaN         NaN      NaN            0               NaN       0  0.0  0.0  155.628\n",
       "1       2024-01-01T22:05:00.000000000Z  155.659  155.659  155.659  155.659  155.734  155.734  155.734  155.734  155.584  155.584  155.584  155.584  EUR_JPY   0.150         NaN         NaN         NaN      NaN            0               0.0       0  0.0  0.0  155.659\n",
       "2       2024-01-01T22:07:00.000000000Z  155.618  155.618  155.608  155.608  155.693  155.693  155.683  155.683  155.543  155.543  155.533  155.533  EUR_JPY   0.150         NaN         NaN         NaN      NaN            0               0.0       0  0.0  0.0  155.608\n",
       "3       2024-01-01T22:09:00.000000000Z  155.610  155.610  155.610  155.610  155.682  155.682  155.682  155.682  155.539  155.539  155.539  155.539  EUR_JPY   0.143         NaN         NaN         NaN      NaN            0               0.0       0  0.0  0.0  155.610\n",
       "4       2024-01-01T22:10:00.000000000Z  155.610  155.614  155.610  155.613  155.681  155.684  155.673  155.673  155.540  155.553  155.540  155.553  EUR_JPY   0.120         NaN         NaN         NaN      NaN            0               0.0       0  0.0  0.0  155.613\n",
       "...                                ...      ...      ...      ...      ...      ...      ...      ...      ...      ...      ...      ...      ...      ...     ...         ...         ...         ...      ...          ...               ...     ...  ...  ...      ...\n",
       "256248  2024-09-06T20:55:00.000000000Z  157.780  157.780  157.722  157.722  157.802  157.805  157.744  157.748  157.759  157.759  157.697  157.697  EUR_JPY   0.051  157.753433  157.790789  157.716077 -0.01886            0               0.0       0  0.0  0.0  157.722\n",
       "256249  2024-09-06T20:56:00.000000000Z  157.724  157.762  157.722  157.732  157.749  157.801  157.743  157.778  157.700  157.738  157.687  157.687  EUR_JPY   0.091  157.755100  157.787363  157.722837 -0.01386            0               0.0       0  0.0  0.0  157.732\n",
       "256250  2024-09-06T20:57:00.000000000Z  157.736  157.776  157.728  157.768  157.777  157.822  157.766  157.815  157.694  157.731  157.685  157.721  EUR_JPY   0.094  157.756233  157.787866  157.724601  0.00706            0               0.0       0  0.0  0.0  157.768\n",
       "256251  2024-09-06T20:58:00.000000000Z  157.770  157.770  157.742  157.752  157.819  157.822  157.788  157.802  157.721  157.721  157.687  157.703  EUR_JPY   0.099  157.756767  157.788060  157.725473 -0.00286            0               0.0       0  0.0  0.0  157.752\n",
       "256252  2024-09-06T20:59:00.000000000Z  157.754  157.754  157.752  157.754  157.802  157.802  157.802  157.802  157.707  157.707  157.703  157.706  EUR_JPY   0.096  157.758500  157.786419  157.730581 -0.00270            0               0.0       0  0.0  0.0  157.754\n",
       "\n",
       "[256253 rows x 25 columns]"
      ]
     },
     "execution_count": 180,
     "metadata": {},
     "output_type": "execute_result"
    }
   ],
   "source": [
    "df_an"
   ]
  },
  {
   "cell_type": "code",
   "execution_count": 181,
   "id": "6afc091c-b1f2-42ee-996f-ac342005ae44",
   "metadata": {},
   "outputs": [
    {
     "data": {
      "text/html": [
       "<div>\n",
       "<style scoped>\n",
       "    .dataframe tbody tr th:only-of-type {\n",
       "        vertical-align: middle;\n",
       "    }\n",
       "\n",
       "    .dataframe tbody tr th {\n",
       "        vertical-align: top;\n",
       "    }\n",
       "\n",
       "    .dataframe thead th {\n",
       "        text-align: right;\n",
       "    }\n",
       "</style>\n",
       "<table border=\"1\" class=\"dataframe\">\n",
       "  <thead>\n",
       "    <tr style=\"text-align: right;\">\n",
       "      <th></th>\n",
       "      <th>time</th>\n",
       "      <th>mid_o</th>\n",
       "      <th>mid_h</th>\n",
       "      <th>mid_l</th>\n",
       "      <th>mid_c</th>\n",
       "      <th>ask_o</th>\n",
       "      <th>ask_h</th>\n",
       "      <th>ask_l</th>\n",
       "      <th>ask_c</th>\n",
       "      <th>bid_o</th>\n",
       "      <th>bid_h</th>\n",
       "      <th>bid_l</th>\n",
       "      <th>bid_c</th>\n",
       "      <th>PAIR</th>\n",
       "      <th>SPREAD</th>\n",
       "      <th>BB_MA</th>\n",
       "      <th>BB_UP</th>\n",
       "      <th>BB_LW</th>\n",
       "      <th>GAIN</th>\n",
       "      <th>CROSS_BB_UP</th>\n",
       "      <th>PREV_CROSS_BB_UP</th>\n",
       "      <th>SIGNAL</th>\n",
       "      <th>SL</th>\n",
       "      <th>TP</th>\n",
       "      <th>LOSS</th>\n",
       "    </tr>\n",
       "  </thead>\n",
       "  <tbody>\n",
       "    <tr>\n",
       "      <th>100</th>\n",
       "      <td>2024-01-01T23:48:00.000000000Z</td>\n",
       "      <td>155.638</td>\n",
       "      <td>155.730</td>\n",
       "      <td>155.638</td>\n",
       "      <td>155.728</td>\n",
       "      <td>155.651</td>\n",
       "      <td>155.744</td>\n",
       "      <td>155.651</td>\n",
       "      <td>155.742</td>\n",
       "      <td>155.625</td>\n",
       "      <td>155.717</td>\n",
       "      <td>155.625</td>\n",
       "      <td>155.715</td>\n",
       "      <td>EUR_JPY</td>\n",
       "      <td>0.027</td>\n",
       "      <td>155.610133</td>\n",
       "      <td>155.677233</td>\n",
       "      <td>155.543034</td>\n",
       "      <td>0.07072</td>\n",
       "      <td>1</td>\n",
       "      <td>1.0</td>\n",
       "      <td>-1</td>\n",
       "      <td>155.79872</td>\n",
       "      <td>155.65728</td>\n",
       "      <td>0.07072</td>\n",
       "    </tr>\n",
       "    <tr>\n",
       "      <th>265</th>\n",
       "      <td>2024-01-02T02:33:00.000000000Z</td>\n",
       "      <td>156.034</td>\n",
       "      <td>156.194</td>\n",
       "      <td>156.022</td>\n",
       "      <td>156.142</td>\n",
       "      <td>156.044</td>\n",
       "      <td>156.203</td>\n",
       "      <td>156.031</td>\n",
       "      <td>156.149</td>\n",
       "      <td>156.023</td>\n",
       "      <td>156.184</td>\n",
       "      <td>156.012</td>\n",
       "      <td>156.134</td>\n",
       "      <td>EUR_JPY</td>\n",
       "      <td>0.015</td>\n",
       "      <td>155.953967</td>\n",
       "      <td>156.090401</td>\n",
       "      <td>155.817532</td>\n",
       "      <td>0.11282</td>\n",
       "      <td>1</td>\n",
       "      <td>1.0</td>\n",
       "      <td>-1</td>\n",
       "      <td>156.25482</td>\n",
       "      <td>156.02918</td>\n",
       "      <td>0.11282</td>\n",
       "    </tr>\n",
       "    <tr>\n",
       "      <th>730</th>\n",
       "      <td>2024-01-02T10:18:00.000000000Z</td>\n",
       "      <td>155.900</td>\n",
       "      <td>155.965</td>\n",
       "      <td>155.896</td>\n",
       "      <td>155.965</td>\n",
       "      <td>155.910</td>\n",
       "      <td>155.976</td>\n",
       "      <td>155.905</td>\n",
       "      <td>155.976</td>\n",
       "      <td>155.890</td>\n",
       "      <td>155.954</td>\n",
       "      <td>155.887</td>\n",
       "      <td>155.954</td>\n",
       "      <td>EUR_JPY</td>\n",
       "      <td>0.022</td>\n",
       "      <td>155.861833</td>\n",
       "      <td>155.940986</td>\n",
       "      <td>155.782681</td>\n",
       "      <td>0.06190</td>\n",
       "      <td>1</td>\n",
       "      <td>0.0</td>\n",
       "      <td>-1</td>\n",
       "      <td>156.02690</td>\n",
       "      <td>155.90310</td>\n",
       "      <td>0.06190</td>\n",
       "    </tr>\n",
       "    <tr>\n",
       "      <th>862</th>\n",
       "      <td>2024-01-02T12:30:00.000000000Z</td>\n",
       "      <td>155.778</td>\n",
       "      <td>155.880</td>\n",
       "      <td>155.775</td>\n",
       "      <td>155.878</td>\n",
       "      <td>155.787</td>\n",
       "      <td>155.889</td>\n",
       "      <td>155.785</td>\n",
       "      <td>155.888</td>\n",
       "      <td>155.769</td>\n",
       "      <td>155.870</td>\n",
       "      <td>155.765</td>\n",
       "      <td>155.869</td>\n",
       "      <td>EUR_JPY</td>\n",
       "      <td>0.019</td>\n",
       "      <td>155.771833</td>\n",
       "      <td>155.831899</td>\n",
       "      <td>155.711767</td>\n",
       "      <td>0.06370</td>\n",
       "      <td>1</td>\n",
       "      <td>0.0</td>\n",
       "      <td>-1</td>\n",
       "      <td>155.94170</td>\n",
       "      <td>155.81430</td>\n",
       "      <td>0.06370</td>\n",
       "    </tr>\n",
       "    <tr>\n",
       "      <th>1052</th>\n",
       "      <td>2024-01-02T15:40:00.000000000Z</td>\n",
       "      <td>155.382</td>\n",
       "      <td>155.458</td>\n",
       "      <td>155.382</td>\n",
       "      <td>155.458</td>\n",
       "      <td>155.392</td>\n",
       "      <td>155.469</td>\n",
       "      <td>155.392</td>\n",
       "      <td>155.469</td>\n",
       "      <td>155.372</td>\n",
       "      <td>155.447</td>\n",
       "      <td>155.372</td>\n",
       "      <td>155.447</td>\n",
       "      <td>EUR_JPY</td>\n",
       "      <td>0.022</td>\n",
       "      <td>155.322700</td>\n",
       "      <td>155.434000</td>\n",
       "      <td>155.211400</td>\n",
       "      <td>0.08118</td>\n",
       "      <td>1</td>\n",
       "      <td>0.0</td>\n",
       "      <td>-1</td>\n",
       "      <td>155.53918</td>\n",
       "      <td>155.37682</td>\n",
       "      <td>0.08118</td>\n",
       "    </tr>\n",
       "    <tr>\n",
       "      <th>...</th>\n",
       "      <td>...</td>\n",
       "      <td>...</td>\n",
       "      <td>...</td>\n",
       "      <td>...</td>\n",
       "      <td>...</td>\n",
       "      <td>...</td>\n",
       "      <td>...</td>\n",
       "      <td>...</td>\n",
       "      <td>...</td>\n",
       "      <td>...</td>\n",
       "      <td>...</td>\n",
       "      <td>...</td>\n",
       "      <td>...</td>\n",
       "      <td>...</td>\n",
       "      <td>...</td>\n",
       "      <td>...</td>\n",
       "      <td>...</td>\n",
       "      <td>...</td>\n",
       "      <td>...</td>\n",
       "      <td>...</td>\n",
       "      <td>...</td>\n",
       "      <td>...</td>\n",
       "      <td>...</td>\n",
       "      <td>...</td>\n",
       "      <td>...</td>\n",
       "    </tr>\n",
       "    <tr>\n",
       "      <th>255948</th>\n",
       "      <td>2024-09-06T15:55:00.000000000Z</td>\n",
       "      <td>157.648</td>\n",
       "      <td>157.744</td>\n",
       "      <td>157.646</td>\n",
       "      <td>157.741</td>\n",
       "      <td>157.659</td>\n",
       "      <td>157.756</td>\n",
       "      <td>157.656</td>\n",
       "      <td>157.751</td>\n",
       "      <td>157.637</td>\n",
       "      <td>157.734</td>\n",
       "      <td>157.636</td>\n",
       "      <td>157.731</td>\n",
       "      <td>EUR_JPY</td>\n",
       "      <td>0.020</td>\n",
       "      <td>157.573567</td>\n",
       "      <td>157.692435</td>\n",
       "      <td>157.454698</td>\n",
       "      <td>0.10046</td>\n",
       "      <td>1</td>\n",
       "      <td>1.0</td>\n",
       "      <td>-1</td>\n",
       "      <td>157.84146</td>\n",
       "      <td>157.64054</td>\n",
       "      <td>0.10046</td>\n",
       "    </tr>\n",
       "    <tr>\n",
       "      <th>255978</th>\n",
       "      <td>2024-09-06T16:25:00.000000000Z</td>\n",
       "      <td>157.940</td>\n",
       "      <td>157.984</td>\n",
       "      <td>157.924</td>\n",
       "      <td>157.978</td>\n",
       "      <td>157.952</td>\n",
       "      <td>157.993</td>\n",
       "      <td>157.933</td>\n",
       "      <td>157.989</td>\n",
       "      <td>157.928</td>\n",
       "      <td>157.977</td>\n",
       "      <td>157.914</td>\n",
       "      <td>157.967</td>\n",
       "      <td>EUR_JPY</td>\n",
       "      <td>0.022</td>\n",
       "      <td>157.868167</td>\n",
       "      <td>157.963928</td>\n",
       "      <td>157.772405</td>\n",
       "      <td>0.06590</td>\n",
       "      <td>1</td>\n",
       "      <td>1.0</td>\n",
       "      <td>-1</td>\n",
       "      <td>158.04390</td>\n",
       "      <td>157.91210</td>\n",
       "      <td>0.06590</td>\n",
       "    </tr>\n",
       "    <tr>\n",
       "      <th>255979</th>\n",
       "      <td>2024-09-06T16:26:00.000000000Z</td>\n",
       "      <td>157.975</td>\n",
       "      <td>158.034</td>\n",
       "      <td>157.964</td>\n",
       "      <td>158.024</td>\n",
       "      <td>157.985</td>\n",
       "      <td>158.044</td>\n",
       "      <td>157.974</td>\n",
       "      <td>158.033</td>\n",
       "      <td>157.965</td>\n",
       "      <td>158.025</td>\n",
       "      <td>157.954</td>\n",
       "      <td>158.016</td>\n",
       "      <td>EUR_JPY</td>\n",
       "      <td>0.017</td>\n",
       "      <td>157.884833</td>\n",
       "      <td>158.012141</td>\n",
       "      <td>157.757525</td>\n",
       "      <td>0.08350</td>\n",
       "      <td>1</td>\n",
       "      <td>1.0</td>\n",
       "      <td>-1</td>\n",
       "      <td>158.10750</td>\n",
       "      <td>157.94050</td>\n",
       "      <td>0.08350</td>\n",
       "    </tr>\n",
       "    <tr>\n",
       "      <th>256014</th>\n",
       "      <td>2024-09-06T17:01:00.000000000Z</td>\n",
       "      <td>157.770</td>\n",
       "      <td>157.880</td>\n",
       "      <td>157.769</td>\n",
       "      <td>157.874</td>\n",
       "      <td>157.779</td>\n",
       "      <td>157.893</td>\n",
       "      <td>157.777</td>\n",
       "      <td>157.884</td>\n",
       "      <td>157.760</td>\n",
       "      <td>157.870</td>\n",
       "      <td>157.760</td>\n",
       "      <td>157.865</td>\n",
       "      <td>EUR_JPY</td>\n",
       "      <td>0.019</td>\n",
       "      <td>157.750467</td>\n",
       "      <td>157.842043</td>\n",
       "      <td>157.658890</td>\n",
       "      <td>0.07412</td>\n",
       "      <td>1</td>\n",
       "      <td>0.0</td>\n",
       "      <td>-1</td>\n",
       "      <td>157.94812</td>\n",
       "      <td>157.79988</td>\n",
       "      <td>0.07412</td>\n",
       "    </tr>\n",
       "    <tr>\n",
       "      <th>256068</th>\n",
       "      <td>2024-09-06T17:55:00.000000000Z</td>\n",
       "      <td>157.890</td>\n",
       "      <td>157.945</td>\n",
       "      <td>157.868</td>\n",
       "      <td>157.919</td>\n",
       "      <td>157.897</td>\n",
       "      <td>157.957</td>\n",
       "      <td>157.878</td>\n",
       "      <td>157.931</td>\n",
       "      <td>157.882</td>\n",
       "      <td>157.934</td>\n",
       "      <td>157.856</td>\n",
       "      <td>157.907</td>\n",
       "      <td>EUR_JPY</td>\n",
       "      <td>0.024</td>\n",
       "      <td>157.812933</td>\n",
       "      <td>157.898420</td>\n",
       "      <td>157.727447</td>\n",
       "      <td>0.06364</td>\n",
       "      <td>1</td>\n",
       "      <td>1.0</td>\n",
       "      <td>-1</td>\n",
       "      <td>157.98264</td>\n",
       "      <td>157.85536</td>\n",
       "      <td>0.06364</td>\n",
       "    </tr>\n",
       "  </tbody>\n",
       "</table>\n",
       "<p>1320 rows × 25 columns</p>\n",
       "</div>"
      ],
      "text/plain": [
       "                                  time    mid_o    mid_h    mid_l    mid_c    ask_o    ask_h    ask_l    ask_c    bid_o    bid_h    bid_l    bid_c     PAIR  SPREAD       BB_MA       BB_UP       BB_LW     GAIN  CROSS_BB_UP  PREV_CROSS_BB_UP  SIGNAL         SL         TP     LOSS\n",
       "100     2024-01-01T23:48:00.000000000Z  155.638  155.730  155.638  155.728  155.651  155.744  155.651  155.742  155.625  155.717  155.625  155.715  EUR_JPY   0.027  155.610133  155.677233  155.543034  0.07072            1               1.0      -1  155.79872  155.65728  0.07072\n",
       "265     2024-01-02T02:33:00.000000000Z  156.034  156.194  156.022  156.142  156.044  156.203  156.031  156.149  156.023  156.184  156.012  156.134  EUR_JPY   0.015  155.953967  156.090401  155.817532  0.11282            1               1.0      -1  156.25482  156.02918  0.11282\n",
       "730     2024-01-02T10:18:00.000000000Z  155.900  155.965  155.896  155.965  155.910  155.976  155.905  155.976  155.890  155.954  155.887  155.954  EUR_JPY   0.022  155.861833  155.940986  155.782681  0.06190            1               0.0      -1  156.02690  155.90310  0.06190\n",
       "862     2024-01-02T12:30:00.000000000Z  155.778  155.880  155.775  155.878  155.787  155.889  155.785  155.888  155.769  155.870  155.765  155.869  EUR_JPY   0.019  155.771833  155.831899  155.711767  0.06370            1               0.0      -1  155.94170  155.81430  0.06370\n",
       "1052    2024-01-02T15:40:00.000000000Z  155.382  155.458  155.382  155.458  155.392  155.469  155.392  155.469  155.372  155.447  155.372  155.447  EUR_JPY   0.022  155.322700  155.434000  155.211400  0.08118            1               0.0      -1  155.53918  155.37682  0.08118\n",
       "...                                ...      ...      ...      ...      ...      ...      ...      ...      ...      ...      ...      ...      ...      ...     ...         ...         ...         ...      ...          ...               ...     ...        ...        ...      ...\n",
       "255948  2024-09-06T15:55:00.000000000Z  157.648  157.744  157.646  157.741  157.659  157.756  157.656  157.751  157.637  157.734  157.636  157.731  EUR_JPY   0.020  157.573567  157.692435  157.454698  0.10046            1               1.0      -1  157.84146  157.64054  0.10046\n",
       "255978  2024-09-06T16:25:00.000000000Z  157.940  157.984  157.924  157.978  157.952  157.993  157.933  157.989  157.928  157.977  157.914  157.967  EUR_JPY   0.022  157.868167  157.963928  157.772405  0.06590            1               1.0      -1  158.04390  157.91210  0.06590\n",
       "255979  2024-09-06T16:26:00.000000000Z  157.975  158.034  157.964  158.024  157.985  158.044  157.974  158.033  157.965  158.025  157.954  158.016  EUR_JPY   0.017  157.884833  158.012141  157.757525  0.08350            1               1.0      -1  158.10750  157.94050  0.08350\n",
       "256014  2024-09-06T17:01:00.000000000Z  157.770  157.880  157.769  157.874  157.779  157.893  157.777  157.884  157.760  157.870  157.760  157.865  EUR_JPY   0.019  157.750467  157.842043  157.658890  0.07412            1               0.0      -1  157.94812  157.79988  0.07412\n",
       "256068  2024-09-06T17:55:00.000000000Z  157.890  157.945  157.868  157.919  157.897  157.957  157.878  157.931  157.882  157.934  157.856  157.907  EUR_JPY   0.024  157.812933  157.898420  157.727447  0.06364            1               1.0      -1  157.98264  157.85536  0.06364\n",
       "\n",
       "[1320 rows x 25 columns]"
      ]
     },
     "execution_count": 181,
     "metadata": {},
     "output_type": "execute_result"
    }
   ],
   "source": [
    "df_an.loc[df_an.SIGNAL != 0]    #.iloc[-50:]"
   ]
  },
  {
   "cell_type": "code",
   "execution_count": 182,
   "id": "999e6806-39cb-4762-a50f-1fb74268e950",
   "metadata": {},
   "outputs": [],
   "source": [
    "open_trades = []\n",
    "lost_trades = []\n",
    "profitable_trades = []\n",
    "BUY=1\n",
    "SELL = -1\n",
    "NONE = 0"
   ]
  },
  {
   "cell_type": "code",
   "execution_count": 183,
   "id": "72b49f4a-5195-4ed6-8fea-73978d5d284f",
   "metadata": {},
   "outputs": [],
   "source": [
    "def update(idx,trade_decision, row,lost_trades,profitable_trades):\n",
    "        if trade_decision.signal == BUY:\n",
    "            if row.bid_h >= trade_decision.tp:\n",
    "                profitable_trades.append(trade_decision)\n",
    "                del open_trades[idx]\n",
    "            elif row.bid_l <= trade_decision.tp:\n",
    "                lost_trades.append(trade_decision)\n",
    "                del open_trades[idx]\n",
    "        if trade_decision.signal == SELL:\n",
    "            if row.ask_l <= trade_decision.tp:\n",
    "                profitable_trades.append(trade_decision)\n",
    "                del open_trades[idx]\n",
    "            elif row.ask_h >= trade_decision.sl:\n",
    "                lost_trades.append(trade_decision)\n",
    "                del open_trades[idx]"
   ]
  },
  {
   "cell_type": "code",
   "execution_count": 184,
   "id": "cc5a5035-31a6-4615-8c3f-a1c3e9aeb51f",
   "metadata": {},
   "outputs": [],
   "source": [
    "\n",
    "for index, row in df_an.iterrows():\n",
    "    \n",
    "    if row.SIGNAL != 0:\n",
    "        open_trades.append(TradeDecision(row,index))  \n",
    "        \n",
    "    for idx,ot in enumerate(open_trades):\n",
    "        update(idx,ot, row,lost_trades,profitable_trades)\n",
    "       "
   ]
  },
  {
   "cell_type": "code",
   "execution_count": 185,
   "id": "7b0751e5-9732-45c9-b13e-d62f6d8b0280",
   "metadata": {},
   "outputs": [
    {
     "data": {
      "text/plain": [
       "481"
      ]
     },
     "execution_count": 185,
     "metadata": {},
     "output_type": "execute_result"
    }
   ],
   "source": [
    "len(lost_trades)\n"
   ]
  },
  {
   "cell_type": "code",
   "execution_count": 186,
   "id": "624417bd-7f5c-4bc9-ba3b-196b4d47b2d6",
   "metadata": {},
   "outputs": [
    {
     "data": {
      "text/plain": [
       "42.79175999999981"
      ]
     },
     "execution_count": 186,
     "metadata": {},
     "output_type": "execute_result"
    }
   ],
   "source": [
    "loss=0\n",
    "for i in lost_trades:\n",
    "    loss += i.loss\n",
    "loss"
   ]
  },
  {
   "cell_type": "code",
   "execution_count": 187,
   "id": "9ad77fc7-bdba-4a96-b406-a7379e565feb",
   "metadata": {},
   "outputs": [
    {
     "data": {
      "text/plain": [
       "839"
      ]
     },
     "execution_count": 187,
     "metadata": {},
     "output_type": "execute_result"
    }
   ],
   "source": [
    "len(profitable_trades)"
   ]
  },
  {
   "cell_type": "code",
   "execution_count": 188,
   "id": "71b8db62-7d3e-4ced-9099-2fc474ce433f",
   "metadata": {},
   "outputs": [
    {
     "data": {
      "text/plain": [
       "79.80064000000003"
      ]
     },
     "execution_count": 188,
     "metadata": {},
     "output_type": "execute_result"
    }
   ],
   "source": [
    "profit=0\n",
    "for i in profitable_trades:\n",
    "    profit += i.gain\n",
    "profit"
   ]
  },
  {
   "cell_type": "code",
   "execution_count": 198,
   "id": "5759490b-f403-405a-be74-3040c68f6d28",
   "metadata": {},
   "outputs": [
    {
     "data": {
      "text/plain": [
       "(37.00888000000022,\n",
       " 'EUR_JPY',\n",
       " '2024-01-01T22:05:00.000000000Z',\n",
       " '2024-09-06T20:59:00.000000000Z',\n",
       " 0.6356060606060606,\n",
       " 1.7442827442827442)"
      ]
     },
     "execution_count": 198,
     "metadata": {},
     "output_type": "execute_result"
    }
   ],
   "source": [
    "# 0.01390072727272704\n",
    "# 0.014326399999999849 ...10\n",
    "# 0.012350888888888531  ...9\n",
    " \n",
    "reward = profit-loss\n",
    "efficiency = len(profitable_trades)/(len(lost_trades)+len(profitable_trades))\n",
    "win_loss = len(profitable_trades)/(len(lost_trades))\n",
    "reward ,instrument,df_copy.iloc[1].time,df_copy.iloc[-1].time,efficiency,win_loss"
   ]
  },
  {
   "cell_type": "code",
   "execution_count": 190,
   "id": "e93b28e4-77a2-4c3a-9b1c-ea2fe27e5519",
   "metadata": {},
   "outputs": [
    {
     "data": {
      "text/plain": [
       "0"
      ]
     },
     "execution_count": 190,
     "metadata": {},
     "output_type": "execute_result"
    }
   ],
   "source": [
    "# 0.005422944444444289 ...12\n",
    "# 0.012095066666666597 ...10\n",
    "# 0.011189999999999764 ...9\n",
    "# 0.8030999999999011\n",
    "# 0.7899833333334421\n",
    "len(open_trades)"
   ]
  },
  {
   "cell_type": "code",
   "execution_count": 191,
   "id": "a1dc2f08-3e1d-4eb3-9bd8-7af339abfb39",
   "metadata": {},
   "outputs": [
    {
     "name": "stdout",
     "output_type": "stream",
     "text": [
      "TradeDecision():2467 EUR_JPY dir:-1 gain:0.0671 loss:0.0671 sl:156.5431  tp:156.4089\n",
      "TradeDecision():3013 EUR_JPY dir:-1 gain:0.0635 loss:0.0635 sl:156.4145  tp:156.2875\n",
      "TradeDecision():3476 EUR_JPY dir:-1 gain:0.0813 loss:0.0813 sl:157.1593  tp:156.9967\n",
      "TradeDecision():3477 EUR_JPY dir:-1 gain:0.0930 loss:0.0930 sl:157.2170  tp:157.0310\n",
      "TradeDecision():3516 EUR_JPY dir:-1 gain:0.0847 loss:0.0847 sl:157.3487  tp:157.1793\n",
      "TradeDecision():3582 EUR_JPY dir:-1 gain:0.0809 loss:0.0809 sl:157.9789  tp:157.8171\n",
      "TradeDecision():4799 EUR_JPY dir:-1 gain:0.0679 loss:0.0679 sl:158.6599  tp:158.5241\n",
      "TradeDecision():4976 EUR_JPY dir:-1 gain:0.0746 loss:0.0746 sl:158.5506  tp:158.4014\n",
      "TradeDecision():7734 EUR_JPY dir:-1 gain:0.0676 loss:0.0676 sl:157.9036  tp:157.7684\n",
      "TradeDecision():8215 EUR_JPY dir:-1 gain:0.1177 loss:0.1177 sl:157.6997  tp:157.4643\n",
      "TradeDecision():8784 EUR_JPY dir:-1 gain:0.0737 loss:0.0737 sl:158.2497  tp:158.1023\n",
      "TradeDecision():9631 EUR_JPY dir:-1 gain:0.0730 loss:0.0730 sl:159.4360  tp:159.2900\n",
      "TradeDecision():10812 EUR_JPY dir:-1 gain:0.0657 loss:0.0657 sl:159.6847  tp:159.5533\n",
      "TradeDecision():10988 EUR_JPY dir:-1 gain:0.0841 loss:0.0841 sl:160.0741  tp:159.9059\n",
      "TradeDecision():10989 EUR_JPY dir:-1 gain:0.1070 loss:0.1070 sl:160.1560  tp:159.9420\n",
      "TradeDecision():12369 EUR_JPY dir:-1 gain:0.0768 loss:0.0768 sl:159.2668  tp:159.1132\n",
      "TradeDecision():12522 EUR_JPY dir:-1 gain:0.0633 loss:0.0633 sl:158.8953  tp:158.7687\n",
      "TradeDecision():13442 EUR_JPY dir:-1 gain:0.0669 loss:0.0669 sl:159.5069  tp:159.3731\n",
      "TradeDecision():13739 EUR_JPY dir:-1 gain:0.0730 loss:0.0730 sl:159.6730  tp:159.5270\n",
      "TradeDecision():15361 EUR_JPY dir:-1 gain:0.0607 loss:0.0607 sl:159.6827  tp:159.5613\n",
      "TradeDecision():15404 EUR_JPY dir:-1 gain:0.0608 loss:0.0608 sl:159.8568  tp:159.7352\n",
      "TradeDecision():15412 EUR_JPY dir:-1 gain:0.0618 loss:0.0618 sl:159.9978  tp:159.8742\n",
      "TradeDecision():16216 EUR_JPY dir:-1 gain:0.0676 loss:0.0676 sl:160.4156  tp:160.2804\n",
      "TradeDecision():16298 EUR_JPY dir:-1 gain:0.0642 loss:0.0642 sl:160.6622  tp:160.5338\n",
      "TradeDecision():16779 EUR_JPY dir:-1 gain:0.0715 loss:0.0715 sl:161.1525  tp:161.0095\n",
      "TradeDecision():18823 EUR_JPY dir:-1 gain:0.0679 loss:0.0679 sl:161.3209  tp:161.1851\n",
      "TradeDecision():22072 EUR_JPY dir:-1 gain:0.0663 loss:0.0663 sl:161.1213  tp:160.9887\n",
      "TradeDecision():23994 EUR_JPY dir:-1 gain:0.0685 loss:0.0685 sl:160.2545  tp:160.1175\n",
      "TradeDecision():24005 EUR_JPY dir:-1 gain:0.0601 loss:0.0601 sl:160.3521  tp:160.2319\n",
      "TradeDecision():24033 EUR_JPY dir:-1 gain:0.0609 loss:0.0609 sl:160.6489  tp:160.5271\n",
      "TradeDecision():24034 EUR_JPY dir:-1 gain:0.0675 loss:0.0675 sl:160.6875  tp:160.5525\n",
      "TradeDecision():25337 EUR_JPY dir:-1 gain:0.0614 loss:0.0614 sl:160.0174  tp:159.8946\n",
      "TradeDecision():26454 EUR_JPY dir:-1 gain:0.0794 loss:0.0794 sl:160.4794  tp:160.3206\n",
      "TradeDecision():26455 EUR_JPY dir:-1 gain:0.0925 loss:0.0925 sl:160.5345  tp:160.3495\n",
      "TradeDecision():29251 EUR_JPY dir:-1 gain:0.1054 loss:0.1054 sl:159.6274  tp:159.4166\n",
      "TradeDecision():29670 EUR_JPY dir:-1 gain:0.0718 loss:0.0718 sl:159.8848  tp:159.7412\n",
      "TradeDecision():29671 EUR_JPY dir:-1 gain:0.1020 loss:0.1020 sl:159.9790  tp:159.7750\n",
      "TradeDecision():30797 EUR_JPY dir:-1 gain:0.0971 loss:0.0971 sl:160.0211  tp:159.8269\n",
      "TradeDecision():31405 EUR_JPY dir:-1 gain:0.1434 loss:0.1434 sl:159.0764  tp:158.7896\n",
      "TradeDecision():31424 EUR_JPY dir:-1 gain:0.0750 loss:0.0750 sl:159.0870  tp:158.9370\n",
      "TradeDecision():31425 EUR_JPY dir:-1 gain:0.1084 loss:0.1084 sl:159.1944  tp:158.9776\n",
      "TradeDecision():31426 EUR_JPY dir:-1 gain:0.1102 loss:0.1102 sl:159.2222  tp:159.0018\n",
      "TradeDecision():31701 EUR_JPY dir:-1 gain:0.0735 loss:0.0735 sl:158.7935  tp:158.6465\n",
      "TradeDecision():32184 EUR_JPY dir:-1 gain:0.0821 loss:0.0821 sl:158.4611  tp:158.2969\n",
      "TradeDecision():32545 EUR_JPY dir:-1 gain:0.0706 loss:0.0706 sl:158.8286  tp:158.6874\n",
      "TradeDecision():32616 EUR_JPY dir:-1 gain:0.0604 loss:0.0604 sl:158.5704  tp:158.4496\n",
      "TradeDecision():32649 EUR_JPY dir:-1 gain:0.0871 loss:0.0871 sl:158.8451  tp:158.6709\n",
      "TradeDecision():33888 EUR_JPY dir:-1 gain:0.0741 loss:0.0741 sl:159.9251  tp:159.7769\n",
      "TradeDecision():33955 EUR_JPY dir:-1 gain:0.0751 loss:0.0751 sl:159.8191  tp:159.6689\n",
      "TradeDecision():33956 EUR_JPY dir:-1 gain:0.0964 loss:0.0964 sl:159.8944  tp:159.7016\n",
      "TradeDecision():38269 EUR_JPY dir:-1 gain:0.0675 loss:0.0675 sl:159.4075  tp:159.2725\n",
      "TradeDecision():38889 EUR_JPY dir:-1 gain:0.1267 loss:0.1267 sl:159.9127  tp:159.6593\n",
      "TradeDecision():38912 EUR_JPY dir:-1 gain:0.0608 loss:0.0608 sl:159.9048  tp:159.7832\n",
      "TradeDecision():38913 EUR_JPY dir:-1 gain:0.0756 loss:0.0756 sl:159.9606  tp:159.8094\n",
      "TradeDecision():60759 EUR_JPY dir:-1 gain:0.0781 loss:0.0781 sl:162.3241  tp:162.1679\n",
      "TradeDecision():61775 EUR_JPY dir:-1 gain:0.0686 loss:0.0686 sl:162.6166  tp:162.4794\n",
      "TradeDecision():62298 EUR_JPY dir:-1 gain:0.0618 loss:0.0618 sl:162.9168  tp:162.7932\n",
      "TradeDecision():63202 EUR_JPY dir:-1 gain:0.0662 loss:0.0662 sl:162.7952  tp:162.6628\n",
      "TradeDecision():63667 EUR_JPY dir:-1 gain:0.0624 loss:0.0624 sl:163.0054  tp:162.8806\n",
      "TradeDecision():66489 EUR_JPY dir:-1 gain:0.0779 loss:0.0779 sl:162.5009  tp:162.3451\n",
      "TradeDecision():66531 EUR_JPY dir:-1 gain:0.0751 loss:0.0751 sl:162.8431  tp:162.6929\n",
      "TradeDecision():66942 EUR_JPY dir:-1 gain:0.0606 loss:0.0606 sl:162.8006  tp:162.6794\n",
      "TradeDecision():66943 EUR_JPY dir:-1 gain:0.0742 loss:0.0742 sl:162.8582  tp:162.7098\n",
      "TradeDecision():68022 EUR_JPY dir:-1 gain:0.0618 loss:0.0618 sl:161.3068  tp:161.1832\n",
      "TradeDecision():68187 EUR_JPY dir:-1 gain:0.0610 loss:0.0610 sl:161.1510  tp:161.0290\n",
      "TradeDecision():68297 EUR_JPY dir:-1 gain:0.1504 loss:0.1504 sl:161.1254  tp:160.8246\n",
      "TradeDecision():68330 EUR_JPY dir:-1 gain:0.0850 loss:0.0850 sl:161.4410  tp:161.2710\n",
      "TradeDecision():68331 EUR_JPY dir:-1 gain:0.0945 loss:0.0945 sl:161.4915  tp:161.3025\n",
      "TradeDecision():68348 EUR_JPY dir:-1 gain:0.0934 loss:0.0934 sl:161.7874  tp:161.6006\n",
      "TradeDecision():68349 EUR_JPY dir:-1 gain:0.0892 loss:0.0892 sl:161.7982  tp:161.6198\n",
      "TradeDecision():68955 EUR_JPY dir:-1 gain:0.0684 loss:0.0684 sl:161.9794  tp:161.8426\n",
      "TradeDecision():69763 EUR_JPY dir:-1 gain:0.0618 loss:0.0618 sl:161.0128  tp:160.8892\n",
      "TradeDecision():71943 EUR_JPY dir:-1 gain:0.0888 loss:0.0888 sl:160.9408  tp:160.7632\n",
      "TradeDecision():71953 EUR_JPY dir:-1 gain:0.0739 loss:0.0739 sl:161.1039  tp:160.9561\n",
      "TradeDecision():72591 EUR_JPY dir:-1 gain:0.0743 loss:0.0743 sl:161.2603  tp:161.1117\n",
      "TradeDecision():72592 EUR_JPY dir:-1 gain:0.0739 loss:0.0739 sl:161.2779  tp:161.1301\n",
      "TradeDecision():72599 EUR_JPY dir:-1 gain:0.0926 loss:0.0926 sl:161.4696  tp:161.2844\n",
      "TradeDecision():73820 EUR_JPY dir:-1 gain:0.0648 loss:0.0648 sl:161.6548  tp:161.5252\n",
      "TradeDecision():76561 EUR_JPY dir:-1 gain:0.0732 loss:0.0732 sl:161.4052  tp:161.2588\n",
      "TradeDecision():79255 EUR_JPY dir:-1 gain:0.0797 loss:0.0797 sl:163.1407  tp:162.9813\n",
      "TradeDecision():79256 EUR_JPY dir:-1 gain:0.0848 loss:0.0848 sl:163.1728  tp:163.0032\n",
      "TradeDecision():79278 EUR_JPY dir:-1 gain:0.0609 loss:0.0609 sl:163.2469  tp:163.1251\n",
      "TradeDecision():79431 EUR_JPY dir:-1 gain:0.0640 loss:0.0640 sl:163.2230  tp:163.0950\n",
      "TradeDecision():80412 EUR_JPY dir:-1 gain:0.1078 loss:0.1078 sl:164.4068  tp:164.1912\n",
      "TradeDecision():81575 EUR_JPY dir:-1 gain:0.0618 loss:0.0618 sl:165.0438  tp:164.9202\n",
      "TradeDecision():82581 EUR_JPY dir:-1 gain:0.0661 loss:0.0661 sl:164.9921  tp:164.8599\n",
      "TradeDecision():82583 EUR_JPY dir:-1 gain:0.0694 loss:0.0694 sl:165.0324  tp:164.8936\n",
      "TradeDecision():89788 EUR_JPY dir:-1 gain:0.0803 loss:0.0803 sl:163.4683  tp:163.3077\n",
      "TradeDecision():89789 EUR_JPY dir:-1 gain:0.1139 loss:0.1139 sl:163.5809  tp:163.3531\n",
      "TradeDecision():98537 EUR_JPY dir:-1 gain:0.0793 loss:0.0793 sl:164.4173  tp:164.2587\n",
      "TradeDecision():104084 EUR_JPY dir:-1 gain:0.0622 loss:0.0622 sl:164.2602  tp:164.1358\n",
      "TradeDecision():104085 EUR_JPY dir:-1 gain:0.0740 loss:0.0740 sl:164.3070  tp:164.1590\n",
      "TradeDecision():104145 EUR_JPY dir:-1 gain:0.0721 loss:0.0721 sl:164.5181  tp:164.3739\n",
      "TradeDecision():105569 EUR_JPY dir:-1 gain:0.1122 loss:0.1122 sl:162.7082  tp:162.4838\n",
      "TradeDecision():105639 EUR_JPY dir:-1 gain:0.0823 loss:0.0823 sl:162.6823  tp:162.5177\n",
      "TradeDecision():105685 EUR_JPY dir:-1 gain:0.0654 loss:0.0654 sl:162.8084  tp:162.6776\n",
      "TradeDecision():105708 EUR_JPY dir:-1 gain:0.0643 loss:0.0643 sl:163.0423  tp:162.9137\n",
      "TradeDecision():105709 EUR_JPY dir:-1 gain:0.0620 loss:0.0620 sl:163.0550  tp:162.9310\n",
      "TradeDecision():106104 EUR_JPY dir:-1 gain:0.0608 loss:0.0608 sl:163.1938  tp:163.0722\n",
      "TradeDecision():107091 EUR_JPY dir:-1 gain:0.0663 loss:0.0663 sl:164.0173  tp:163.8847\n",
      "TradeDecision():108182 EUR_JPY dir:-1 gain:0.0751 loss:0.0751 sl:164.2881  tp:164.1379\n",
      "TradeDecision():112120 EUR_JPY dir:-1 gain:0.1324 loss:0.1324 sl:163.5724  tp:163.3076\n",
      "TradeDecision():112148 EUR_JPY dir:-1 gain:0.0765 loss:0.0765 sl:164.0305  tp:163.8775\n",
      "TradeDecision():112149 EUR_JPY dir:-1 gain:0.1410 loss:0.1410 sl:164.2270  tp:163.9450\n",
      "TradeDecision():112150 EUR_JPY dir:-1 gain:0.1704 loss:0.1704 sl:164.3404  tp:163.9996\n",
      "TradeDecision():112183 EUR_JPY dir:-1 gain:0.0760 loss:0.0760 sl:164.3170  tp:164.1650\n",
      "TradeDecision():112313 EUR_JPY dir:-1 gain:0.1046 loss:0.1046 sl:164.3066  tp:164.0974\n",
      "TradeDecision():115242 EUR_JPY dir:-1 gain:0.0703 loss:0.0703 sl:164.9823  tp:164.8417\n",
      "TradeDecision():115252 EUR_JPY dir:-1 gain:0.0937 loss:0.0937 sl:165.2397  tp:165.0523\n",
      "TradeDecision():115678 EUR_JPY dir:-1 gain:0.0718 loss:0.0718 sl:165.7488  tp:165.6052\n",
      "TradeDecision():118498 EUR_JPY dir:-1 gain:0.0650 loss:0.0650 sl:166.5130  tp:166.3830\n",
      "TradeDecision():118499 EUR_JPY dir:-1 gain:0.0654 loss:0.0654 sl:166.5334  tp:166.4026\n",
      "TradeDecision():119507 EUR_JPY dir:-1 gain:0.0845 loss:0.0845 sl:167.6785  tp:167.5095\n",
      "TradeDecision():119513 EUR_JPY dir:-1 gain:0.0658 loss:0.0658 sl:167.7298  tp:167.5982\n",
      "TradeDecision():120064 EUR_JPY dir:-1 gain:0.0661 loss:0.0661 sl:168.4961  tp:168.3639\n",
      "TradeDecision():120065 EUR_JPY dir:-1 gain:0.0861 loss:0.0861 sl:168.5681  tp:168.3959\n",
      "TradeDecision():120417 EUR_JPY dir:-1 gain:0.0687 loss:0.0687 sl:169.1107  tp:168.9733\n",
      "TradeDecision():120418 EUR_JPY dir:-1 gain:0.1148 loss:0.1148 sl:169.2538  tp:169.0242\n",
      "TradeDecision():120431 EUR_JPY dir:-1 gain:0.0861 loss:0.0861 sl:169.4101  tp:169.2379\n",
      "TradeDecision():120627 EUR_JPY dir:-1 gain:0.1186 loss:0.1186 sl:169.9666  tp:169.7294\n",
      "TradeDecision():120672 EUR_JPY dir:-1 gain:0.0786 loss:0.0786 sl:170.8066  tp:170.6494\n",
      "TradeDecision():121100 EUR_JPY dir:-1 gain:0.0680 loss:0.0680 sl:166.9290  tp:166.7930\n",
      "TradeDecision():121264 EUR_JPY dir:-1 gain:0.0642 loss:0.0642 sl:167.5842  tp:167.4558\n",
      "TradeDecision():121372 EUR_JPY dir:-1 gain:0.0600 loss:0.0600 sl:167.6480  tp:167.5280\n",
      "TradeDecision():122000 EUR_JPY dir:-1 gain:0.0686 loss:0.0686 sl:167.6706  tp:167.5334\n",
      "TradeDecision():122001 EUR_JPY dir:-1 gain:0.1095 loss:0.1095 sl:167.8015  tp:167.5825\n",
      "TradeDecision():122015 EUR_JPY dir:-1 gain:0.0651 loss:0.0651 sl:167.9511  tp:167.8209\n",
      "TradeDecision():122500 EUR_JPY dir:-1 gain:0.0602 loss:0.0602 sl:168.0062  tp:167.8858\n",
      "TradeDecision():122501 EUR_JPY dir:-1 gain:0.0808 loss:0.0808 sl:168.0748  tp:167.9132\n",
      "TradeDecision():124232 EUR_JPY dir:-1 gain:0.0692 loss:0.0692 sl:168.4852  tp:168.3468\n",
      "TradeDecision():124521 EUR_JPY dir:-1 gain:0.0881 loss:0.0881 sl:168.6221  tp:168.4459\n",
      "TradeDecision():124785 EUR_JPY dir:-1 gain:0.0692 loss:0.0692 sl:166.7472  tp:166.6088\n",
      "TradeDecision():124890 EUR_JPY dir:-1 gain:0.0630 loss:0.0630 sl:167.2230  tp:167.0970\n",
      "TradeDecision():125088 EUR_JPY dir:-1 gain:0.0699 loss:0.0699 sl:167.2639  tp:167.1241\n",
      "TradeDecision():125686 EUR_JPY dir:-1 gain:0.0716 loss:0.0716 sl:164.9976  tp:164.8544\n",
      "TradeDecision():125697 EUR_JPY dir:-1 gain:0.0626 loss:0.0626 sl:165.0986  tp:164.9734\n",
      "TradeDecision():125698 EUR_JPY dir:-1 gain:0.0793 loss:0.0793 sl:165.1573  tp:164.9987\n",
      "TradeDecision():125832 EUR_JPY dir:-1 gain:0.0653 loss:0.0653 sl:164.6653  tp:164.5347\n",
      "TradeDecision():125845 EUR_JPY dir:-1 gain:0.0758 loss:0.0758 sl:164.8398  tp:164.6882\n",
      "TradeDecision():125846 EUR_JPY dir:-1 gain:0.0738 loss:0.0738 sl:164.8498  tp:164.7022\n",
      "TradeDecision():126036 EUR_JPY dir:-1 gain:0.0874 loss:0.0874 sl:164.5674  tp:164.3926\n",
      "TradeDecision():126063 EUR_JPY dir:-1 gain:0.0618 loss:0.0618 sl:164.7678  tp:164.6442\n",
      "TradeDecision():126154 EUR_JPY dir:-1 gain:0.0602 loss:0.0602 sl:164.7922  tp:164.6718\n",
      "TradeDecision():126277 EUR_JPY dir:-1 gain:0.0616 loss:0.0616 sl:164.4896  tp:164.3664\n",
      "TradeDecision():126278 EUR_JPY dir:-1 gain:0.0720 loss:0.0720 sl:164.5320  tp:164.3880\n",
      "TradeDecision():127112 EUR_JPY dir:-1 gain:0.0674 loss:0.0674 sl:164.5174  tp:164.3826\n",
      "TradeDecision():127139 EUR_JPY dir:-1 gain:0.0724 loss:0.0724 sl:164.7604  tp:164.6156\n",
      "TradeDecision():129193 EUR_JPY dir:-1 gain:0.0907 loss:0.0907 sl:166.1327  tp:165.9513\n",
      "TradeDecision():129194 EUR_JPY dir:-1 gain:0.0839 loss:0.0839 sl:166.1339  tp:165.9661\n",
      "TradeDecision():129656 EUR_JPY dir:-1 gain:0.0650 loss:0.0650 sl:166.2330  tp:166.1030\n",
      "TradeDecision():132013 EUR_JPY dir:-1 gain:0.0616 loss:0.0616 sl:167.1096  tp:166.9864\n",
      "TradeDecision():132745 EUR_JPY dir:-1 gain:0.0787 loss:0.0787 sl:167.4807  tp:167.3233\n",
      "TradeDecision():137048 EUR_JPY dir:-1 gain:0.0764 loss:0.0764 sl:169.1704  tp:169.0176\n",
      "TradeDecision():139262 EUR_JPY dir:-1 gain:0.0681 loss:0.0681 sl:167.6321  tp:167.4959\n",
      "TradeDecision():139271 EUR_JPY dir:-1 gain:0.0615 loss:0.0615 sl:167.7325  tp:167.6095\n",
      "TradeDecision():139272 EUR_JPY dir:-1 gain:0.0734 loss:0.0734 sl:167.7794  tp:167.6326\n",
      "TradeDecision():139273 EUR_JPY dir:-1 gain:0.0872 loss:0.0872 sl:167.8352  tp:167.6608\n",
      "TradeDecision():142779 EUR_JPY dir:-1 gain:0.1039 loss:0.1039 sl:169.6209  tp:169.4131\n",
      "TradeDecision():142780 EUR_JPY dir:-1 gain:0.1184 loss:0.1184 sl:169.6854  tp:169.4486\n",
      "TradeDecision():147052 EUR_JPY dir:-1 gain:0.0671 loss:0.0671 sl:170.1181  tp:169.9839\n",
      "TradeDecision():153763 EUR_JPY dir:-1 gain:0.0955 loss:0.0955 sl:169.4715  tp:169.2805\n",
      "TradeDecision():153782 EUR_JPY dir:-1 gain:0.0700 loss:0.0700 sl:169.6500  tp:169.5100\n",
      "TradeDecision():154115 EUR_JPY dir:-1 gain:0.0618 loss:0.0618 sl:169.6458  tp:169.5222\n",
      "TradeDecision():155243 EUR_JPY dir:-1 gain:0.0627 loss:0.0627 sl:170.2807  tp:170.1553\n",
      "TradeDecision():155244 EUR_JPY dir:-1 gain:0.0825 loss:0.0825 sl:170.3465  tp:170.1815\n",
      "TradeDecision():155645 EUR_JPY dir:-1 gain:0.0879 loss:0.0879 sl:170.5219  tp:170.3461\n",
      "TradeDecision():155646 EUR_JPY dir:-1 gain:0.1048 loss:0.1048 sl:170.5818  tp:170.3722\n",
      "TradeDecision():155647 EUR_JPY dir:-1 gain:0.1460 loss:0.1460 sl:170.7170  tp:170.4250\n",
      "TradeDecision():156416 EUR_JPY dir:-1 gain:0.0662 loss:0.0662 sl:170.8582  tp:170.7258\n",
      "TradeDecision():156965 EUR_JPY dir:-1 gain:0.0611 loss:0.0611 sl:170.1351  tp:170.0129\n",
      "TradeDecision():157625 EUR_JPY dir:-1 gain:0.0841 loss:0.0841 sl:170.4781  tp:170.3099\n",
      "TradeDecision():157626 EUR_JPY dir:-1 gain:0.0998 loss:0.0998 sl:170.5398  tp:170.3402\n",
      "TradeDecision():158280 EUR_JPY dir:-1 gain:0.0698 loss:0.0698 sl:168.5028  tp:168.3632\n",
      "TradeDecision():158290 EUR_JPY dir:-1 gain:0.0634 loss:0.0634 sl:168.6064  tp:168.4796\n",
      "TradeDecision():158291 EUR_JPY dir:-1 gain:0.0763 loss:0.0763 sl:168.6503  tp:168.4977\n",
      "TradeDecision():159036 EUR_JPY dir:-1 gain:0.0607 loss:0.0607 sl:168.8637  tp:168.7423\n",
      "TradeDecision():159177 EUR_JPY dir:-1 gain:0.0610 loss:0.0610 sl:169.2610  tp:169.1390\n",
      "TradeDecision():159178 EUR_JPY dir:-1 gain:0.0634 loss:0.0634 sl:169.2814  tp:169.1546\n",
      "TradeDecision():159907 EUR_JPY dir:-1 gain:0.0699 loss:0.0699 sl:170.0119  tp:169.8721\n",
      "TradeDecision():160592 EUR_JPY dir:-1 gain:0.0635 loss:0.0635 sl:169.5115  tp:169.3845\n",
      "TradeDecision():162387 EUR_JPY dir:-1 gain:0.0901 loss:0.0901 sl:169.2861  tp:169.1059\n",
      "TradeDecision():164321 EUR_JPY dir:-1 gain:0.0608 loss:0.0608 sl:168.8428  tp:168.7212\n",
      "TradeDecision():167310 EUR_JPY dir:-1 gain:0.0795 loss:0.0795 sl:169.2535  tp:169.0945\n",
      "TradeDecision():168463 EUR_JPY dir:-1 gain:0.0621 loss:0.0621 sl:169.6881  tp:169.5639\n",
      "TradeDecision():168464 EUR_JPY dir:-1 gain:0.0717 loss:0.0717 sl:169.7307  tp:169.5873\n",
      "TradeDecision():168689 EUR_JPY dir:-1 gain:0.0646 loss:0.0646 sl:168.5196  tp:168.3904\n",
      "TradeDecision():169293 EUR_JPY dir:-1 gain:0.2975 loss:0.2975 sl:169.7015  tp:169.1065\n",
      "TradeDecision():169441 EUR_JPY dir:-1 gain:0.0649 loss:0.0649 sl:169.7609  tp:169.6311\n",
      "TradeDecision():169763 EUR_JPY dir:-1 gain:0.0762 loss:0.0762 sl:168.2172  tp:168.0648\n",
      "TradeDecision():169764 EUR_JPY dir:-1 gain:0.0889 loss:0.0889 sl:168.2709  tp:168.0931\n",
      "TradeDecision():169976 EUR_JPY dir:-1 gain:0.0780 loss:0.0780 sl:168.1280  tp:167.9720\n",
      "TradeDecision():169978 EUR_JPY dir:-1 gain:0.1213 loss:0.1213 sl:168.2793  tp:168.0367\n",
      "TradeDecision():170967 EUR_JPY dir:-1 gain:0.0709 loss:0.0709 sl:168.7049  tp:168.5631\n",
      "TradeDecision():171010 EUR_JPY dir:-1 gain:0.0742 loss:0.0742 sl:168.8622  tp:168.7138\n",
      "TradeDecision():173818 EUR_JPY dir:-1 gain:0.0601 loss:0.0601 sl:169.3581  tp:169.2379\n",
      "TradeDecision():174045 EUR_JPY dir:-1 gain:0.0615 loss:0.0615 sl:169.7415  tp:169.6185\n",
      "TradeDecision():175634 EUR_JPY dir:-1 gain:0.0673 loss:0.0673 sl:170.2453  tp:170.1107\n",
      "TradeDecision():177103 EUR_JPY dir:-1 gain:0.0891 loss:0.0891 sl:170.3371  tp:170.1589\n",
      "TradeDecision():177119 EUR_JPY dir:-1 gain:0.0620 loss:0.0620 sl:170.4850  tp:170.3610\n",
      "TradeDecision():181276 EUR_JPY dir:-1 gain:0.0678 loss:0.0678 sl:171.4918  tp:171.3562\n",
      "TradeDecision():181364 EUR_JPY dir:-1 gain:0.0687 loss:0.0687 sl:171.3217  tp:171.1843\n",
      "TradeDecision():181368 EUR_JPY dir:-1 gain:0.0754 loss:0.0754 sl:171.3994  tp:171.2486\n",
      "TradeDecision():182753 EUR_JPY dir:-1 gain:0.0614 loss:0.0614 sl:171.9394  tp:171.8166\n",
      "TradeDecision():183484 EUR_JPY dir:-1 gain:0.0638 loss:0.0638 sl:172.2578  tp:172.1302\n",
      "TradeDecision():184317 EUR_JPY dir:-1 gain:0.1022 loss:0.1022 sl:172.0382  tp:171.8338\n",
      "TradeDecision():184321 EUR_JPY dir:-1 gain:0.1283 loss:0.1283 sl:172.2203  tp:171.9637\n",
      "TradeDecision():184322 EUR_JPY dir:-1 gain:0.1464 loss:0.1464 sl:172.3044  tp:172.0116\n",
      "TradeDecision():184911 EUR_JPY dir:-1 gain:0.0607 loss:0.0607 sl:173.2047  tp:173.0833\n",
      "TradeDecision():185227 EUR_JPY dir:-1 gain:0.0733 loss:0.0733 sl:173.4293  tp:173.2827\n",
      "TradeDecision():188156 EUR_JPY dir:-1 gain:0.0805 loss:0.0805 sl:174.0835  tp:173.9225\n",
      "TradeDecision():188157 EUR_JPY dir:-1 gain:0.0849 loss:0.0849 sl:174.1169  tp:173.9471\n",
      "TradeDecision():191035 EUR_JPY dir:-1 gain:0.0610 loss:0.0610 sl:174.0810  tp:173.9590\n",
      "TradeDecision():191360 EUR_JPY dir:-1 gain:0.1709 loss:0.1709 sl:174.4709  tp:174.1291\n",
      "TradeDecision():191437 EUR_JPY dir:-1 gain:0.0677 loss:0.0677 sl:174.5117  tp:174.3763\n",
      "TradeDecision():192431 EUR_JPY dir:-1 gain:0.0607 loss:0.0607 sl:174.0767  tp:173.9553\n",
      "TradeDecision():192458 EUR_JPY dir:-1 gain:0.0659 loss:0.0659 sl:174.2589  tp:174.1271\n",
      "TradeDecision():197110 EUR_JPY dir:-1 gain:0.3065 loss:0.3065 sl:172.7665  tp:172.1535\n",
      "TradeDecision():197127 EUR_JPY dir:-1 gain:0.1131 loss:0.1131 sl:172.9031  tp:172.6769\n",
      "TradeDecision():197200 EUR_JPY dir:-1 gain:0.0654 loss:0.0654 sl:172.6674  tp:172.5366\n",
      "TradeDecision():198702 EUR_JPY dir:-1 gain:0.0647 loss:0.0647 sl:172.3627  tp:172.2333\n",
      "TradeDecision():202795 EUR_JPY dir:-1 gain:0.0621 loss:0.0621 sl:171.3911  tp:171.2669\n",
      "TradeDecision():203589 EUR_JPY dir:-1 gain:0.0829 loss:0.0829 sl:170.9509  tp:170.7851\n",
      "TradeDecision():203601 EUR_JPY dir:-1 gain:0.0634 loss:0.0634 sl:171.0394  tp:170.9126\n",
      "TradeDecision():203957 EUR_JPY dir:-1 gain:0.0708 loss:0.0708 sl:170.8168  tp:170.6752\n",
      "TradeDecision():203989 EUR_JPY dir:-1 gain:0.0740 loss:0.0740 sl:171.0860  tp:170.9380\n",
      "TradeDecision():204245 EUR_JPY dir:-1 gain:0.0668 loss:0.0668 sl:171.0808  tp:170.9472\n",
      "TradeDecision():204370 EUR_JPY dir:-1 gain:0.0670 loss:0.0670 sl:171.0010  tp:170.8670\n",
      "TradeDecision():204423 EUR_JPY dir:-1 gain:0.1426 loss:0.1426 sl:171.4646  tp:171.1794\n",
      "TradeDecision():204928 EUR_JPY dir:-1 gain:0.0746 loss:0.0746 sl:171.4586  tp:171.3094\n",
      "TradeDecision():205360 EUR_JPY dir:-1 gain:0.0744 loss:0.0744 sl:171.3614  tp:171.2126\n",
      "TradeDecision():205368 EUR_JPY dir:-1 gain:0.0639 loss:0.0639 sl:171.4639  tp:171.3361\n",
      "TradeDecision():205369 EUR_JPY dir:-1 gain:0.0622 loss:0.0622 sl:171.4822  tp:171.3578\n",
      "TradeDecision():205634 EUR_JPY dir:-1 gain:0.0645 loss:0.0645 sl:171.5825  tp:171.4535\n",
      "TradeDecision():206794 EUR_JPY dir:-1 gain:0.0814 loss:0.0814 sl:170.6514  tp:170.4886\n",
      "TradeDecision():206813 EUR_JPY dir:-1 gain:0.0638 loss:0.0638 sl:170.7688  tp:170.6412\n",
      "TradeDecision():206830 EUR_JPY dir:-1 gain:0.0725 loss:0.0725 sl:170.8565  tp:170.7115\n",
      "TradeDecision():206976 EUR_JPY dir:-1 gain:0.1072 loss:0.1072 sl:170.8632  tp:170.6488\n",
      "TradeDecision():208143 EUR_JPY dir:-1 gain:0.0622 loss:0.0622 sl:170.3692  tp:170.2448\n",
      "TradeDecision():209636 EUR_JPY dir:-1 gain:0.1063 loss:0.1063 sl:167.9003  tp:167.6877\n",
      "TradeDecision():209692 EUR_JPY dir:-1 gain:0.0675 loss:0.0675 sl:167.5875  tp:167.4525\n",
      "TradeDecision():209694 EUR_JPY dir:-1 gain:0.0758 loss:0.0758 sl:167.6398  tp:167.4882\n",
      "TradeDecision():209727 EUR_JPY dir:-1 gain:0.0861 loss:0.0861 sl:167.8891  tp:167.7169\n",
      "TradeDecision():210057 EUR_JPY dir:-1 gain:0.1422 loss:0.1422 sl:166.8422  tp:166.5578\n",
      "TradeDecision():210780 EUR_JPY dir:-1 gain:0.0686 loss:0.0686 sl:165.7706  tp:165.6334\n",
      "TradeDecision():210944 EUR_JPY dir:-1 gain:0.0659 loss:0.0659 sl:165.6269  tp:165.4951\n",
      "TradeDecision():210945 EUR_JPY dir:-1 gain:0.0658 loss:0.0658 sl:165.6388  tp:165.5072\n",
      "TradeDecision():211145 EUR_JPY dir:-1 gain:0.1130 loss:0.1130 sl:165.2710  tp:165.0450\n",
      "TradeDecision():211157 EUR_JPY dir:-1 gain:0.0674 loss:0.0674 sl:165.3954  tp:165.2606\n",
      "TradeDecision():211170 EUR_JPY dir:-1 gain:0.1093 loss:0.1093 sl:165.6933  tp:165.4747\n",
      "TradeDecision():211308 EUR_JPY dir:-1 gain:0.0607 loss:0.0607 sl:165.4037  tp:165.2823\n",
      "TradeDecision():211309 EUR_JPY dir:-1 gain:0.0876 loss:0.0876 sl:165.4956  tp:165.3204\n",
      "TradeDecision():211310 EUR_JPY dir:-1 gain:0.0980 loss:0.0980 sl:165.5440  tp:165.3480\n",
      "TradeDecision():211499 EUR_JPY dir:-1 gain:0.1382 loss:0.1382 sl:166.6522  tp:166.3758\n",
      "TradeDecision():211509 EUR_JPY dir:-1 gain:0.0746 loss:0.0746 sl:166.7206  tp:166.5714\n",
      "TradeDecision():211591 EUR_JPY dir:-1 gain:0.0901 loss:0.0901 sl:167.3651  tp:167.1849\n",
      "TradeDecision():211613 EUR_JPY dir:-1 gain:0.0622 loss:0.0622 sl:167.4082  tp:167.2838\n",
      "TradeDecision():211614 EUR_JPY dir:-1 gain:0.0639 loss:0.0639 sl:167.4269  tp:167.2991\n",
      "TradeDecision():211615 EUR_JPY dir:-1 gain:0.1049 loss:0.1049 sl:167.5569  tp:167.3471\n",
      "TradeDecision():212109 EUR_JPY dir:-1 gain:0.0914 loss:0.0914 sl:167.0594  tp:166.8766\n",
      "TradeDecision():212496 EUR_JPY dir:-1 gain:0.0672 loss:0.0672 sl:166.8982  tp:166.7638\n",
      "TradeDecision():212526 EUR_JPY dir:-1 gain:0.0776 loss:0.0776 sl:167.2496  tp:167.0944\n",
      "TradeDecision():212576 EUR_JPY dir:-1 gain:0.0714 loss:0.0714 sl:167.3514  tp:167.2086\n",
      "TradeDecision():212577 EUR_JPY dir:-1 gain:0.0707 loss:0.0707 sl:167.3707  tp:167.2293\n",
      "TradeDecision():212967 EUR_JPY dir:-1 gain:0.0851 loss:0.0851 sl:166.7411  tp:166.5709\n",
      "TradeDecision():212976 EUR_JPY dir:-1 gain:0.0760 loss:0.0760 sl:166.8750  tp:166.7230\n",
      "TradeDecision():213022 EUR_JPY dir:-1 gain:0.0728 loss:0.0728 sl:167.0948  tp:166.9492\n",
      "TradeDecision():213488 EUR_JPY dir:-1 gain:0.0617 loss:0.0617 sl:167.4637  tp:167.3403\n",
      "TradeDecision():213806 EUR_JPY dir:-1 gain:0.0712 loss:0.0712 sl:166.8472  tp:166.7048\n",
      "TradeDecision():213933 EUR_JPY dir:-1 gain:0.0612 loss:0.0612 sl:166.6872  tp:166.5648\n",
      "TradeDecision():214215 EUR_JPY dir:-1 gain:0.0636 loss:0.0636 sl:166.5676  tp:166.4404\n",
      "TradeDecision():215225 EUR_JPY dir:-1 gain:0.0822 loss:0.0822 sl:167.4142  tp:167.2498\n",
      "TradeDecision():215296 EUR_JPY dir:-1 gain:0.0811 loss:0.0811 sl:167.6591  tp:167.4969\n",
      "TradeDecision():215304 EUR_JPY dir:-1 gain:0.0636 loss:0.0636 sl:167.7616  tp:167.6344\n",
      "TradeDecision():215314 EUR_JPY dir:-1 gain:0.0697 loss:0.0697 sl:167.9057  tp:167.7663\n",
      "TradeDecision():215429 EUR_JPY dir:-1 gain:0.0758 loss:0.0758 sl:167.8238  tp:167.6722\n",
      "TradeDecision():216268 EUR_JPY dir:-1 gain:0.1121 loss:0.1121 sl:165.3741  tp:165.1499\n",
      "TradeDecision():216457 EUR_JPY dir:-1 gain:0.0606 loss:0.0606 sl:164.9686  tp:164.8474\n",
      "TradeDecision():216458 EUR_JPY dir:-1 gain:0.0888 loss:0.0888 sl:165.0638  tp:164.8862\n",
      "TradeDecision():216675 EUR_JPY dir:-1 gain:0.1016 loss:0.1016 sl:165.5776  tp:165.3744\n",
      "TradeDecision():216685 EUR_JPY dir:-1 gain:0.0626 loss:0.0626 sl:165.6546  tp:165.5294\n",
      "TradeDecision():216686 EUR_JPY dir:-1 gain:0.0794 loss:0.0794 sl:165.7114  tp:165.5526\n",
      "TradeDecision():216879 EUR_JPY dir:-1 gain:0.1486 loss:0.1486 sl:163.1776  tp:162.8804\n",
      "TradeDecision():217082 EUR_JPY dir:-1 gain:0.0622 loss:0.0622 sl:162.7782  tp:162.6538\n",
      "TradeDecision():217110 EUR_JPY dir:-1 gain:0.1288 loss:0.1288 sl:162.9308  tp:162.6732\n",
      "TradeDecision():217120 EUR_JPY dir:-1 gain:0.0816 loss:0.0816 sl:162.9456  tp:162.7824\n",
      "TradeDecision():217202 EUR_JPY dir:-1 gain:0.0880 loss:0.0880 sl:162.7300  tp:162.5540\n",
      "TradeDecision():217239 EUR_JPY dir:-1 gain:0.0815 loss:0.0815 sl:163.0045  tp:162.8415\n",
      "TradeDecision():217276 EUR_JPY dir:-1 gain:0.0614 loss:0.0614 sl:162.9154  tp:162.7926\n",
      "TradeDecision():217408 EUR_JPY dir:-1 gain:0.0652 loss:0.0652 sl:163.0462  tp:162.9158\n",
      "TradeDecision():217420 EUR_JPY dir:-1 gain:0.0633 loss:0.0633 sl:163.2023  tp:163.0757\n",
      "TradeDecision():217571 EUR_JPY dir:-1 gain:0.0716 loss:0.0716 sl:162.4906  tp:162.3474\n",
      "TradeDecision():217572 EUR_JPY dir:-1 gain:0.0676 loss:0.0676 sl:162.4956  tp:162.3604\n",
      "TradeDecision():217896 EUR_JPY dir:-1 gain:0.1441 loss:0.1441 sl:161.4211  tp:161.1329\n",
      "TradeDecision():217954 EUR_JPY dir:-1 gain:0.0850 loss:0.0850 sl:161.7890  tp:161.6190\n",
      "TradeDecision():218185 EUR_JPY dir:-1 gain:0.0886 loss:0.0886 sl:162.5466  tp:162.3694\n",
      "TradeDecision():218233 EUR_JPY dir:-1 gain:0.0613 loss:0.0613 sl:162.1713  tp:162.0487\n",
      "TradeDecision():218298 EUR_JPY dir:-1 gain:0.0661 loss:0.0661 sl:161.6121  tp:161.4799\n",
      "TradeDecision():218299 EUR_JPY dir:-1 gain:0.0879 loss:0.0879 sl:161.6899  tp:161.5141\n",
      "TradeDecision():218300 EUR_JPY dir:-1 gain:0.1019 loss:0.1019 sl:161.7479  tp:161.5441\n",
      "TradeDecision():218366 EUR_JPY dir:-1 gain:0.0608 loss:0.0608 sl:161.5848  tp:161.4632\n",
      "TradeDecision():218381 EUR_JPY dir:-1 gain:0.0766 loss:0.0766 sl:161.7066  tp:161.5534\n",
      "TradeDecision():218408 EUR_JPY dir:-1 gain:0.0702 loss:0.0702 sl:161.9262  tp:161.7858\n",
      "TradeDecision():218452 EUR_JPY dir:-1 gain:0.1032 loss:0.1032 sl:162.0632  tp:161.8568\n",
      "TradeDecision():218460 EUR_JPY dir:-1 gain:0.1014 loss:0.1014 sl:162.2594  tp:162.0566\n",
      "TradeDecision():218464 EUR_JPY dir:-1 gain:0.1510 loss:0.1510 sl:162.5160  tp:162.2140\n",
      "TradeDecision():218494 EUR_JPY dir:-1 gain:0.0637 loss:0.0637 sl:162.5337  tp:162.4063\n",
      "TradeDecision():218512 EUR_JPY dir:-1 gain:0.0671 loss:0.0671 sl:162.6351  tp:162.5009\n",
      "TradeDecision():219116 EUR_JPY dir:-1 gain:0.0652 loss:0.0652 sl:161.1032  tp:160.9728\n",
      "TradeDecision():219293 EUR_JPY dir:-1 gain:0.0704 loss:0.0704 sl:161.4644  tp:161.3236\n",
      "TradeDecision():219383 EUR_JPY dir:-1 gain:0.0935 loss:0.0935 sl:161.5045  tp:161.3175\n",
      "TradeDecision():219584 EUR_JPY dir:-1 gain:0.1016 loss:0.1016 sl:161.2146  tp:161.0114\n",
      "TradeDecision():219988 EUR_JPY dir:-1 gain:0.1575 loss:0.1575 sl:160.3875  tp:160.0725\n",
      "TradeDecision():219989 EUR_JPY dir:-1 gain:0.2782 loss:0.2782 sl:160.7542  tp:160.1978\n",
      "TradeDecision():219999 EUR_JPY dir:-1 gain:0.1527 loss:0.1527 sl:160.8727  tp:160.5673\n",
      "TradeDecision():220000 EUR_JPY dir:-1 gain:0.1873 loss:0.1873 sl:161.0033  tp:160.6287\n",
      "TradeDecision():220005 EUR_JPY dir:-1 gain:0.1752 loss:0.1752 sl:161.1632  tp:160.8128\n",
      "TradeDecision():220006 EUR_JPY dir:-1 gain:0.2208 loss:0.2208 sl:161.3448  tp:160.9032\n",
      "TradeDecision():220560 EUR_JPY dir:-1 gain:0.0754 loss:0.0754 sl:159.8274  tp:159.6766\n",
      "TradeDecision():220679 EUR_JPY dir:-1 gain:0.1488 loss:0.1488 sl:159.1628  tp:158.8652\n",
      "TradeDecision():220785 EUR_JPY dir:-1 gain:0.0768 loss:0.0768 sl:158.6768  tp:158.5232\n",
      "TradeDecision():220788 EUR_JPY dir:-1 gain:0.1071 loss:0.1071 sl:158.8171  tp:158.6029\n",
      "TradeDecision():221029 EUR_JPY dir:-1 gain:0.0989 loss:0.0989 sl:155.4129  tp:155.2151\n",
      "TradeDecision():221232 EUR_JPY dir:-1 gain:0.1271 loss:0.1271 sl:155.8221  tp:155.5679\n",
      "TradeDecision():221294 EUR_JPY dir:-1 gain:0.1009 loss:0.1009 sl:155.9399  tp:155.7381\n",
      "TradeDecision():221417 EUR_JPY dir:-1 gain:0.1477 loss:0.1477 sl:156.3537  tp:156.0583\n",
      "TradeDecision():221466 EUR_JPY dir:-1 gain:0.2403 loss:0.2403 sl:157.1703  tp:156.6897\n",
      "TradeDecision():221557 EUR_JPY dir:-1 gain:0.1627 loss:0.1627 sl:157.0267  tp:156.7013\n",
      "TradeDecision():221662 EUR_JPY dir:-1 gain:0.1092 loss:0.1092 sl:158.4772  tp:158.2588\n",
      "TradeDecision():221857 EUR_JPY dir:-1 gain:0.0914 loss:0.0914 sl:157.8254  tp:157.6426\n",
      "TradeDecision():221878 EUR_JPY dir:-1 gain:0.0606 loss:0.0606 sl:157.9086  tp:157.7874\n",
      "TradeDecision():222009 EUR_JPY dir:-1 gain:0.1620 loss:0.1620 sl:158.5620  tp:158.2380\n",
      "TradeDecision():222069 EUR_JPY dir:-1 gain:0.1360 loss:0.1360 sl:159.5120  tp:159.2400\n",
      "TradeDecision():222070 EUR_JPY dir:-1 gain:0.1928 loss:0.1928 sl:159.6948  tp:159.3092\n",
      "TradeDecision():222222 EUR_JPY dir:-1 gain:0.1232 loss:0.1232 sl:158.6502  tp:158.4038\n",
      "TradeDecision():222226 EUR_JPY dir:-1 gain:0.1558 loss:0.1558 sl:158.8868  tp:158.5752\n",
      "TradeDecision():222237 EUR_JPY dir:-1 gain:0.1196 loss:0.1196 sl:159.0346  tp:158.7954\n",
      "TradeDecision():222255 EUR_JPY dir:-1 gain:0.0858 loss:0.0858 sl:159.2258  tp:159.0542\n",
      "TradeDecision():222278 EUR_JPY dir:-1 gain:0.0931 loss:0.0931 sl:159.4171  tp:159.2309\n",
      "TradeDecision():222279 EUR_JPY dir:-1 gain:0.1244 loss:0.1244 sl:159.5244  tp:159.2756\n",
      "TradeDecision():222291 EUR_JPY dir:-1 gain:0.1236 loss:0.1236 sl:159.7686  tp:159.5214\n",
      "TradeDecision():222374 EUR_JPY dir:-1 gain:0.1010 loss:0.1010 sl:159.4690  tp:159.2670\n",
      "TradeDecision():222401 EUR_JPY dir:-1 gain:0.1472 loss:0.1472 sl:159.5402  tp:159.2458\n",
      "TradeDecision():222508 EUR_JPY dir:-1 gain:0.1036 loss:0.1036 sl:159.5716  tp:159.3644\n",
      "TradeDecision():222610 EUR_JPY dir:-1 gain:0.1078 loss:0.1078 sl:158.6278  tp:158.4122\n",
      "TradeDecision():222711 EUR_JPY dir:-1 gain:0.1317 loss:0.1317 sl:158.2997  tp:158.0363\n",
      "TradeDecision():222762 EUR_JPY dir:-1 gain:0.0918 loss:0.0918 sl:158.5828  tp:158.3992\n",
      "TradeDecision():222770 EUR_JPY dir:-1 gain:0.0615 loss:0.0615 sl:158.6575  tp:158.5345\n",
      "TradeDecision():222892 EUR_JPY dir:-1 gain:0.1201 loss:0.1201 sl:157.7911  tp:157.5509\n",
      "TradeDecision():222935 EUR_JPY dir:-1 gain:0.0839 loss:0.0839 sl:158.0909  tp:157.9231\n",
      "TradeDecision():222982 EUR_JPY dir:-1 gain:0.1003 loss:0.1003 sl:158.2403  tp:158.0397\n",
      "TradeDecision():223014 EUR_JPY dir:-1 gain:0.1465 loss:0.1465 sl:158.5865  tp:158.2935\n",
      "TradeDecision():223097 EUR_JPY dir:-1 gain:0.0698 loss:0.0698 sl:158.8708  tp:158.7312\n",
      "TradeDecision():223521 EUR_JPY dir:-1 gain:0.1554 loss:0.1554 sl:158.5494  tp:158.2386\n",
      "TradeDecision():223539 EUR_JPY dir:-1 gain:0.1080 loss:0.1080 sl:158.6570  tp:158.4410\n",
      "TradeDecision():223606 EUR_JPY dir:-1 gain:0.1416 loss:0.1416 sl:158.6306  tp:158.3474\n",
      "TradeDecision():223607 EUR_JPY dir:-1 gain:0.2343 loss:0.2343 sl:158.9113  tp:158.4427\n",
      "TradeDecision():223608 EUR_JPY dir:-1 gain:0.2548 loss:0.2548 sl:159.0158  tp:158.5062\n",
      "TradeDecision():223616 EUR_JPY dir:-1 gain:0.3978 loss:0.3978 sl:160.1438  tp:159.3482\n",
      "TradeDecision():223617 EUR_JPY dir:-1 gain:0.4081 loss:0.4081 sl:160.2901  tp:159.4739\n",
      "TradeDecision():223688 EUR_JPY dir:-1 gain:0.0740 loss:0.0740 sl:160.2110  tp:160.0630\n",
      "TradeDecision():223689 EUR_JPY dir:-1 gain:0.1103 loss:0.1103 sl:160.3353  tp:160.1147\n",
      "TradeDecision():223736 EUR_JPY dir:-1 gain:0.1216 loss:0.1216 sl:160.8666  tp:160.6234\n",
      "TradeDecision():223757 EUR_JPY dir:-1 gain:0.0646 loss:0.0646 sl:160.8746  tp:160.7454\n",
      "TradeDecision():223938 EUR_JPY dir:-1 gain:0.0997 loss:0.0997 sl:160.3157  tp:160.1163\n",
      "TradeDecision():223970 EUR_JPY dir:-1 gain:0.1128 loss:0.1128 sl:160.0888  tp:159.8632\n",
      "TradeDecision():224042 EUR_JPY dir:-1 gain:0.1642 loss:0.1642 sl:160.8462  tp:160.5178\n",
      "TradeDecision():224107 EUR_JPY dir:-1 gain:0.1108 loss:0.1108 sl:161.1038  tp:160.8822\n",
      "TradeDecision():224166 EUR_JPY dir:-1 gain:0.0619 loss:0.0619 sl:160.8359  tp:160.7121\n",
      "TradeDecision():224178 EUR_JPY dir:-1 gain:0.0655 loss:0.0655 sl:160.9535  tp:160.8225\n",
      "TradeDecision():224184 EUR_JPY dir:-1 gain:0.0701 loss:0.0701 sl:161.0481  tp:160.9079\n",
      "TradeDecision():224185 EUR_JPY dir:-1 gain:0.0730 loss:0.0730 sl:161.0790  tp:160.9330\n",
      "TradeDecision():224322 EUR_JPY dir:-1 gain:0.0735 loss:0.0735 sl:160.7535  tp:160.6065\n",
      "TradeDecision():224395 EUR_JPY dir:-1 gain:0.0853 loss:0.0853 sl:160.5573  tp:160.3867\n",
      "TradeDecision():224396 EUR_JPY dir:-1 gain:0.1189 loss:0.1189 sl:160.6649  tp:160.4271\n",
      "TradeDecision():224397 EUR_JPY dir:-1 gain:0.1397 loss:0.1397 sl:160.7487  tp:160.4693\n",
      "TradeDecision():224405 EUR_JPY dir:-1 gain:0.0899 loss:0.0899 sl:160.8709  tp:160.6911\n",
      "TradeDecision():224406 EUR_JPY dir:-1 gain:0.1162 loss:0.1162 sl:160.9722  tp:160.7398\n",
      "TradeDecision():224556 EUR_JPY dir:-1 gain:0.0723 loss:0.0723 sl:160.8613  tp:160.7167\n",
      "TradeDecision():224657 EUR_JPY dir:-1 gain:0.0882 loss:0.0882 sl:160.7082  tp:160.5318\n",
      "TradeDecision():224948 EUR_JPY dir:-1 gain:0.1307 loss:0.1307 sl:159.8957  tp:159.6343\n",
      "TradeDecision():224949 EUR_JPY dir:-1 gain:0.1650 loss:0.1650 sl:160.0240  tp:159.6940\n",
      "TradeDecision():225071 EUR_JPY dir:-1 gain:0.0903 loss:0.0903 sl:160.1623  tp:159.9817\n",
      "TradeDecision():225084 EUR_JPY dir:-1 gain:0.0991 loss:0.0991 sl:160.3811  tp:160.1829\n",
      "TradeDecision():225315 EUR_JPY dir:-1 gain:0.1003 loss:0.1003 sl:159.9383  tp:159.7377\n",
      "TradeDecision():225316 EUR_JPY dir:-1 gain:0.1122 loss:0.1122 sl:159.9882  tp:159.7638\n",
      "TradeDecision():225425 EUR_JPY dir:-1 gain:0.0975 loss:0.0975 sl:159.6575  tp:159.4625\n",
      "TradeDecision():225466 EUR_JPY dir:-1 gain:0.1156 loss:0.1156 sl:159.8966  tp:159.6654\n",
      "TradeDecision():225816 EUR_JPY dir:-1 gain:0.0748 loss:0.0748 sl:160.4828  tp:160.3332\n",
      "TradeDecision():226319 EUR_JPY dir:-1 gain:0.0782 loss:0.0782 sl:161.0732  tp:160.9168\n",
      "TradeDecision():226322 EUR_JPY dir:-1 gain:0.1615 loss:0.1615 sl:161.3675  tp:161.0445\n",
      "TradeDecision():226418 EUR_JPY dir:-1 gain:0.0707 loss:0.0707 sl:160.9267  tp:160.7853\n",
      "TradeDecision():226549 EUR_JPY dir:-1 gain:0.0606 loss:0.0606 sl:161.1476  tp:161.0264\n",
      "TradeDecision():226719 EUR_JPY dir:-1 gain:0.0690 loss:0.0690 sl:160.6540  tp:160.5160\n",
      "TradeDecision():226739 EUR_JPY dir:-1 gain:0.0796 loss:0.0796 sl:160.7196  tp:160.5604\n",
      "TradeDecision():226761 EUR_JPY dir:-1 gain:0.0609 loss:0.0609 sl:160.8209  tp:160.6991\n",
      "TradeDecision():226875 EUR_JPY dir:-1 gain:0.0623 loss:0.0623 sl:160.6873  tp:160.5627\n",
      "TradeDecision():227087 EUR_JPY dir:-1 gain:0.0615 loss:0.0615 sl:160.5465  tp:160.4235\n",
      "TradeDecision():228582 EUR_JPY dir:-1 gain:0.1577 loss:0.1577 sl:161.9577  tp:161.6423\n",
      "TradeDecision():228655 EUR_JPY dir:-1 gain:0.0630 loss:0.0630 sl:161.5630  tp:161.4370\n",
      "TradeDecision():229482 EUR_JPY dir:-1 gain:0.0695 loss:0.0695 sl:161.5205  tp:161.3815\n",
      "TradeDecision():230042 EUR_JPY dir:-1 gain:0.0928 loss:0.0928 sl:161.3238  tp:161.1382\n",
      "TradeDecision():230655 EUR_JPY dir:-1 gain:0.0700 loss:0.0700 sl:161.7800  tp:161.6400\n",
      "TradeDecision():230863 EUR_JPY dir:-1 gain:0.0748 loss:0.0748 sl:161.1868  tp:161.0372\n",
      "TradeDecision():230865 EUR_JPY dir:-1 gain:0.1261 loss:0.1261 sl:161.3711  tp:161.1189\n",
      "TradeDecision():231435 EUR_JPY dir:-1 gain:0.0628 loss:0.0628 sl:162.5028  tp:162.3772\n",
      "TradeDecision():231436 EUR_JPY dir:-1 gain:0.0783 loss:0.0783 sl:162.5583  tp:162.4017\n",
      "TradeDecision():232853 EUR_JPY dir:-1 gain:0.0974 loss:0.0974 sl:163.2514  tp:163.0566\n",
      "TradeDecision():232873 EUR_JPY dir:-1 gain:0.0879 loss:0.0879 sl:163.5069  tp:163.3311\n",
      "TradeDecision():232971 EUR_JPY dir:-1 gain:0.0613 loss:0.0613 sl:163.6153  tp:163.4927\n",
      "TradeDecision():233318 EUR_JPY dir:-1 gain:0.0615 loss:0.0615 sl:163.7935  tp:163.6705\n",
      "TradeDecision():235347 EUR_JPY dir:-1 gain:0.1206 loss:0.1206 sl:160.9186  tp:160.6774\n",
      "TradeDecision():235358 EUR_JPY dir:-1 gain:0.0605 loss:0.0605 sl:161.0345  tp:160.9135\n",
      "TradeDecision():235371 EUR_JPY dir:-1 gain:0.0626 loss:0.0626 sl:161.1586  tp:161.0334\n",
      "TradeDecision():235395 EUR_JPY dir:-1 gain:0.1418 loss:0.1418 sl:161.4128  tp:161.1292\n",
      "TradeDecision():235396 EUR_JPY dir:-1 gain:0.1527 loss:0.1527 sl:161.4727  tp:161.1673\n",
      "TradeDecision():235723 EUR_JPY dir:-1 gain:0.0664 loss:0.0664 sl:161.5964  tp:161.4636\n",
      "TradeDecision():235724 EUR_JPY dir:-1 gain:0.0836 loss:0.0836 sl:161.6576  tp:161.4904\n",
      "TradeDecision():235791 EUR_JPY dir:-1 gain:0.1244 loss:0.1244 sl:161.9604  tp:161.7116\n",
      "TradeDecision():235792 EUR_JPY dir:-1 gain:0.2102 loss:0.2102 sl:162.2242  tp:161.8038\n",
      "TradeDecision():236452 EUR_JPY dir:-1 gain:0.0730 loss:0.0730 sl:162.2000  tp:162.0540\n",
      "TradeDecision():236460 EUR_JPY dir:-1 gain:0.0612 loss:0.0612 sl:162.2992  tp:162.1768\n",
      "TradeDecision():236496 EUR_JPY dir:-1 gain:0.0974 loss:0.0974 sl:162.5234  tp:162.3286\n",
      "TradeDecision():236497 EUR_JPY dir:-1 gain:0.1045 loss:0.1045 sl:162.5705  tp:162.3615\n",
      "TradeDecision():236602 EUR_JPY dir:-1 gain:0.0627 loss:0.0627 sl:162.9687  tp:162.8433\n",
      "TradeDecision():237183 EUR_JPY dir:-1 gain:0.0723 loss:0.0723 sl:162.3583  tp:162.2137\n",
      "TradeDecision():237852 EUR_JPY dir:-1 gain:0.1095 loss:0.1095 sl:161.8065  tp:161.5875\n",
      "TradeDecision():237853 EUR_JPY dir:-1 gain:0.1127 loss:0.1127 sl:161.8467  tp:161.6213\n",
      "TradeDecision():238082 EUR_JPY dir:-1 gain:0.0678 loss:0.0678 sl:162.0098  tp:161.8742\n",
      "TradeDecision():238086 EUR_JPY dir:-1 gain:0.0786 loss:0.0786 sl:162.0976  tp:161.9404\n",
      "TradeDecision():238171 EUR_JPY dir:-1 gain:0.0849 loss:0.0849 sl:162.1949  tp:162.0251\n",
      "TradeDecision():238226 EUR_JPY dir:-1 gain:0.0669 loss:0.0669 sl:162.3839  tp:162.2501\n",
      "TradeDecision():238266 EUR_JPY dir:-1 gain:0.0704 loss:0.0704 sl:162.3484  tp:162.2076\n",
      "TradeDecision():239719 EUR_JPY dir:-1 gain:0.0696 loss:0.0696 sl:161.9076  tp:161.7684\n",
      "TradeDecision():239720 EUR_JPY dir:-1 gain:0.0915 loss:0.0915 sl:161.9835  tp:161.8005\n",
      "TradeDecision():239849 EUR_JPY dir:-1 gain:0.0673 loss:0.0673 sl:162.3953  tp:162.2607\n",
      "TradeDecision():240720 EUR_JPY dir:-1 gain:0.0649 loss:0.0649 sl:162.5629  tp:162.4331\n",
      "TradeDecision():240937 EUR_JPY dir:-1 gain:0.0674 loss:0.0674 sl:162.2784  tp:162.1436\n",
      "TradeDecision():242002 EUR_JPY dir:-1 gain:0.0725 loss:0.0725 sl:161.4925  tp:161.3475\n",
      "TradeDecision():242090 EUR_JPY dir:-1 gain:0.0648 loss:0.0648 sl:161.0458  tp:160.9162\n",
      "TradeDecision():242281 EUR_JPY dir:-1 gain:0.0636 loss:0.0636 sl:161.0816  tp:160.9544\n",
      "TradeDecision():242910 EUR_JPY dir:-1 gain:0.0714 loss:0.0714 sl:160.8174  tp:160.6746\n",
      "TradeDecision():242911 EUR_JPY dir:-1 gain:0.0816 loss:0.0816 sl:160.8616  tp:160.6984\n",
      "TradeDecision():242934 EUR_JPY dir:-1 gain:0.0799 loss:0.0799 sl:161.1239  tp:160.9641\n",
      "TradeDecision():242935 EUR_JPY dir:-1 gain:0.0803 loss:0.0803 sl:161.1453  tp:160.9847\n",
      "TradeDecision():243025 EUR_JPY dir:-1 gain:0.0635 loss:0.0635 sl:161.4575  tp:161.3305\n",
      "TradeDecision():243553 EUR_JPY dir:-1 gain:0.0601 loss:0.0601 sl:161.5111  tp:161.3909\n",
      "TradeDecision():243951 EUR_JPY dir:-1 gain:0.0613 loss:0.0613 sl:161.7153  tp:161.5927\n",
      "TradeDecision():243952 EUR_JPY dir:-1 gain:0.0672 loss:0.0672 sl:161.7432  tp:161.6088\n",
      "TradeDecision():243981 EUR_JPY dir:-1 gain:0.0614 loss:0.0614 sl:161.9734  tp:161.8506\n",
      "TradeDecision():243982 EUR_JPY dir:-1 gain:0.0698 loss:0.0698 sl:162.0138  tp:161.8742\n",
      "TradeDecision():244376 EUR_JPY dir:-1 gain:0.0816 loss:0.0816 sl:161.2616  tp:161.0984\n",
      "TradeDecision():245380 EUR_JPY dir:-1 gain:0.0651 loss:0.0651 sl:161.2431  tp:161.1129\n",
      "TradeDecision():245754 EUR_JPY dir:-1 gain:0.0849 loss:0.0849 sl:161.0709  tp:160.9011\n",
      "TradeDecision():246852 EUR_JPY dir:-1 gain:0.0736 loss:0.0736 sl:161.1216  tp:160.9744\n",
      "TradeDecision():246939 EUR_JPY dir:-1 gain:0.0862 loss:0.0862 sl:160.4442  tp:160.2718\n",
      "TradeDecision():247153 EUR_JPY dir:-1 gain:0.0646 loss:0.0646 sl:160.6036  tp:160.4744\n",
      "TradeDecision():247159 EUR_JPY dir:-1 gain:0.2464 loss:0.2464 sl:161.2324  tp:160.7396\n",
      "TradeDecision():247184 EUR_JPY dir:-1 gain:0.0796 loss:0.0796 sl:161.2476  tp:161.0884\n",
      "TradeDecision():247284 EUR_JPY dir:-1 gain:0.0635 loss:0.0635 sl:160.9515  tp:160.8245\n",
      "TradeDecision():248712 EUR_JPY dir:-1 gain:0.0739 loss:0.0739 sl:161.2399  tp:161.0921\n",
      "TradeDecision():249750 EUR_JPY dir:-1 gain:0.0668 loss:0.0668 sl:162.3388  tp:162.2052\n",
      "TradeDecision():250723 EUR_JPY dir:-1 gain:0.0705 loss:0.0705 sl:162.7195  tp:162.5785\n",
      "TradeDecision():251529 EUR_JPY dir:-1 gain:0.0856 loss:0.0856 sl:160.9486  tp:160.7774\n",
      "TradeDecision():252173 EUR_JPY dir:-1 gain:0.1157 loss:0.1157 sl:160.5597  tp:160.3283\n",
      "TradeDecision():252231 EUR_JPY dir:-1 gain:0.0604 loss:0.0604 sl:160.9014  tp:160.7806\n",
      "TradeDecision():252372 EUR_JPY dir:-1 gain:0.0664 loss:0.0664 sl:160.8384  tp:160.7056\n",
      "TradeDecision():252891 EUR_JPY dir:-1 gain:0.0603 loss:0.0603 sl:160.4003  tp:160.2797\n",
      "TradeDecision():253591 EUR_JPY dir:-1 gain:0.0606 loss:0.0606 sl:159.2346  tp:159.1134\n",
      "TradeDecision():253654 EUR_JPY dir:-1 gain:0.0852 loss:0.0852 sl:159.3292  tp:159.1588\n",
      "TradeDecision():253733 EUR_JPY dir:-1 gain:0.0632 loss:0.0632 sl:159.4442  tp:159.3178\n",
      "TradeDecision():253989 EUR_JPY dir:-1 gain:0.0677 loss:0.0677 sl:158.9667  tp:158.8313\n",
      "TradeDecision():253993 EUR_JPY dir:-1 gain:0.1119 loss:0.1119 sl:159.1599  tp:158.9361\n",
      "TradeDecision():254292 EUR_JPY dir:-1 gain:0.0887 loss:0.0887 sl:159.3737  tp:159.1963\n",
      "TradeDecision():254293 EUR_JPY dir:-1 gain:0.0976 loss:0.0976 sl:159.4206  tp:159.2254\n",
      "TradeDecision():254433 EUR_JPY dir:-1 gain:0.0683 loss:0.0683 sl:159.6403  tp:159.5037\n",
      "TradeDecision():254434 EUR_JPY dir:-1 gain:0.0774 loss:0.0774 sl:159.6834  tp:159.5286\n",
      "TradeDecision():254523 EUR_JPY dir:-1 gain:0.0612 loss:0.0612 sl:159.3352  tp:159.2128\n",
      "TradeDecision():255437 EUR_JPY dir:-1 gain:0.0775 loss:0.0775 sl:158.2075  tp:158.0525\n",
      "TradeDecision():255438 EUR_JPY dir:-1 gain:0.0819 loss:0.0819 sl:158.2339  tp:158.0701\n",
      "TradeDecision():255808 EUR_JPY dir:-1 gain:0.1081 loss:0.1081 sl:159.3561  tp:159.1399\n",
      "TradeDecision():255978 EUR_JPY dir:-1 gain:0.0659 loss:0.0659 sl:158.0439  tp:157.9121\n"
     ]
    }
   ],
   "source": [
    "for i in lost_trades:\n",
    "    print(i)"
   ]
  },
  {
   "cell_type": "code",
   "execution_count": 192,
   "id": "d3a37258-84ec-46de-aadb-b94e4b3689e4",
   "metadata": {},
   "outputs": [
    {
     "data": {
      "text/html": [
       "<div>\n",
       "<style scoped>\n",
       "    .dataframe tbody tr th:only-of-type {\n",
       "        vertical-align: middle;\n",
       "    }\n",
       "\n",
       "    .dataframe tbody tr th {\n",
       "        vertical-align: top;\n",
       "    }\n",
       "\n",
       "    .dataframe thead th {\n",
       "        text-align: right;\n",
       "    }\n",
       "</style>\n",
       "<table border=\"1\" class=\"dataframe\">\n",
       "  <thead>\n",
       "    <tr style=\"text-align: right;\">\n",
       "      <th></th>\n",
       "      <th>time</th>\n",
       "      <th>mid_o</th>\n",
       "      <th>mid_h</th>\n",
       "      <th>mid_l</th>\n",
       "      <th>mid_c</th>\n",
       "      <th>ask_o</th>\n",
       "      <th>ask_h</th>\n",
       "      <th>ask_l</th>\n",
       "      <th>ask_c</th>\n",
       "      <th>bid_o</th>\n",
       "      <th>bid_h</th>\n",
       "      <th>bid_l</th>\n",
       "      <th>bid_c</th>\n",
       "      <th>PAIR</th>\n",
       "      <th>SPREAD</th>\n",
       "      <th>BB_MA</th>\n",
       "      <th>BB_UP</th>\n",
       "      <th>BB_LW</th>\n",
       "      <th>GAIN</th>\n",
       "      <th>CROSS_BB_UP</th>\n",
       "      <th>PREV_CROSS_BB_UP</th>\n",
       "      <th>SIGNAL</th>\n",
       "      <th>SL</th>\n",
       "      <th>TP</th>\n",
       "      <th>LOSS</th>\n",
       "    </tr>\n",
       "  </thead>\n",
       "  <tbody>\n",
       "    <tr>\n",
       "      <th>6855</th>\n",
       "      <td>2024-01-08T16:50:00.000000000Z</td>\n",
       "      <td>157.860</td>\n",
       "      <td>157.871</td>\n",
       "      <td>157.858</td>\n",
       "      <td>157.859</td>\n",
       "      <td>157.870</td>\n",
       "      <td>157.881</td>\n",
       "      <td>157.867</td>\n",
       "      <td>157.869</td>\n",
       "      <td>157.851</td>\n",
       "      <td>157.861</td>\n",
       "      <td>157.849</td>\n",
       "      <td>157.849</td>\n",
       "      <td>EUR_JPY</td>\n",
       "      <td>0.020</td>\n",
       "      <td>157.864333</td>\n",
       "      <td>157.878756</td>\n",
       "      <td>157.849911</td>\n",
       "      <td>-0.00320</td>\n",
       "      <td>0</td>\n",
       "      <td>0.0</td>\n",
       "      <td>0</td>\n",
       "      <td>0.0</td>\n",
       "      <td>0.0</td>\n",
       "      <td>157.859</td>\n",
       "    </tr>\n",
       "    <tr>\n",
       "      <th>6856</th>\n",
       "      <td>2024-01-08T16:51:00.000000000Z</td>\n",
       "      <td>157.856</td>\n",
       "      <td>157.884</td>\n",
       "      <td>157.854</td>\n",
       "      <td>157.883</td>\n",
       "      <td>157.865</td>\n",
       "      <td>157.892</td>\n",
       "      <td>157.864</td>\n",
       "      <td>157.892</td>\n",
       "      <td>157.846</td>\n",
       "      <td>157.875</td>\n",
       "      <td>157.844</td>\n",
       "      <td>157.874</td>\n",
       "      <td>EUR_JPY</td>\n",
       "      <td>0.018</td>\n",
       "      <td>157.865733</td>\n",
       "      <td>157.880844</td>\n",
       "      <td>157.850623</td>\n",
       "      <td>0.01036</td>\n",
       "      <td>1</td>\n",
       "      <td>0.0</td>\n",
       "      <td>0</td>\n",
       "      <td>0.0</td>\n",
       "      <td>0.0</td>\n",
       "      <td>157.883</td>\n",
       "    </tr>\n",
       "    <tr>\n",
       "      <th>6857</th>\n",
       "      <td>2024-01-08T16:52:00.000000000Z</td>\n",
       "      <td>157.880</td>\n",
       "      <td>157.898</td>\n",
       "      <td>157.872</td>\n",
       "      <td>157.893</td>\n",
       "      <td>157.889</td>\n",
       "      <td>157.907</td>\n",
       "      <td>157.881</td>\n",
       "      <td>157.902</td>\n",
       "      <td>157.872</td>\n",
       "      <td>157.888</td>\n",
       "      <td>157.862</td>\n",
       "      <td>157.884</td>\n",
       "      <td>EUR_JPY</td>\n",
       "      <td>0.018</td>\n",
       "      <td>157.867333</td>\n",
       "      <td>157.887708</td>\n",
       "      <td>157.846959</td>\n",
       "      <td>0.01540</td>\n",
       "      <td>1</td>\n",
       "      <td>1.0</td>\n",
       "      <td>0</td>\n",
       "      <td>0.0</td>\n",
       "      <td>0.0</td>\n",
       "      <td>157.893</td>\n",
       "    </tr>\n",
       "    <tr>\n",
       "      <th>6858</th>\n",
       "      <td>2024-01-08T16:53:00.000000000Z</td>\n",
       "      <td>157.897</td>\n",
       "      <td>157.905</td>\n",
       "      <td>157.888</td>\n",
       "      <td>157.893</td>\n",
       "      <td>157.906</td>\n",
       "      <td>157.915</td>\n",
       "      <td>157.896</td>\n",
       "      <td>157.903</td>\n",
       "      <td>157.888</td>\n",
       "      <td>157.895</td>\n",
       "      <td>157.877</td>\n",
       "      <td>157.883</td>\n",
       "      <td>EUR_JPY</td>\n",
       "      <td>0.020</td>\n",
       "      <td>157.871367</td>\n",
       "      <td>157.896340</td>\n",
       "      <td>157.846394</td>\n",
       "      <td>0.01298</td>\n",
       "      <td>0</td>\n",
       "      <td>1.0</td>\n",
       "      <td>0</td>\n",
       "      <td>0.0</td>\n",
       "      <td>0.0</td>\n",
       "      <td>157.893</td>\n",
       "    </tr>\n",
       "    <tr>\n",
       "      <th>6859</th>\n",
       "      <td>2024-01-08T16:54:00.000000000Z</td>\n",
       "      <td>157.897</td>\n",
       "      <td>157.920</td>\n",
       "      <td>157.892</td>\n",
       "      <td>157.919</td>\n",
       "      <td>157.907</td>\n",
       "      <td>157.930</td>\n",
       "      <td>157.901</td>\n",
       "      <td>157.929</td>\n",
       "      <td>157.887</td>\n",
       "      <td>157.911</td>\n",
       "      <td>157.881</td>\n",
       "      <td>157.909</td>\n",
       "      <td>EUR_JPY</td>\n",
       "      <td>0.020</td>\n",
       "      <td>157.877000</td>\n",
       "      <td>157.908991</td>\n",
       "      <td>157.845009</td>\n",
       "      <td>0.02520</td>\n",
       "      <td>1</td>\n",
       "      <td>0.0</td>\n",
       "      <td>0</td>\n",
       "      <td>0.0</td>\n",
       "      <td>0.0</td>\n",
       "      <td>157.919</td>\n",
       "    </tr>\n",
       "    <tr>\n",
       "      <th>...</th>\n",
       "      <td>...</td>\n",
       "      <td>...</td>\n",
       "      <td>...</td>\n",
       "      <td>...</td>\n",
       "      <td>...</td>\n",
       "      <td>...</td>\n",
       "      <td>...</td>\n",
       "      <td>...</td>\n",
       "      <td>...</td>\n",
       "      <td>...</td>\n",
       "      <td>...</td>\n",
       "      <td>...</td>\n",
       "      <td>...</td>\n",
       "      <td>...</td>\n",
       "      <td>...</td>\n",
       "      <td>...</td>\n",
       "      <td>...</td>\n",
       "      <td>...</td>\n",
       "      <td>...</td>\n",
       "      <td>...</td>\n",
       "      <td>...</td>\n",
       "      <td>...</td>\n",
       "      <td>...</td>\n",
       "      <td>...</td>\n",
       "      <td>...</td>\n",
       "    </tr>\n",
       "    <tr>\n",
       "      <th>6930</th>\n",
       "      <td>2024-01-08T18:05:00.000000000Z</td>\n",
       "      <td>157.868</td>\n",
       "      <td>157.876</td>\n",
       "      <td>157.858</td>\n",
       "      <td>157.872</td>\n",
       "      <td>157.876</td>\n",
       "      <td>157.884</td>\n",
       "      <td>157.867</td>\n",
       "      <td>157.880</td>\n",
       "      <td>157.859</td>\n",
       "      <td>157.868</td>\n",
       "      <td>157.850</td>\n",
       "      <td>157.863</td>\n",
       "      <td>EUR_JPY</td>\n",
       "      <td>0.017</td>\n",
       "      <td>157.861100</td>\n",
       "      <td>157.886916</td>\n",
       "      <td>157.835284</td>\n",
       "      <td>0.00654</td>\n",
       "      <td>0</td>\n",
       "      <td>0.0</td>\n",
       "      <td>0</td>\n",
       "      <td>0.0</td>\n",
       "      <td>0.0</td>\n",
       "      <td>157.872</td>\n",
       "    </tr>\n",
       "    <tr>\n",
       "      <th>6931</th>\n",
       "      <td>2024-01-08T18:06:00.000000000Z</td>\n",
       "      <td>157.872</td>\n",
       "      <td>157.884</td>\n",
       "      <td>157.868</td>\n",
       "      <td>157.884</td>\n",
       "      <td>157.880</td>\n",
       "      <td>157.894</td>\n",
       "      <td>157.876</td>\n",
       "      <td>157.894</td>\n",
       "      <td>157.865</td>\n",
       "      <td>157.875</td>\n",
       "      <td>157.861</td>\n",
       "      <td>157.875</td>\n",
       "      <td>EUR_JPY</td>\n",
       "      <td>0.019</td>\n",
       "      <td>157.861167</td>\n",
       "      <td>157.887179</td>\n",
       "      <td>157.835154</td>\n",
       "      <td>0.01370</td>\n",
       "      <td>0</td>\n",
       "      <td>0.0</td>\n",
       "      <td>0</td>\n",
       "      <td>0.0</td>\n",
       "      <td>0.0</td>\n",
       "      <td>157.884</td>\n",
       "    </tr>\n",
       "    <tr>\n",
       "      <th>6932</th>\n",
       "      <td>2024-01-08T18:07:00.000000000Z</td>\n",
       "      <td>157.886</td>\n",
       "      <td>157.905</td>\n",
       "      <td>157.886</td>\n",
       "      <td>157.901</td>\n",
       "      <td>157.894</td>\n",
       "      <td>157.914</td>\n",
       "      <td>157.894</td>\n",
       "      <td>157.910</td>\n",
       "      <td>157.877</td>\n",
       "      <td>157.896</td>\n",
       "      <td>157.877</td>\n",
       "      <td>157.892</td>\n",
       "      <td>EUR_JPY</td>\n",
       "      <td>0.018</td>\n",
       "      <td>157.863367</td>\n",
       "      <td>157.897239</td>\n",
       "      <td>157.829495</td>\n",
       "      <td>0.02258</td>\n",
       "      <td>1</td>\n",
       "      <td>0.0</td>\n",
       "      <td>0</td>\n",
       "      <td>0.0</td>\n",
       "      <td>0.0</td>\n",
       "      <td>157.901</td>\n",
       "    </tr>\n",
       "    <tr>\n",
       "      <th>6933</th>\n",
       "      <td>2024-01-08T18:08:00.000000000Z</td>\n",
       "      <td>157.902</td>\n",
       "      <td>157.910</td>\n",
       "      <td>157.900</td>\n",
       "      <td>157.909</td>\n",
       "      <td>157.910</td>\n",
       "      <td>157.919</td>\n",
       "      <td>157.908</td>\n",
       "      <td>157.918</td>\n",
       "      <td>157.893</td>\n",
       "      <td>157.901</td>\n",
       "      <td>157.892</td>\n",
       "      <td>157.900</td>\n",
       "      <td>EUR_JPY</td>\n",
       "      <td>0.018</td>\n",
       "      <td>157.867733</td>\n",
       "      <td>157.911125</td>\n",
       "      <td>157.824342</td>\n",
       "      <td>0.02476</td>\n",
       "      <td>0</td>\n",
       "      <td>1.0</td>\n",
       "      <td>0</td>\n",
       "      <td>0.0</td>\n",
       "      <td>0.0</td>\n",
       "      <td>157.909</td>\n",
       "    </tr>\n",
       "    <tr>\n",
       "      <th>6934</th>\n",
       "      <td>2024-01-08T18:09:00.000000000Z</td>\n",
       "      <td>157.910</td>\n",
       "      <td>157.912</td>\n",
       "      <td>157.895</td>\n",
       "      <td>157.898</td>\n",
       "      <td>157.918</td>\n",
       "      <td>157.921</td>\n",
       "      <td>157.904</td>\n",
       "      <td>157.907</td>\n",
       "      <td>157.901</td>\n",
       "      <td>157.903</td>\n",
       "      <td>157.885</td>\n",
       "      <td>157.888</td>\n",
       "      <td>EUR_JPY</td>\n",
       "      <td>0.019</td>\n",
       "      <td>157.871900</td>\n",
       "      <td>157.919763</td>\n",
       "      <td>157.824037</td>\n",
       "      <td>0.01566</td>\n",
       "      <td>0</td>\n",
       "      <td>0.0</td>\n",
       "      <td>0</td>\n",
       "      <td>0.0</td>\n",
       "      <td>0.0</td>\n",
       "      <td>157.898</td>\n",
       "    </tr>\n",
       "  </tbody>\n",
       "</table>\n",
       "<p>80 rows × 25 columns</p>\n",
       "</div>"
      ],
      "text/plain": [
       "                                time    mid_o    mid_h    mid_l    mid_c    ask_o    ask_h    ask_l    ask_c    bid_o    bid_h    bid_l    bid_c     PAIR  SPREAD       BB_MA       BB_UP       BB_LW     GAIN  CROSS_BB_UP  PREV_CROSS_BB_UP  SIGNAL   SL   TP     LOSS\n",
       "6855  2024-01-08T16:50:00.000000000Z  157.860  157.871  157.858  157.859  157.870  157.881  157.867  157.869  157.851  157.861  157.849  157.849  EUR_JPY   0.020  157.864333  157.878756  157.849911 -0.00320            0               0.0       0  0.0  0.0  157.859\n",
       "6856  2024-01-08T16:51:00.000000000Z  157.856  157.884  157.854  157.883  157.865  157.892  157.864  157.892  157.846  157.875  157.844  157.874  EUR_JPY   0.018  157.865733  157.880844  157.850623  0.01036            1               0.0       0  0.0  0.0  157.883\n",
       "6857  2024-01-08T16:52:00.000000000Z  157.880  157.898  157.872  157.893  157.889  157.907  157.881  157.902  157.872  157.888  157.862  157.884  EUR_JPY   0.018  157.867333  157.887708  157.846959  0.01540            1               1.0       0  0.0  0.0  157.893\n",
       "6858  2024-01-08T16:53:00.000000000Z  157.897  157.905  157.888  157.893  157.906  157.915  157.896  157.903  157.888  157.895  157.877  157.883  EUR_JPY   0.020  157.871367  157.896340  157.846394  0.01298            0               1.0       0  0.0  0.0  157.893\n",
       "6859  2024-01-08T16:54:00.000000000Z  157.897  157.920  157.892  157.919  157.907  157.930  157.901  157.929  157.887  157.911  157.881  157.909  EUR_JPY   0.020  157.877000  157.908991  157.845009  0.02520            1               0.0       0  0.0  0.0  157.919\n",
       "...                              ...      ...      ...      ...      ...      ...      ...      ...      ...      ...      ...      ...      ...      ...     ...         ...         ...         ...      ...          ...               ...     ...  ...  ...      ...\n",
       "6930  2024-01-08T18:05:00.000000000Z  157.868  157.876  157.858  157.872  157.876  157.884  157.867  157.880  157.859  157.868  157.850  157.863  EUR_JPY   0.017  157.861100  157.886916  157.835284  0.00654            0               0.0       0  0.0  0.0  157.872\n",
       "6931  2024-01-08T18:06:00.000000000Z  157.872  157.884  157.868  157.884  157.880  157.894  157.876  157.894  157.865  157.875  157.861  157.875  EUR_JPY   0.019  157.861167  157.887179  157.835154  0.01370            0               0.0       0  0.0  0.0  157.884\n",
       "6932  2024-01-08T18:07:00.000000000Z  157.886  157.905  157.886  157.901  157.894  157.914  157.894  157.910  157.877  157.896  157.877  157.892  EUR_JPY   0.018  157.863367  157.897239  157.829495  0.02258            1               0.0       0  0.0  0.0  157.901\n",
       "6933  2024-01-08T18:08:00.000000000Z  157.902  157.910  157.900  157.909  157.910  157.919  157.908  157.918  157.893  157.901  157.892  157.900  EUR_JPY   0.018  157.867733  157.911125  157.824342  0.02476            0               1.0       0  0.0  0.0  157.909\n",
       "6934  2024-01-08T18:09:00.000000000Z  157.910  157.912  157.895  157.898  157.918  157.921  157.904  157.907  157.901  157.903  157.885  157.888  EUR_JPY   0.019  157.871900  157.919763  157.824037  0.01566            0               0.0       0  0.0  0.0  157.898\n",
       "\n",
       "[80 rows x 25 columns]"
      ]
     },
     "execution_count": 192,
     "metadata": {},
     "output_type": "execute_result"
    }
   ],
   "source": [
    "index = 6885 \n",
    "\n",
    "df_pl =df_an.iloc[index-30:index+50].copy()\n",
    "df_pl"
   ]
  },
  {
   "cell_type": "code",
   "execution_count": 193,
   "id": "f772db58-3c77-4f92-b721-faee9df6477d",
   "metadata": {},
   "outputs": [],
   "source": [
    "import plotly\n",
    "import plotly.graph_objects as go"
   ]
  },
  {
   "cell_type": "code",
   "execution_count": 194,
   "id": "2486d5e2-329f-4544-9c2e-86a6aaa3352c",
   "metadata": {},
   "outputs": [
    {
     "data": {
      "application/vnd.plotly.v1+json": {
       "config": {
        "plotlyServerURL": "https://plot.ly"
       },
       "data": [
        {
         "close": [
          157.859,
          157.883,
          157.893,
          157.893,
          157.919,
          157.952,
          157.952,
          157.955,
          157.936,
          157.934,
          157.923,
          157.888,
          157.906,
          157.906,
          157.898,
          157.89,
          157.876,
          157.888,
          157.87,
          157.893,
          157.91,
          157.898,
          157.878,
          157.902,
          157.884,
          157.86,
          157.838,
          157.826,
          157.838,
          157.866,
          157.866,
          157.866,
          157.874,
          157.879,
          157.885,
          157.856,
          157.849,
          157.852,
          157.844,
          157.844,
          157.838,
          157.831,
          157.82,
          157.818,
          157.811,
          157.8,
          157.794,
          157.777,
          157.788,
          157.803,
          157.804,
          157.8,
          157.8,
          157.828,
          157.82,
          157.808,
          157.806,
          157.802,
          157.8,
          157.815,
          157.809,
          157.826,
          157.852,
          157.87,
          157.862,
          157.882,
          157.884,
          157.87,
          157.86,
          157.858,
          157.836,
          157.834,
          157.869,
          157.864,
          157.866,
          157.872,
          157.884,
          157.901,
          157.909,
          157.898
         ],
         "high": [
          157.871,
          157.884,
          157.898,
          157.905,
          157.92,
          157.954,
          157.976,
          157.987,
          157.966,
          157.938,
          157.946,
          157.922,
          157.908,
          157.909,
          157.91,
          157.914,
          157.89,
          157.89,
          157.89,
          157.896,
          157.914,
          157.92,
          157.9,
          157.907,
          157.902,
          157.882,
          157.859,
          157.837,
          157.84,
          157.866,
          157.878,
          157.874,
          157.874,
          157.88,
          157.886,
          157.886,
          157.86,
          157.857,
          157.86,
          157.85,
          157.845,
          157.844,
          157.832,
          157.822,
          157.821,
          157.814,
          157.805,
          157.798,
          157.804,
          157.804,
          157.81,
          157.802,
          157.818,
          157.832,
          157.839,
          157.83,
          157.814,
          157.808,
          157.808,
          157.816,
          157.818,
          157.828,
          157.854,
          157.87,
          157.87,
          157.888,
          157.886,
          157.888,
          157.872,
          157.866,
          157.858,
          157.846,
          157.869,
          157.874,
          157.868,
          157.876,
          157.884,
          157.905,
          157.91,
          157.912
         ],
         "low": [
          157.858,
          157.854,
          157.872,
          157.888,
          157.892,
          157.916,
          157.948,
          157.942,
          157.934,
          157.925,
          157.92,
          157.868,
          157.882,
          157.892,
          157.888,
          157.887,
          157.864,
          157.865,
          157.87,
          157.87,
          157.892,
          157.897,
          157.876,
          157.878,
          157.884,
          157.86,
          157.836,
          157.821,
          157.827,
          157.836,
          157.85,
          157.86,
          157.856,
          157.867,
          157.878,
          157.85,
          157.846,
          157.841,
          157.83,
          157.84,
          157.831,
          157.83,
          157.82,
          157.811,
          157.805,
          157.798,
          157.786,
          157.774,
          157.778,
          157.784,
          157.787,
          157.792,
          157.799,
          157.798,
          157.82,
          157.808,
          157.802,
          157.8,
          157.798,
          157.8,
          157.801,
          157.804,
          157.824,
          157.852,
          157.856,
          157.858,
          157.864,
          157.868,
          157.856,
          157.856,
          157.836,
          157.83,
          157.834,
          157.857,
          157.858,
          157.858,
          157.868,
          157.886,
          157.9,
          157.895
         ],
         "open": [
          157.86,
          157.856,
          157.88,
          157.897,
          157.897,
          157.92,
          157.951,
          157.952,
          157.954,
          157.934,
          157.936,
          157.922,
          157.887,
          157.902,
          157.908,
          157.899,
          157.89,
          157.876,
          157.888,
          157.87,
          157.892,
          157.912,
          157.898,
          157.878,
          157.902,
          157.882,
          157.858,
          157.837,
          157.827,
          157.838,
          157.867,
          157.866,
          157.865,
          157.873,
          157.88,
          157.886,
          157.855,
          157.848,
          157.853,
          157.842,
          157.844,
          157.838,
          157.832,
          157.82,
          157.821,
          157.81,
          157.8,
          157.794,
          157.778,
          157.789,
          157.804,
          157.8,
          157.799,
          157.801,
          157.83,
          157.824,
          157.81,
          157.806,
          157.802,
          157.8,
          157.814,
          157.81,
          157.826,
          157.854,
          157.869,
          157.86,
          157.882,
          157.883,
          157.871,
          157.86,
          157.854,
          157.837,
          157.834,
          157.87,
          157.86,
          157.868,
          157.872,
          157.886,
          157.902,
          157.91
         ],
         "type": "candlestick",
         "x": [
          "2024-01-08T16:50:00.000000000Z",
          "2024-01-08T16:51:00.000000000Z",
          "2024-01-08T16:52:00.000000000Z",
          "2024-01-08T16:53:00.000000000Z",
          "2024-01-08T16:54:00.000000000Z",
          "2024-01-08T16:55:00.000000000Z",
          "2024-01-08T16:56:00.000000000Z",
          "2024-01-08T16:57:00.000000000Z",
          "2024-01-08T16:58:00.000000000Z",
          "2024-01-08T16:59:00.000000000Z",
          "2024-01-08T17:00:00.000000000Z",
          "2024-01-08T17:01:00.000000000Z",
          "2024-01-08T17:02:00.000000000Z",
          "2024-01-08T17:03:00.000000000Z",
          "2024-01-08T17:04:00.000000000Z",
          "2024-01-08T17:05:00.000000000Z",
          "2024-01-08T17:06:00.000000000Z",
          "2024-01-08T17:07:00.000000000Z",
          "2024-01-08T17:08:00.000000000Z",
          "2024-01-08T17:09:00.000000000Z",
          "2024-01-08T17:10:00.000000000Z",
          "2024-01-08T17:11:00.000000000Z",
          "2024-01-08T17:12:00.000000000Z",
          "2024-01-08T17:13:00.000000000Z",
          "2024-01-08T17:14:00.000000000Z",
          "2024-01-08T17:15:00.000000000Z",
          "2024-01-08T17:16:00.000000000Z",
          "2024-01-08T17:17:00.000000000Z",
          "2024-01-08T17:18:00.000000000Z",
          "2024-01-08T17:19:00.000000000Z",
          "2024-01-08T17:20:00.000000000Z",
          "2024-01-08T17:21:00.000000000Z",
          "2024-01-08T17:22:00.000000000Z",
          "2024-01-08T17:23:00.000000000Z",
          "2024-01-08T17:24:00.000000000Z",
          "2024-01-08T17:25:00.000000000Z",
          "2024-01-08T17:26:00.000000000Z",
          "2024-01-08T17:27:00.000000000Z",
          "2024-01-08T17:28:00.000000000Z",
          "2024-01-08T17:29:00.000000000Z",
          "2024-01-08T17:30:00.000000000Z",
          "2024-01-08T17:31:00.000000000Z",
          "2024-01-08T17:32:00.000000000Z",
          "2024-01-08T17:33:00.000000000Z",
          "2024-01-08T17:34:00.000000000Z",
          "2024-01-08T17:35:00.000000000Z",
          "2024-01-08T17:36:00.000000000Z",
          "2024-01-08T17:37:00.000000000Z",
          "2024-01-08T17:38:00.000000000Z",
          "2024-01-08T17:39:00.000000000Z",
          "2024-01-08T17:40:00.000000000Z",
          "2024-01-08T17:41:00.000000000Z",
          "2024-01-08T17:42:00.000000000Z",
          "2024-01-08T17:43:00.000000000Z",
          "2024-01-08T17:44:00.000000000Z",
          "2024-01-08T17:45:00.000000000Z",
          "2024-01-08T17:46:00.000000000Z",
          "2024-01-08T17:47:00.000000000Z",
          "2024-01-08T17:48:00.000000000Z",
          "2024-01-08T17:49:00.000000000Z",
          "2024-01-08T17:50:00.000000000Z",
          "2024-01-08T17:51:00.000000000Z",
          "2024-01-08T17:52:00.000000000Z",
          "2024-01-08T17:53:00.000000000Z",
          "2024-01-08T17:54:00.000000000Z",
          "2024-01-08T17:55:00.000000000Z",
          "2024-01-08T17:56:00.000000000Z",
          "2024-01-08T17:57:00.000000000Z",
          "2024-01-08T17:58:00.000000000Z",
          "2024-01-08T17:59:00.000000000Z",
          "2024-01-08T18:00:00.000000000Z",
          "2024-01-08T18:01:00.000000000Z",
          "2024-01-08T18:02:00.000000000Z",
          "2024-01-08T18:03:00.000000000Z",
          "2024-01-08T18:04:00.000000000Z",
          "2024-01-08T18:05:00.000000000Z",
          "2024-01-08T18:06:00.000000000Z",
          "2024-01-08T18:07:00.000000000Z",
          "2024-01-08T18:08:00.000000000Z",
          "2024-01-08T18:09:00.000000000Z"
         ]
        },
        {
         "line": {
          "color": "blue",
          "width": 2
         },
         "mode": "lines",
         "name": "BB_UP Moving Average",
         "type": "scatter",
         "x": [
          "2024-01-08T16:50:00.000000000Z",
          "2024-01-08T16:51:00.000000000Z",
          "2024-01-08T16:52:00.000000000Z",
          "2024-01-08T16:53:00.000000000Z",
          "2024-01-08T16:54:00.000000000Z",
          "2024-01-08T16:55:00.000000000Z",
          "2024-01-08T16:56:00.000000000Z",
          "2024-01-08T16:57:00.000000000Z",
          "2024-01-08T16:58:00.000000000Z",
          "2024-01-08T16:59:00.000000000Z",
          "2024-01-08T17:00:00.000000000Z",
          "2024-01-08T17:01:00.000000000Z",
          "2024-01-08T17:02:00.000000000Z",
          "2024-01-08T17:03:00.000000000Z",
          "2024-01-08T17:04:00.000000000Z",
          "2024-01-08T17:05:00.000000000Z",
          "2024-01-08T17:06:00.000000000Z",
          "2024-01-08T17:07:00.000000000Z",
          "2024-01-08T17:08:00.000000000Z",
          "2024-01-08T17:09:00.000000000Z",
          "2024-01-08T17:10:00.000000000Z",
          "2024-01-08T17:11:00.000000000Z",
          "2024-01-08T17:12:00.000000000Z",
          "2024-01-08T17:13:00.000000000Z",
          "2024-01-08T17:14:00.000000000Z",
          "2024-01-08T17:15:00.000000000Z",
          "2024-01-08T17:16:00.000000000Z",
          "2024-01-08T17:17:00.000000000Z",
          "2024-01-08T17:18:00.000000000Z",
          "2024-01-08T17:19:00.000000000Z",
          "2024-01-08T17:20:00.000000000Z",
          "2024-01-08T17:21:00.000000000Z",
          "2024-01-08T17:22:00.000000000Z",
          "2024-01-08T17:23:00.000000000Z",
          "2024-01-08T17:24:00.000000000Z",
          "2024-01-08T17:25:00.000000000Z",
          "2024-01-08T17:26:00.000000000Z",
          "2024-01-08T17:27:00.000000000Z",
          "2024-01-08T17:28:00.000000000Z",
          "2024-01-08T17:29:00.000000000Z",
          "2024-01-08T17:30:00.000000000Z",
          "2024-01-08T17:31:00.000000000Z",
          "2024-01-08T17:32:00.000000000Z",
          "2024-01-08T17:33:00.000000000Z",
          "2024-01-08T17:34:00.000000000Z",
          "2024-01-08T17:35:00.000000000Z",
          "2024-01-08T17:36:00.000000000Z",
          "2024-01-08T17:37:00.000000000Z",
          "2024-01-08T17:38:00.000000000Z",
          "2024-01-08T17:39:00.000000000Z",
          "2024-01-08T17:40:00.000000000Z",
          "2024-01-08T17:41:00.000000000Z",
          "2024-01-08T17:42:00.000000000Z",
          "2024-01-08T17:43:00.000000000Z",
          "2024-01-08T17:44:00.000000000Z",
          "2024-01-08T17:45:00.000000000Z",
          "2024-01-08T17:46:00.000000000Z",
          "2024-01-08T17:47:00.000000000Z",
          "2024-01-08T17:48:00.000000000Z",
          "2024-01-08T17:49:00.000000000Z",
          "2024-01-08T17:50:00.000000000Z",
          "2024-01-08T17:51:00.000000000Z",
          "2024-01-08T17:52:00.000000000Z",
          "2024-01-08T17:53:00.000000000Z",
          "2024-01-08T17:54:00.000000000Z",
          "2024-01-08T17:55:00.000000000Z",
          "2024-01-08T17:56:00.000000000Z",
          "2024-01-08T17:57:00.000000000Z",
          "2024-01-08T17:58:00.000000000Z",
          "2024-01-08T17:59:00.000000000Z",
          "2024-01-08T18:00:00.000000000Z",
          "2024-01-08T18:01:00.000000000Z",
          "2024-01-08T18:02:00.000000000Z",
          "2024-01-08T18:03:00.000000000Z",
          "2024-01-08T18:04:00.000000000Z",
          "2024-01-08T18:05:00.000000000Z",
          "2024-01-08T18:06:00.000000000Z",
          "2024-01-08T18:07:00.000000000Z",
          "2024-01-08T18:08:00.000000000Z",
          "2024-01-08T18:09:00.000000000Z"
         ],
         "y": [
          157.8787555387538,
          157.8808437911394,
          157.88770760927838,
          157.89633963989513,
          157.90899073954338,
          157.9348987425537,
          157.9606587787556,
          157.9800117566084,
          157.98840951390008,
          157.98830253390327,
          157.98419820107551,
          157.98005383778076,
          157.97813810449668,
          157.9771216176629,
          157.97820157975565,
          157.97566895293733,
          157.96740142386108,
          157.95095586889045,
          157.93759188812993,
          157.92541005116647,
          157.91282542330788,
          157.91571491782614,
          157.91442311932238,
          157.91270886486228,
          157.9111185802774,
          157.91168840165054,
          157.92006754611415,
          157.92907888604734,
          157.93188394276126,
          157.92919604961085,
          157.9199488325262,
          157.90896907465142,
          157.9049871489399,
          157.89740667663312,
          157.89439201388166,
          157.89376583362971,
          157.89348015002767,
          157.88892259066225,
          157.88618878269418,
          157.8873771632902,
          157.88835919833923,
          157.88798574136302,
          157.88767433457863,
          157.88319571138175,
          157.8707950111004,
          157.86570757404016,
          157.8642525482754,
          157.86244959192084,
          157.85681181401102,
          157.8473414258719,
          157.8380754394644,
          157.8271665660264,
          157.82040800293552,
          157.82153727130859,
          157.82775188356825,
          157.83025644125408,
          157.83099252484897,
          157.82857494470036,
          157.82700504320388,
          157.82693311573053,
          157.82683115736774,
          157.8277598624757,
          157.8403930697133,
          157.85957575309902,
          157.87156859595387,
          157.88732012016362,
          157.89928944145322,
          157.9059232795398,
          157.9051986097776,
          157.902679093817,
          157.89517062089723,
          157.88960093236707,
          157.88867246807638,
          157.88881921571652,
          157.88898676131583,
          157.8869161593446,
          157.88717948419756,
          157.8972385386687,
          157.91112508892857,
          157.91976302482053
         ]
        }
       ],
       "layout": {
        "autosize": true,
        "template": {
         "data": {
          "bar": [
           {
            "error_x": {
             "color": "#2a3f5f"
            },
            "error_y": {
             "color": "#2a3f5f"
            },
            "marker": {
             "line": {
              "color": "#E5ECF6",
              "width": 0.5
             },
             "pattern": {
              "fillmode": "overlay",
              "size": 10,
              "solidity": 0.2
             }
            },
            "type": "bar"
           }
          ],
          "barpolar": [
           {
            "marker": {
             "line": {
              "color": "#E5ECF6",
              "width": 0.5
             },
             "pattern": {
              "fillmode": "overlay",
              "size": 10,
              "solidity": 0.2
             }
            },
            "type": "barpolar"
           }
          ],
          "carpet": [
           {
            "aaxis": {
             "endlinecolor": "#2a3f5f",
             "gridcolor": "white",
             "linecolor": "white",
             "minorgridcolor": "white",
             "startlinecolor": "#2a3f5f"
            },
            "baxis": {
             "endlinecolor": "#2a3f5f",
             "gridcolor": "white",
             "linecolor": "white",
             "minorgridcolor": "white",
             "startlinecolor": "#2a3f5f"
            },
            "type": "carpet"
           }
          ],
          "choropleth": [
           {
            "colorbar": {
             "outlinewidth": 0,
             "ticks": ""
            },
            "type": "choropleth"
           }
          ],
          "contour": [
           {
            "colorbar": {
             "outlinewidth": 0,
             "ticks": ""
            },
            "colorscale": [
             [
              0,
              "#0d0887"
             ],
             [
              0.1111111111111111,
              "#46039f"
             ],
             [
              0.2222222222222222,
              "#7201a8"
             ],
             [
              0.3333333333333333,
              "#9c179e"
             ],
             [
              0.4444444444444444,
              "#bd3786"
             ],
             [
              0.5555555555555556,
              "#d8576b"
             ],
             [
              0.6666666666666666,
              "#ed7953"
             ],
             [
              0.7777777777777778,
              "#fb9f3a"
             ],
             [
              0.8888888888888888,
              "#fdca26"
             ],
             [
              1,
              "#f0f921"
             ]
            ],
            "type": "contour"
           }
          ],
          "contourcarpet": [
           {
            "colorbar": {
             "outlinewidth": 0,
             "ticks": ""
            },
            "type": "contourcarpet"
           }
          ],
          "heatmap": [
           {
            "colorbar": {
             "outlinewidth": 0,
             "ticks": ""
            },
            "colorscale": [
             [
              0,
              "#0d0887"
             ],
             [
              0.1111111111111111,
              "#46039f"
             ],
             [
              0.2222222222222222,
              "#7201a8"
             ],
             [
              0.3333333333333333,
              "#9c179e"
             ],
             [
              0.4444444444444444,
              "#bd3786"
             ],
             [
              0.5555555555555556,
              "#d8576b"
             ],
             [
              0.6666666666666666,
              "#ed7953"
             ],
             [
              0.7777777777777778,
              "#fb9f3a"
             ],
             [
              0.8888888888888888,
              "#fdca26"
             ],
             [
              1,
              "#f0f921"
             ]
            ],
            "type": "heatmap"
           }
          ],
          "heatmapgl": [
           {
            "colorbar": {
             "outlinewidth": 0,
             "ticks": ""
            },
            "colorscale": [
             [
              0,
              "#0d0887"
             ],
             [
              0.1111111111111111,
              "#46039f"
             ],
             [
              0.2222222222222222,
              "#7201a8"
             ],
             [
              0.3333333333333333,
              "#9c179e"
             ],
             [
              0.4444444444444444,
              "#bd3786"
             ],
             [
              0.5555555555555556,
              "#d8576b"
             ],
             [
              0.6666666666666666,
              "#ed7953"
             ],
             [
              0.7777777777777778,
              "#fb9f3a"
             ],
             [
              0.8888888888888888,
              "#fdca26"
             ],
             [
              1,
              "#f0f921"
             ]
            ],
            "type": "heatmapgl"
           }
          ],
          "histogram": [
           {
            "marker": {
             "pattern": {
              "fillmode": "overlay",
              "size": 10,
              "solidity": 0.2
             }
            },
            "type": "histogram"
           }
          ],
          "histogram2d": [
           {
            "colorbar": {
             "outlinewidth": 0,
             "ticks": ""
            },
            "colorscale": [
             [
              0,
              "#0d0887"
             ],
             [
              0.1111111111111111,
              "#46039f"
             ],
             [
              0.2222222222222222,
              "#7201a8"
             ],
             [
              0.3333333333333333,
              "#9c179e"
             ],
             [
              0.4444444444444444,
              "#bd3786"
             ],
             [
              0.5555555555555556,
              "#d8576b"
             ],
             [
              0.6666666666666666,
              "#ed7953"
             ],
             [
              0.7777777777777778,
              "#fb9f3a"
             ],
             [
              0.8888888888888888,
              "#fdca26"
             ],
             [
              1,
              "#f0f921"
             ]
            ],
            "type": "histogram2d"
           }
          ],
          "histogram2dcontour": [
           {
            "colorbar": {
             "outlinewidth": 0,
             "ticks": ""
            },
            "colorscale": [
             [
              0,
              "#0d0887"
             ],
             [
              0.1111111111111111,
              "#46039f"
             ],
             [
              0.2222222222222222,
              "#7201a8"
             ],
             [
              0.3333333333333333,
              "#9c179e"
             ],
             [
              0.4444444444444444,
              "#bd3786"
             ],
             [
              0.5555555555555556,
              "#d8576b"
             ],
             [
              0.6666666666666666,
              "#ed7953"
             ],
             [
              0.7777777777777778,
              "#fb9f3a"
             ],
             [
              0.8888888888888888,
              "#fdca26"
             ],
             [
              1,
              "#f0f921"
             ]
            ],
            "type": "histogram2dcontour"
           }
          ],
          "mesh3d": [
           {
            "colorbar": {
             "outlinewidth": 0,
             "ticks": ""
            },
            "type": "mesh3d"
           }
          ],
          "parcoords": [
           {
            "line": {
             "colorbar": {
              "outlinewidth": 0,
              "ticks": ""
             }
            },
            "type": "parcoords"
           }
          ],
          "pie": [
           {
            "automargin": true,
            "type": "pie"
           }
          ],
          "scatter": [
           {
            "fillpattern": {
             "fillmode": "overlay",
             "size": 10,
             "solidity": 0.2
            },
            "type": "scatter"
           }
          ],
          "scatter3d": [
           {
            "line": {
             "colorbar": {
              "outlinewidth": 0,
              "ticks": ""
             }
            },
            "marker": {
             "colorbar": {
              "outlinewidth": 0,
              "ticks": ""
             }
            },
            "type": "scatter3d"
           }
          ],
          "scattercarpet": [
           {
            "marker": {
             "colorbar": {
              "outlinewidth": 0,
              "ticks": ""
             }
            },
            "type": "scattercarpet"
           }
          ],
          "scattergeo": [
           {
            "marker": {
             "colorbar": {
              "outlinewidth": 0,
              "ticks": ""
             }
            },
            "type": "scattergeo"
           }
          ],
          "scattergl": [
           {
            "marker": {
             "colorbar": {
              "outlinewidth": 0,
              "ticks": ""
             }
            },
            "type": "scattergl"
           }
          ],
          "scattermapbox": [
           {
            "marker": {
             "colorbar": {
              "outlinewidth": 0,
              "ticks": ""
             }
            },
            "type": "scattermapbox"
           }
          ],
          "scatterpolar": [
           {
            "marker": {
             "colorbar": {
              "outlinewidth": 0,
              "ticks": ""
             }
            },
            "type": "scatterpolar"
           }
          ],
          "scatterpolargl": [
           {
            "marker": {
             "colorbar": {
              "outlinewidth": 0,
              "ticks": ""
             }
            },
            "type": "scatterpolargl"
           }
          ],
          "scatterternary": [
           {
            "marker": {
             "colorbar": {
              "outlinewidth": 0,
              "ticks": ""
             }
            },
            "type": "scatterternary"
           }
          ],
          "surface": [
           {
            "colorbar": {
             "outlinewidth": 0,
             "ticks": ""
            },
            "colorscale": [
             [
              0,
              "#0d0887"
             ],
             [
              0.1111111111111111,
              "#46039f"
             ],
             [
              0.2222222222222222,
              "#7201a8"
             ],
             [
              0.3333333333333333,
              "#9c179e"
             ],
             [
              0.4444444444444444,
              "#bd3786"
             ],
             [
              0.5555555555555556,
              "#d8576b"
             ],
             [
              0.6666666666666666,
              "#ed7953"
             ],
             [
              0.7777777777777778,
              "#fb9f3a"
             ],
             [
              0.8888888888888888,
              "#fdca26"
             ],
             [
              1,
              "#f0f921"
             ]
            ],
            "type": "surface"
           }
          ],
          "table": [
           {
            "cells": {
             "fill": {
              "color": "#EBF0F8"
             },
             "line": {
              "color": "white"
             }
            },
            "header": {
             "fill": {
              "color": "#C8D4E3"
             },
             "line": {
              "color": "white"
             }
            },
            "type": "table"
           }
          ]
         },
         "layout": {
          "annotationdefaults": {
           "arrowcolor": "#2a3f5f",
           "arrowhead": 0,
           "arrowwidth": 1
          },
          "autotypenumbers": "strict",
          "coloraxis": {
           "colorbar": {
            "outlinewidth": 0,
            "ticks": ""
           }
          },
          "colorscale": {
           "diverging": [
            [
             0,
             "#8e0152"
            ],
            [
             0.1,
             "#c51b7d"
            ],
            [
             0.2,
             "#de77ae"
            ],
            [
             0.3,
             "#f1b6da"
            ],
            [
             0.4,
             "#fde0ef"
            ],
            [
             0.5,
             "#f7f7f7"
            ],
            [
             0.6,
             "#e6f5d0"
            ],
            [
             0.7,
             "#b8e186"
            ],
            [
             0.8,
             "#7fbc41"
            ],
            [
             0.9,
             "#4d9221"
            ],
            [
             1,
             "#276419"
            ]
           ],
           "sequential": [
            [
             0,
             "#0d0887"
            ],
            [
             0.1111111111111111,
             "#46039f"
            ],
            [
             0.2222222222222222,
             "#7201a8"
            ],
            [
             0.3333333333333333,
             "#9c179e"
            ],
            [
             0.4444444444444444,
             "#bd3786"
            ],
            [
             0.5555555555555556,
             "#d8576b"
            ],
            [
             0.6666666666666666,
             "#ed7953"
            ],
            [
             0.7777777777777778,
             "#fb9f3a"
            ],
            [
             0.8888888888888888,
             "#fdca26"
            ],
            [
             1,
             "#f0f921"
            ]
           ],
           "sequentialminus": [
            [
             0,
             "#0d0887"
            ],
            [
             0.1111111111111111,
             "#46039f"
            ],
            [
             0.2222222222222222,
             "#7201a8"
            ],
            [
             0.3333333333333333,
             "#9c179e"
            ],
            [
             0.4444444444444444,
             "#bd3786"
            ],
            [
             0.5555555555555556,
             "#d8576b"
            ],
            [
             0.6666666666666666,
             "#ed7953"
            ],
            [
             0.7777777777777778,
             "#fb9f3a"
            ],
            [
             0.8888888888888888,
             "#fdca26"
            ],
            [
             1,
             "#f0f921"
            ]
           ]
          },
          "colorway": [
           "#636efa",
           "#EF553B",
           "#00cc96",
           "#ab63fa",
           "#FFA15A",
           "#19d3f3",
           "#FF6692",
           "#B6E880",
           "#FF97FF",
           "#FECB52"
          ],
          "font": {
           "color": "#2a3f5f"
          },
          "geo": {
           "bgcolor": "white",
           "lakecolor": "white",
           "landcolor": "#E5ECF6",
           "showlakes": true,
           "showland": true,
           "subunitcolor": "white"
          },
          "hoverlabel": {
           "align": "left"
          },
          "hovermode": "closest",
          "mapbox": {
           "style": "light"
          },
          "paper_bgcolor": "white",
          "plot_bgcolor": "#E5ECF6",
          "polar": {
           "angularaxis": {
            "gridcolor": "white",
            "linecolor": "white",
            "ticks": ""
           },
           "bgcolor": "#E5ECF6",
           "radialaxis": {
            "gridcolor": "white",
            "linecolor": "white",
            "ticks": ""
           }
          },
          "scene": {
           "xaxis": {
            "backgroundcolor": "#E5ECF6",
            "gridcolor": "white",
            "gridwidth": 2,
            "linecolor": "white",
            "showbackground": true,
            "ticks": "",
            "zerolinecolor": "white"
           },
           "yaxis": {
            "backgroundcolor": "#E5ECF6",
            "gridcolor": "white",
            "gridwidth": 2,
            "linecolor": "white",
            "showbackground": true,
            "ticks": "",
            "zerolinecolor": "white"
           },
           "zaxis": {
            "backgroundcolor": "#E5ECF6",
            "gridcolor": "white",
            "gridwidth": 2,
            "linecolor": "white",
            "showbackground": true,
            "ticks": "",
            "zerolinecolor": "white"
           }
          },
          "shapedefaults": {
           "line": {
            "color": "#2a3f5f"
           }
          },
          "ternary": {
           "aaxis": {
            "gridcolor": "white",
            "linecolor": "white",
            "ticks": ""
           },
           "baxis": {
            "gridcolor": "white",
            "linecolor": "white",
            "ticks": ""
           },
           "bgcolor": "#E5ECF6",
           "caxis": {
            "gridcolor": "white",
            "linecolor": "white",
            "ticks": ""
           }
          },
          "title": {
           "x": 0.05
          },
          "xaxis": {
           "automargin": true,
           "gridcolor": "white",
           "linecolor": "white",
           "ticks": "",
           "title": {
            "standoff": 15
           },
           "zerolinecolor": "white",
           "zerolinewidth": 2
          },
          "yaxis": {
           "automargin": true,
           "gridcolor": "white",
           "linecolor": "white",
           "ticks": "",
           "title": {
            "standoff": 15
           },
           "zerolinecolor": "white",
           "zerolinewidth": 2
          }
         }
        },
        "xaxis": {
         "autorange": true,
         "range": [
          "2024-01-08 16:49:30",
          "2024-01-08 18:09:30"
         ],
         "rangeslider": {
          "autorange": true,
          "range": [
           "2024-01-08 16:49:30",
           "2024-01-08 18:09:30"
          ],
          "yaxis": {
           "_template": null,
           "rangemode": "match"
          }
         },
         "type": "date"
        },
        "yaxis": {
         "autorange": true,
         "range": [
          157.76208836033888,
          158.0003211535612
         ],
         "type": "linear"
        }
       }
      },
      "text/html": [
       "<div>                            <div id=\"c089948e-87d4-460a-b107-312b900fe46b\" class=\"plotly-graph-div\" style=\"height:525px; width:100%;\"></div>            <script type=\"text/javascript\">                require([\"plotly\"], function(Plotly) {                    window.PLOTLYENV=window.PLOTLYENV || {};                                    if (document.getElementById(\"c089948e-87d4-460a-b107-312b900fe46b\")) {                    Plotly.newPlot(                        \"c089948e-87d4-460a-b107-312b900fe46b\",                        [{\"close\":[157.859,157.883,157.893,157.893,157.919,157.952,157.952,157.955,157.936,157.934,157.923,157.888,157.906,157.906,157.898,157.89,157.876,157.888,157.87,157.893,157.91,157.898,157.878,157.902,157.884,157.86,157.838,157.826,157.838,157.866,157.866,157.866,157.874,157.879,157.885,157.856,157.849,157.852,157.844,157.844,157.838,157.831,157.82,157.818,157.811,157.8,157.794,157.777,157.788,157.803,157.804,157.8,157.8,157.828,157.82,157.808,157.806,157.802,157.8,157.815,157.809,157.826,157.852,157.87,157.862,157.882,157.884,157.87,157.86,157.858,157.836,157.834,157.869,157.864,157.866,157.872,157.884,157.901,157.909,157.898],\"high\":[157.871,157.884,157.898,157.905,157.92,157.954,157.976,157.987,157.966,157.938,157.946,157.922,157.908,157.909,157.91,157.914,157.89,157.89,157.89,157.896,157.914,157.92,157.9,157.907,157.902,157.882,157.859,157.837,157.84,157.866,157.878,157.874,157.874,157.88,157.886,157.886,157.86,157.857,157.86,157.85,157.845,157.844,157.832,157.822,157.821,157.814,157.805,157.798,157.804,157.804,157.81,157.802,157.818,157.832,157.839,157.83,157.814,157.808,157.808,157.816,157.818,157.828,157.854,157.87,157.87,157.888,157.886,157.888,157.872,157.866,157.858,157.846,157.869,157.874,157.868,157.876,157.884,157.905,157.91,157.912],\"low\":[157.858,157.854,157.872,157.888,157.892,157.916,157.948,157.942,157.934,157.925,157.92,157.868,157.882,157.892,157.888,157.887,157.864,157.865,157.87,157.87,157.892,157.897,157.876,157.878,157.884,157.86,157.836,157.821,157.827,157.836,157.85,157.86,157.856,157.867,157.878,157.85,157.846,157.841,157.83,157.84,157.831,157.83,157.82,157.811,157.805,157.798,157.786,157.774,157.778,157.784,157.787,157.792,157.799,157.798,157.82,157.808,157.802,157.8,157.798,157.8,157.801,157.804,157.824,157.852,157.856,157.858,157.864,157.868,157.856,157.856,157.836,157.83,157.834,157.857,157.858,157.858,157.868,157.886,157.9,157.895],\"open\":[157.86,157.856,157.88,157.897,157.897,157.92,157.951,157.952,157.954,157.934,157.936,157.922,157.887,157.902,157.908,157.899,157.89,157.876,157.888,157.87,157.892,157.912,157.898,157.878,157.902,157.882,157.858,157.837,157.827,157.838,157.867,157.866,157.865,157.873,157.88,157.886,157.855,157.848,157.853,157.842,157.844,157.838,157.832,157.82,157.821,157.81,157.8,157.794,157.778,157.789,157.804,157.8,157.799,157.801,157.83,157.824,157.81,157.806,157.802,157.8,157.814,157.81,157.826,157.854,157.869,157.86,157.882,157.883,157.871,157.86,157.854,157.837,157.834,157.87,157.86,157.868,157.872,157.886,157.902,157.91],\"x\":[\"2024-01-08T16:50:00.000000000Z\",\"2024-01-08T16:51:00.000000000Z\",\"2024-01-08T16:52:00.000000000Z\",\"2024-01-08T16:53:00.000000000Z\",\"2024-01-08T16:54:00.000000000Z\",\"2024-01-08T16:55:00.000000000Z\",\"2024-01-08T16:56:00.000000000Z\",\"2024-01-08T16:57:00.000000000Z\",\"2024-01-08T16:58:00.000000000Z\",\"2024-01-08T16:59:00.000000000Z\",\"2024-01-08T17:00:00.000000000Z\",\"2024-01-08T17:01:00.000000000Z\",\"2024-01-08T17:02:00.000000000Z\",\"2024-01-08T17:03:00.000000000Z\",\"2024-01-08T17:04:00.000000000Z\",\"2024-01-08T17:05:00.000000000Z\",\"2024-01-08T17:06:00.000000000Z\",\"2024-01-08T17:07:00.000000000Z\",\"2024-01-08T17:08:00.000000000Z\",\"2024-01-08T17:09:00.000000000Z\",\"2024-01-08T17:10:00.000000000Z\",\"2024-01-08T17:11:00.000000000Z\",\"2024-01-08T17:12:00.000000000Z\",\"2024-01-08T17:13:00.000000000Z\",\"2024-01-08T17:14:00.000000000Z\",\"2024-01-08T17:15:00.000000000Z\",\"2024-01-08T17:16:00.000000000Z\",\"2024-01-08T17:17:00.000000000Z\",\"2024-01-08T17:18:00.000000000Z\",\"2024-01-08T17:19:00.000000000Z\",\"2024-01-08T17:20:00.000000000Z\",\"2024-01-08T17:21:00.000000000Z\",\"2024-01-08T17:22:00.000000000Z\",\"2024-01-08T17:23:00.000000000Z\",\"2024-01-08T17:24:00.000000000Z\",\"2024-01-08T17:25:00.000000000Z\",\"2024-01-08T17:26:00.000000000Z\",\"2024-01-08T17:27:00.000000000Z\",\"2024-01-08T17:28:00.000000000Z\",\"2024-01-08T17:29:00.000000000Z\",\"2024-01-08T17:30:00.000000000Z\",\"2024-01-08T17:31:00.000000000Z\",\"2024-01-08T17:32:00.000000000Z\",\"2024-01-08T17:33:00.000000000Z\",\"2024-01-08T17:34:00.000000000Z\",\"2024-01-08T17:35:00.000000000Z\",\"2024-01-08T17:36:00.000000000Z\",\"2024-01-08T17:37:00.000000000Z\",\"2024-01-08T17:38:00.000000000Z\",\"2024-01-08T17:39:00.000000000Z\",\"2024-01-08T17:40:00.000000000Z\",\"2024-01-08T17:41:00.000000000Z\",\"2024-01-08T17:42:00.000000000Z\",\"2024-01-08T17:43:00.000000000Z\",\"2024-01-08T17:44:00.000000000Z\",\"2024-01-08T17:45:00.000000000Z\",\"2024-01-08T17:46:00.000000000Z\",\"2024-01-08T17:47:00.000000000Z\",\"2024-01-08T17:48:00.000000000Z\",\"2024-01-08T17:49:00.000000000Z\",\"2024-01-08T17:50:00.000000000Z\",\"2024-01-08T17:51:00.000000000Z\",\"2024-01-08T17:52:00.000000000Z\",\"2024-01-08T17:53:00.000000000Z\",\"2024-01-08T17:54:00.000000000Z\",\"2024-01-08T17:55:00.000000000Z\",\"2024-01-08T17:56:00.000000000Z\",\"2024-01-08T17:57:00.000000000Z\",\"2024-01-08T17:58:00.000000000Z\",\"2024-01-08T17:59:00.000000000Z\",\"2024-01-08T18:00:00.000000000Z\",\"2024-01-08T18:01:00.000000000Z\",\"2024-01-08T18:02:00.000000000Z\",\"2024-01-08T18:03:00.000000000Z\",\"2024-01-08T18:04:00.000000000Z\",\"2024-01-08T18:05:00.000000000Z\",\"2024-01-08T18:06:00.000000000Z\",\"2024-01-08T18:07:00.000000000Z\",\"2024-01-08T18:08:00.000000000Z\",\"2024-01-08T18:09:00.000000000Z\"],\"type\":\"candlestick\"},{\"line\":{\"color\":\"blue\",\"width\":2},\"mode\":\"lines\",\"name\":\"BB_UP Moving Average\",\"x\":[\"2024-01-08T16:50:00.000000000Z\",\"2024-01-08T16:51:00.000000000Z\",\"2024-01-08T16:52:00.000000000Z\",\"2024-01-08T16:53:00.000000000Z\",\"2024-01-08T16:54:00.000000000Z\",\"2024-01-08T16:55:00.000000000Z\",\"2024-01-08T16:56:00.000000000Z\",\"2024-01-08T16:57:00.000000000Z\",\"2024-01-08T16:58:00.000000000Z\",\"2024-01-08T16:59:00.000000000Z\",\"2024-01-08T17:00:00.000000000Z\",\"2024-01-08T17:01:00.000000000Z\",\"2024-01-08T17:02:00.000000000Z\",\"2024-01-08T17:03:00.000000000Z\",\"2024-01-08T17:04:00.000000000Z\",\"2024-01-08T17:05:00.000000000Z\",\"2024-01-08T17:06:00.000000000Z\",\"2024-01-08T17:07:00.000000000Z\",\"2024-01-08T17:08:00.000000000Z\",\"2024-01-08T17:09:00.000000000Z\",\"2024-01-08T17:10:00.000000000Z\",\"2024-01-08T17:11:00.000000000Z\",\"2024-01-08T17:12:00.000000000Z\",\"2024-01-08T17:13:00.000000000Z\",\"2024-01-08T17:14:00.000000000Z\",\"2024-01-08T17:15:00.000000000Z\",\"2024-01-08T17:16:00.000000000Z\",\"2024-01-08T17:17:00.000000000Z\",\"2024-01-08T17:18:00.000000000Z\",\"2024-01-08T17:19:00.000000000Z\",\"2024-01-08T17:20:00.000000000Z\",\"2024-01-08T17:21:00.000000000Z\",\"2024-01-08T17:22:00.000000000Z\",\"2024-01-08T17:23:00.000000000Z\",\"2024-01-08T17:24:00.000000000Z\",\"2024-01-08T17:25:00.000000000Z\",\"2024-01-08T17:26:00.000000000Z\",\"2024-01-08T17:27:00.000000000Z\",\"2024-01-08T17:28:00.000000000Z\",\"2024-01-08T17:29:00.000000000Z\",\"2024-01-08T17:30:00.000000000Z\",\"2024-01-08T17:31:00.000000000Z\",\"2024-01-08T17:32:00.000000000Z\",\"2024-01-08T17:33:00.000000000Z\",\"2024-01-08T17:34:00.000000000Z\",\"2024-01-08T17:35:00.000000000Z\",\"2024-01-08T17:36:00.000000000Z\",\"2024-01-08T17:37:00.000000000Z\",\"2024-01-08T17:38:00.000000000Z\",\"2024-01-08T17:39:00.000000000Z\",\"2024-01-08T17:40:00.000000000Z\",\"2024-01-08T17:41:00.000000000Z\",\"2024-01-08T17:42:00.000000000Z\",\"2024-01-08T17:43:00.000000000Z\",\"2024-01-08T17:44:00.000000000Z\",\"2024-01-08T17:45:00.000000000Z\",\"2024-01-08T17:46:00.000000000Z\",\"2024-01-08T17:47:00.000000000Z\",\"2024-01-08T17:48:00.000000000Z\",\"2024-01-08T17:49:00.000000000Z\",\"2024-01-08T17:50:00.000000000Z\",\"2024-01-08T17:51:00.000000000Z\",\"2024-01-08T17:52:00.000000000Z\",\"2024-01-08T17:53:00.000000000Z\",\"2024-01-08T17:54:00.000000000Z\",\"2024-01-08T17:55:00.000000000Z\",\"2024-01-08T17:56:00.000000000Z\",\"2024-01-08T17:57:00.000000000Z\",\"2024-01-08T17:58:00.000000000Z\",\"2024-01-08T17:59:00.000000000Z\",\"2024-01-08T18:00:00.000000000Z\",\"2024-01-08T18:01:00.000000000Z\",\"2024-01-08T18:02:00.000000000Z\",\"2024-01-08T18:03:00.000000000Z\",\"2024-01-08T18:04:00.000000000Z\",\"2024-01-08T18:05:00.000000000Z\",\"2024-01-08T18:06:00.000000000Z\",\"2024-01-08T18:07:00.000000000Z\",\"2024-01-08T18:08:00.000000000Z\",\"2024-01-08T18:09:00.000000000Z\"],\"y\":[157.8787555387538,157.8808437911394,157.88770760927838,157.89633963989513,157.90899073954338,157.9348987425537,157.9606587787556,157.9800117566084,157.98840951390008,157.98830253390327,157.98419820107551,157.98005383778076,157.97813810449668,157.9771216176629,157.97820157975565,157.97566895293733,157.96740142386108,157.95095586889045,157.93759188812993,157.92541005116647,157.91282542330788,157.91571491782614,157.91442311932238,157.91270886486228,157.9111185802774,157.91168840165054,157.92006754611415,157.92907888604734,157.93188394276126,157.92919604961085,157.9199488325262,157.90896907465142,157.9049871489399,157.89740667663312,157.89439201388166,157.89376583362971,157.89348015002767,157.88892259066225,157.88618878269418,157.8873771632902,157.88835919833923,157.88798574136302,157.88767433457863,157.88319571138175,157.8707950111004,157.86570757404016,157.8642525482754,157.86244959192084,157.85681181401102,157.8473414258719,157.8380754394644,157.8271665660264,157.82040800293552,157.82153727130859,157.82775188356825,157.83025644125408,157.83099252484897,157.82857494470036,157.82700504320388,157.82693311573053,157.82683115736774,157.8277598624757,157.8403930697133,157.85957575309902,157.87156859595387,157.88732012016362,157.89928944145322,157.9059232795398,157.9051986097776,157.902679093817,157.89517062089723,157.88960093236707,157.88867246807638,157.88881921571652,157.88898676131583,157.8869161593446,157.88717948419756,157.8972385386687,157.91112508892857,157.91976302482053],\"type\":\"scatter\"}],                        {\"template\":{\"data\":{\"histogram2dcontour\":[{\"type\":\"histogram2dcontour\",\"colorbar\":{\"outlinewidth\":0,\"ticks\":\"\"},\"colorscale\":[[0.0,\"#0d0887\"],[0.1111111111111111,\"#46039f\"],[0.2222222222222222,\"#7201a8\"],[0.3333333333333333,\"#9c179e\"],[0.4444444444444444,\"#bd3786\"],[0.5555555555555556,\"#d8576b\"],[0.6666666666666666,\"#ed7953\"],[0.7777777777777778,\"#fb9f3a\"],[0.8888888888888888,\"#fdca26\"],[1.0,\"#f0f921\"]]}],\"choropleth\":[{\"type\":\"choropleth\",\"colorbar\":{\"outlinewidth\":0,\"ticks\":\"\"}}],\"histogram2d\":[{\"type\":\"histogram2d\",\"colorbar\":{\"outlinewidth\":0,\"ticks\":\"\"},\"colorscale\":[[0.0,\"#0d0887\"],[0.1111111111111111,\"#46039f\"],[0.2222222222222222,\"#7201a8\"],[0.3333333333333333,\"#9c179e\"],[0.4444444444444444,\"#bd3786\"],[0.5555555555555556,\"#d8576b\"],[0.6666666666666666,\"#ed7953\"],[0.7777777777777778,\"#fb9f3a\"],[0.8888888888888888,\"#fdca26\"],[1.0,\"#f0f921\"]]}],\"heatmap\":[{\"type\":\"heatmap\",\"colorbar\":{\"outlinewidth\":0,\"ticks\":\"\"},\"colorscale\":[[0.0,\"#0d0887\"],[0.1111111111111111,\"#46039f\"],[0.2222222222222222,\"#7201a8\"],[0.3333333333333333,\"#9c179e\"],[0.4444444444444444,\"#bd3786\"],[0.5555555555555556,\"#d8576b\"],[0.6666666666666666,\"#ed7953\"],[0.7777777777777778,\"#fb9f3a\"],[0.8888888888888888,\"#fdca26\"],[1.0,\"#f0f921\"]]}],\"heatmapgl\":[{\"type\":\"heatmapgl\",\"colorbar\":{\"outlinewidth\":0,\"ticks\":\"\"},\"colorscale\":[[0.0,\"#0d0887\"],[0.1111111111111111,\"#46039f\"],[0.2222222222222222,\"#7201a8\"],[0.3333333333333333,\"#9c179e\"],[0.4444444444444444,\"#bd3786\"],[0.5555555555555556,\"#d8576b\"],[0.6666666666666666,\"#ed7953\"],[0.7777777777777778,\"#fb9f3a\"],[0.8888888888888888,\"#fdca26\"],[1.0,\"#f0f921\"]]}],\"contourcarpet\":[{\"type\":\"contourcarpet\",\"colorbar\":{\"outlinewidth\":0,\"ticks\":\"\"}}],\"contour\":[{\"type\":\"contour\",\"colorbar\":{\"outlinewidth\":0,\"ticks\":\"\"},\"colorscale\":[[0.0,\"#0d0887\"],[0.1111111111111111,\"#46039f\"],[0.2222222222222222,\"#7201a8\"],[0.3333333333333333,\"#9c179e\"],[0.4444444444444444,\"#bd3786\"],[0.5555555555555556,\"#d8576b\"],[0.6666666666666666,\"#ed7953\"],[0.7777777777777778,\"#fb9f3a\"],[0.8888888888888888,\"#fdca26\"],[1.0,\"#f0f921\"]]}],\"surface\":[{\"type\":\"surface\",\"colorbar\":{\"outlinewidth\":0,\"ticks\":\"\"},\"colorscale\":[[0.0,\"#0d0887\"],[0.1111111111111111,\"#46039f\"],[0.2222222222222222,\"#7201a8\"],[0.3333333333333333,\"#9c179e\"],[0.4444444444444444,\"#bd3786\"],[0.5555555555555556,\"#d8576b\"],[0.6666666666666666,\"#ed7953\"],[0.7777777777777778,\"#fb9f3a\"],[0.8888888888888888,\"#fdca26\"],[1.0,\"#f0f921\"]]}],\"mesh3d\":[{\"type\":\"mesh3d\",\"colorbar\":{\"outlinewidth\":0,\"ticks\":\"\"}}],\"scatter\":[{\"fillpattern\":{\"fillmode\":\"overlay\",\"size\":10,\"solidity\":0.2},\"type\":\"scatter\"}],\"parcoords\":[{\"type\":\"parcoords\",\"line\":{\"colorbar\":{\"outlinewidth\":0,\"ticks\":\"\"}}}],\"scatterpolargl\":[{\"type\":\"scatterpolargl\",\"marker\":{\"colorbar\":{\"outlinewidth\":0,\"ticks\":\"\"}}}],\"bar\":[{\"error_x\":{\"color\":\"#2a3f5f\"},\"error_y\":{\"color\":\"#2a3f5f\"},\"marker\":{\"line\":{\"color\":\"#E5ECF6\",\"width\":0.5},\"pattern\":{\"fillmode\":\"overlay\",\"size\":10,\"solidity\":0.2}},\"type\":\"bar\"}],\"scattergeo\":[{\"type\":\"scattergeo\",\"marker\":{\"colorbar\":{\"outlinewidth\":0,\"ticks\":\"\"}}}],\"scatterpolar\":[{\"type\":\"scatterpolar\",\"marker\":{\"colorbar\":{\"outlinewidth\":0,\"ticks\":\"\"}}}],\"histogram\":[{\"marker\":{\"pattern\":{\"fillmode\":\"overlay\",\"size\":10,\"solidity\":0.2}},\"type\":\"histogram\"}],\"scattergl\":[{\"type\":\"scattergl\",\"marker\":{\"colorbar\":{\"outlinewidth\":0,\"ticks\":\"\"}}}],\"scatter3d\":[{\"type\":\"scatter3d\",\"line\":{\"colorbar\":{\"outlinewidth\":0,\"ticks\":\"\"}},\"marker\":{\"colorbar\":{\"outlinewidth\":0,\"ticks\":\"\"}}}],\"scattermapbox\":[{\"type\":\"scattermapbox\",\"marker\":{\"colorbar\":{\"outlinewidth\":0,\"ticks\":\"\"}}}],\"scatterternary\":[{\"type\":\"scatterternary\",\"marker\":{\"colorbar\":{\"outlinewidth\":0,\"ticks\":\"\"}}}],\"scattercarpet\":[{\"type\":\"scattercarpet\",\"marker\":{\"colorbar\":{\"outlinewidth\":0,\"ticks\":\"\"}}}],\"carpet\":[{\"aaxis\":{\"endlinecolor\":\"#2a3f5f\",\"gridcolor\":\"white\",\"linecolor\":\"white\",\"minorgridcolor\":\"white\",\"startlinecolor\":\"#2a3f5f\"},\"baxis\":{\"endlinecolor\":\"#2a3f5f\",\"gridcolor\":\"white\",\"linecolor\":\"white\",\"minorgridcolor\":\"white\",\"startlinecolor\":\"#2a3f5f\"},\"type\":\"carpet\"}],\"table\":[{\"cells\":{\"fill\":{\"color\":\"#EBF0F8\"},\"line\":{\"color\":\"white\"}},\"header\":{\"fill\":{\"color\":\"#C8D4E3\"},\"line\":{\"color\":\"white\"}},\"type\":\"table\"}],\"barpolar\":[{\"marker\":{\"line\":{\"color\":\"#E5ECF6\",\"width\":0.5},\"pattern\":{\"fillmode\":\"overlay\",\"size\":10,\"solidity\":0.2}},\"type\":\"barpolar\"}],\"pie\":[{\"automargin\":true,\"type\":\"pie\"}]},\"layout\":{\"autotypenumbers\":\"strict\",\"colorway\":[\"#636efa\",\"#EF553B\",\"#00cc96\",\"#ab63fa\",\"#FFA15A\",\"#19d3f3\",\"#FF6692\",\"#B6E880\",\"#FF97FF\",\"#FECB52\"],\"font\":{\"color\":\"#2a3f5f\"},\"hovermode\":\"closest\",\"hoverlabel\":{\"align\":\"left\"},\"paper_bgcolor\":\"white\",\"plot_bgcolor\":\"#E5ECF6\",\"polar\":{\"bgcolor\":\"#E5ECF6\",\"angularaxis\":{\"gridcolor\":\"white\",\"linecolor\":\"white\",\"ticks\":\"\"},\"radialaxis\":{\"gridcolor\":\"white\",\"linecolor\":\"white\",\"ticks\":\"\"}},\"ternary\":{\"bgcolor\":\"#E5ECF6\",\"aaxis\":{\"gridcolor\":\"white\",\"linecolor\":\"white\",\"ticks\":\"\"},\"baxis\":{\"gridcolor\":\"white\",\"linecolor\":\"white\",\"ticks\":\"\"},\"caxis\":{\"gridcolor\":\"white\",\"linecolor\":\"white\",\"ticks\":\"\"}},\"coloraxis\":{\"colorbar\":{\"outlinewidth\":0,\"ticks\":\"\"}},\"colorscale\":{\"sequential\":[[0.0,\"#0d0887\"],[0.1111111111111111,\"#46039f\"],[0.2222222222222222,\"#7201a8\"],[0.3333333333333333,\"#9c179e\"],[0.4444444444444444,\"#bd3786\"],[0.5555555555555556,\"#d8576b\"],[0.6666666666666666,\"#ed7953\"],[0.7777777777777778,\"#fb9f3a\"],[0.8888888888888888,\"#fdca26\"],[1.0,\"#f0f921\"]],\"sequentialminus\":[[0.0,\"#0d0887\"],[0.1111111111111111,\"#46039f\"],[0.2222222222222222,\"#7201a8\"],[0.3333333333333333,\"#9c179e\"],[0.4444444444444444,\"#bd3786\"],[0.5555555555555556,\"#d8576b\"],[0.6666666666666666,\"#ed7953\"],[0.7777777777777778,\"#fb9f3a\"],[0.8888888888888888,\"#fdca26\"],[1.0,\"#f0f921\"]],\"diverging\":[[0,\"#8e0152\"],[0.1,\"#c51b7d\"],[0.2,\"#de77ae\"],[0.3,\"#f1b6da\"],[0.4,\"#fde0ef\"],[0.5,\"#f7f7f7\"],[0.6,\"#e6f5d0\"],[0.7,\"#b8e186\"],[0.8,\"#7fbc41\"],[0.9,\"#4d9221\"],[1,\"#276419\"]]},\"xaxis\":{\"gridcolor\":\"white\",\"linecolor\":\"white\",\"ticks\":\"\",\"title\":{\"standoff\":15},\"zerolinecolor\":\"white\",\"automargin\":true,\"zerolinewidth\":2},\"yaxis\":{\"gridcolor\":\"white\",\"linecolor\":\"white\",\"ticks\":\"\",\"title\":{\"standoff\":15},\"zerolinecolor\":\"white\",\"automargin\":true,\"zerolinewidth\":2},\"scene\":{\"xaxis\":{\"backgroundcolor\":\"#E5ECF6\",\"gridcolor\":\"white\",\"linecolor\":\"white\",\"showbackground\":true,\"ticks\":\"\",\"zerolinecolor\":\"white\",\"gridwidth\":2},\"yaxis\":{\"backgroundcolor\":\"#E5ECF6\",\"gridcolor\":\"white\",\"linecolor\":\"white\",\"showbackground\":true,\"ticks\":\"\",\"zerolinecolor\":\"white\",\"gridwidth\":2},\"zaxis\":{\"backgroundcolor\":\"#E5ECF6\",\"gridcolor\":\"white\",\"linecolor\":\"white\",\"showbackground\":true,\"ticks\":\"\",\"zerolinecolor\":\"white\",\"gridwidth\":2}},\"shapedefaults\":{\"line\":{\"color\":\"#2a3f5f\"}},\"annotationdefaults\":{\"arrowcolor\":\"#2a3f5f\",\"arrowhead\":0,\"arrowwidth\":1},\"geo\":{\"bgcolor\":\"white\",\"landcolor\":\"#E5ECF6\",\"subunitcolor\":\"white\",\"showland\":true,\"showlakes\":true,\"lakecolor\":\"white\"},\"title\":{\"x\":0.05},\"mapbox\":{\"style\":\"light\"}}}},                        {\"responsive\": true}                    ).then(function(){\n",
       "                            \n",
       "var gd = document.getElementById('c089948e-87d4-460a-b107-312b900fe46b');\n",
       "var x = new MutationObserver(function (mutations, observer) {{\n",
       "        var display = window.getComputedStyle(gd).display;\n",
       "        if (!display || display === 'none') {{\n",
       "            console.log([gd, 'removed!']);\n",
       "            Plotly.purge(gd);\n",
       "            observer.disconnect();\n",
       "        }}\n",
       "}});\n",
       "\n",
       "// Listen for the removal of the full notebook cells\n",
       "var notebookContainer = gd.closest('#notebook-container');\n",
       "if (notebookContainer) {{\n",
       "    x.observe(notebookContainer, {childList: true});\n",
       "}}\n",
       "\n",
       "// Listen for the clearing of the current output cell\n",
       "var outputEl = gd.closest('.output');\n",
       "if (outputEl) {{\n",
       "    x.observe(outputEl, {childList: true});\n",
       "}}\n",
       "\n",
       "                        })                };                });            </script>        </div>"
      ]
     },
     "metadata": {},
     "output_type": "display_data"
    }
   ],
   "source": [
    "\n",
    "# Create the candlestick chart\n",
    "fig = go.Figure(data=[go.Candlestick(\n",
    "    x=df_pl.time, #['timestamp'],\n",
    "    open=df_pl['mid_o'],\n",
    "    high=df_pl['mid_h'],\n",
    "    low=df_pl['mid_l'],\n",
    "    close=df_pl['mid_c']\n",
    ")])\n",
    "fig.add_trace(go.Scatter(\n",
    "    x=df_pl.time,\n",
    "    y=df_pl['BB_UP'],\n",
    "    mode='lines',\n",
    "    line=dict(color='blue', width=2),\n",
    "    name='BB_UP Moving Average'\n",
    "))"
   ]
  },
  {
   "cell_type": "code",
   "execution_count": 195,
   "id": "19fce9b8-a615-4649-a74f-2063374ceb10",
   "metadata": {},
   "outputs": [
    {
     "data": {
      "application/vnd.plotly.v1+json": {
       "config": {
        "plotlyServerURL": "https://plot.ly"
       },
       "data": [
        {
         "close": [
          157.859,
          157.883,
          157.893,
          157.893,
          157.919,
          157.952,
          157.952,
          157.955,
          157.936,
          157.934,
          157.923,
          157.888,
          157.906,
          157.906,
          157.898,
          157.89,
          157.876,
          157.888,
          157.87,
          157.893,
          157.91,
          157.898,
          157.878,
          157.902,
          157.884,
          157.86,
          157.838,
          157.826,
          157.838,
          157.866,
          157.866,
          157.866,
          157.874,
          157.879,
          157.885,
          157.856,
          157.849,
          157.852,
          157.844,
          157.844,
          157.838,
          157.831,
          157.82,
          157.818,
          157.811,
          157.8,
          157.794,
          157.777,
          157.788,
          157.803,
          157.804,
          157.8,
          157.8,
          157.828,
          157.82,
          157.808,
          157.806,
          157.802,
          157.8,
          157.815,
          157.809,
          157.826,
          157.852,
          157.87,
          157.862,
          157.882,
          157.884,
          157.87,
          157.86,
          157.858,
          157.836,
          157.834,
          157.869,
          157.864,
          157.866,
          157.872,
          157.884,
          157.901,
          157.909,
          157.898
         ],
         "high": [
          157.871,
          157.884,
          157.898,
          157.905,
          157.92,
          157.954,
          157.976,
          157.987,
          157.966,
          157.938,
          157.946,
          157.922,
          157.908,
          157.909,
          157.91,
          157.914,
          157.89,
          157.89,
          157.89,
          157.896,
          157.914,
          157.92,
          157.9,
          157.907,
          157.902,
          157.882,
          157.859,
          157.837,
          157.84,
          157.866,
          157.878,
          157.874,
          157.874,
          157.88,
          157.886,
          157.886,
          157.86,
          157.857,
          157.86,
          157.85,
          157.845,
          157.844,
          157.832,
          157.822,
          157.821,
          157.814,
          157.805,
          157.798,
          157.804,
          157.804,
          157.81,
          157.802,
          157.818,
          157.832,
          157.839,
          157.83,
          157.814,
          157.808,
          157.808,
          157.816,
          157.818,
          157.828,
          157.854,
          157.87,
          157.87,
          157.888,
          157.886,
          157.888,
          157.872,
          157.866,
          157.858,
          157.846,
          157.869,
          157.874,
          157.868,
          157.876,
          157.884,
          157.905,
          157.91,
          157.912
         ],
         "low": [
          157.858,
          157.854,
          157.872,
          157.888,
          157.892,
          157.916,
          157.948,
          157.942,
          157.934,
          157.925,
          157.92,
          157.868,
          157.882,
          157.892,
          157.888,
          157.887,
          157.864,
          157.865,
          157.87,
          157.87,
          157.892,
          157.897,
          157.876,
          157.878,
          157.884,
          157.86,
          157.836,
          157.821,
          157.827,
          157.836,
          157.85,
          157.86,
          157.856,
          157.867,
          157.878,
          157.85,
          157.846,
          157.841,
          157.83,
          157.84,
          157.831,
          157.83,
          157.82,
          157.811,
          157.805,
          157.798,
          157.786,
          157.774,
          157.778,
          157.784,
          157.787,
          157.792,
          157.799,
          157.798,
          157.82,
          157.808,
          157.802,
          157.8,
          157.798,
          157.8,
          157.801,
          157.804,
          157.824,
          157.852,
          157.856,
          157.858,
          157.864,
          157.868,
          157.856,
          157.856,
          157.836,
          157.83,
          157.834,
          157.857,
          157.858,
          157.858,
          157.868,
          157.886,
          157.9,
          157.895
         ],
         "open": [
          157.86,
          157.856,
          157.88,
          157.897,
          157.897,
          157.92,
          157.951,
          157.952,
          157.954,
          157.934,
          157.936,
          157.922,
          157.887,
          157.902,
          157.908,
          157.899,
          157.89,
          157.876,
          157.888,
          157.87,
          157.892,
          157.912,
          157.898,
          157.878,
          157.902,
          157.882,
          157.858,
          157.837,
          157.827,
          157.838,
          157.867,
          157.866,
          157.865,
          157.873,
          157.88,
          157.886,
          157.855,
          157.848,
          157.853,
          157.842,
          157.844,
          157.838,
          157.832,
          157.82,
          157.821,
          157.81,
          157.8,
          157.794,
          157.778,
          157.789,
          157.804,
          157.8,
          157.799,
          157.801,
          157.83,
          157.824,
          157.81,
          157.806,
          157.802,
          157.8,
          157.814,
          157.81,
          157.826,
          157.854,
          157.869,
          157.86,
          157.882,
          157.883,
          157.871,
          157.86,
          157.854,
          157.837,
          157.834,
          157.87,
          157.86,
          157.868,
          157.872,
          157.886,
          157.902,
          157.91
         ],
         "type": "candlestick",
         "x": [
          "2024-01-08T16:50:00.000000000Z",
          "2024-01-08T16:51:00.000000000Z",
          "2024-01-08T16:52:00.000000000Z",
          "2024-01-08T16:53:00.000000000Z",
          "2024-01-08T16:54:00.000000000Z",
          "2024-01-08T16:55:00.000000000Z",
          "2024-01-08T16:56:00.000000000Z",
          "2024-01-08T16:57:00.000000000Z",
          "2024-01-08T16:58:00.000000000Z",
          "2024-01-08T16:59:00.000000000Z",
          "2024-01-08T17:00:00.000000000Z",
          "2024-01-08T17:01:00.000000000Z",
          "2024-01-08T17:02:00.000000000Z",
          "2024-01-08T17:03:00.000000000Z",
          "2024-01-08T17:04:00.000000000Z",
          "2024-01-08T17:05:00.000000000Z",
          "2024-01-08T17:06:00.000000000Z",
          "2024-01-08T17:07:00.000000000Z",
          "2024-01-08T17:08:00.000000000Z",
          "2024-01-08T17:09:00.000000000Z",
          "2024-01-08T17:10:00.000000000Z",
          "2024-01-08T17:11:00.000000000Z",
          "2024-01-08T17:12:00.000000000Z",
          "2024-01-08T17:13:00.000000000Z",
          "2024-01-08T17:14:00.000000000Z",
          "2024-01-08T17:15:00.000000000Z",
          "2024-01-08T17:16:00.000000000Z",
          "2024-01-08T17:17:00.000000000Z",
          "2024-01-08T17:18:00.000000000Z",
          "2024-01-08T17:19:00.000000000Z",
          "2024-01-08T17:20:00.000000000Z",
          "2024-01-08T17:21:00.000000000Z",
          "2024-01-08T17:22:00.000000000Z",
          "2024-01-08T17:23:00.000000000Z",
          "2024-01-08T17:24:00.000000000Z",
          "2024-01-08T17:25:00.000000000Z",
          "2024-01-08T17:26:00.000000000Z",
          "2024-01-08T17:27:00.000000000Z",
          "2024-01-08T17:28:00.000000000Z",
          "2024-01-08T17:29:00.000000000Z",
          "2024-01-08T17:30:00.000000000Z",
          "2024-01-08T17:31:00.000000000Z",
          "2024-01-08T17:32:00.000000000Z",
          "2024-01-08T17:33:00.000000000Z",
          "2024-01-08T17:34:00.000000000Z",
          "2024-01-08T17:35:00.000000000Z",
          "2024-01-08T17:36:00.000000000Z",
          "2024-01-08T17:37:00.000000000Z",
          "2024-01-08T17:38:00.000000000Z",
          "2024-01-08T17:39:00.000000000Z",
          "2024-01-08T17:40:00.000000000Z",
          "2024-01-08T17:41:00.000000000Z",
          "2024-01-08T17:42:00.000000000Z",
          "2024-01-08T17:43:00.000000000Z",
          "2024-01-08T17:44:00.000000000Z",
          "2024-01-08T17:45:00.000000000Z",
          "2024-01-08T17:46:00.000000000Z",
          "2024-01-08T17:47:00.000000000Z",
          "2024-01-08T17:48:00.000000000Z",
          "2024-01-08T17:49:00.000000000Z",
          "2024-01-08T17:50:00.000000000Z",
          "2024-01-08T17:51:00.000000000Z",
          "2024-01-08T17:52:00.000000000Z",
          "2024-01-08T17:53:00.000000000Z",
          "2024-01-08T17:54:00.000000000Z",
          "2024-01-08T17:55:00.000000000Z",
          "2024-01-08T17:56:00.000000000Z",
          "2024-01-08T17:57:00.000000000Z",
          "2024-01-08T17:58:00.000000000Z",
          "2024-01-08T17:59:00.000000000Z",
          "2024-01-08T18:00:00.000000000Z",
          "2024-01-08T18:01:00.000000000Z",
          "2024-01-08T18:02:00.000000000Z",
          "2024-01-08T18:03:00.000000000Z",
          "2024-01-08T18:04:00.000000000Z",
          "2024-01-08T18:05:00.000000000Z",
          "2024-01-08T18:06:00.000000000Z",
          "2024-01-08T18:07:00.000000000Z",
          "2024-01-08T18:08:00.000000000Z",
          "2024-01-08T18:09:00.000000000Z"
         ]
        },
        {
         "line": {
          "color": "blue",
          "width": 2
         },
         "mode": "lines",
         "name": "BB_UP Moving Average",
         "type": "scatter",
         "x": [
          "2024-01-08T16:50:00.000000000Z",
          "2024-01-08T16:51:00.000000000Z",
          "2024-01-08T16:52:00.000000000Z",
          "2024-01-08T16:53:00.000000000Z",
          "2024-01-08T16:54:00.000000000Z",
          "2024-01-08T16:55:00.000000000Z",
          "2024-01-08T16:56:00.000000000Z",
          "2024-01-08T16:57:00.000000000Z",
          "2024-01-08T16:58:00.000000000Z",
          "2024-01-08T16:59:00.000000000Z",
          "2024-01-08T17:00:00.000000000Z",
          "2024-01-08T17:01:00.000000000Z",
          "2024-01-08T17:02:00.000000000Z",
          "2024-01-08T17:03:00.000000000Z",
          "2024-01-08T17:04:00.000000000Z",
          "2024-01-08T17:05:00.000000000Z",
          "2024-01-08T17:06:00.000000000Z",
          "2024-01-08T17:07:00.000000000Z",
          "2024-01-08T17:08:00.000000000Z",
          "2024-01-08T17:09:00.000000000Z",
          "2024-01-08T17:10:00.000000000Z",
          "2024-01-08T17:11:00.000000000Z",
          "2024-01-08T17:12:00.000000000Z",
          "2024-01-08T17:13:00.000000000Z",
          "2024-01-08T17:14:00.000000000Z",
          "2024-01-08T17:15:00.000000000Z",
          "2024-01-08T17:16:00.000000000Z",
          "2024-01-08T17:17:00.000000000Z",
          "2024-01-08T17:18:00.000000000Z",
          "2024-01-08T17:19:00.000000000Z",
          "2024-01-08T17:20:00.000000000Z",
          "2024-01-08T17:21:00.000000000Z",
          "2024-01-08T17:22:00.000000000Z",
          "2024-01-08T17:23:00.000000000Z",
          "2024-01-08T17:24:00.000000000Z",
          "2024-01-08T17:25:00.000000000Z",
          "2024-01-08T17:26:00.000000000Z",
          "2024-01-08T17:27:00.000000000Z",
          "2024-01-08T17:28:00.000000000Z",
          "2024-01-08T17:29:00.000000000Z",
          "2024-01-08T17:30:00.000000000Z",
          "2024-01-08T17:31:00.000000000Z",
          "2024-01-08T17:32:00.000000000Z",
          "2024-01-08T17:33:00.000000000Z",
          "2024-01-08T17:34:00.000000000Z",
          "2024-01-08T17:35:00.000000000Z",
          "2024-01-08T17:36:00.000000000Z",
          "2024-01-08T17:37:00.000000000Z",
          "2024-01-08T17:38:00.000000000Z",
          "2024-01-08T17:39:00.000000000Z",
          "2024-01-08T17:40:00.000000000Z",
          "2024-01-08T17:41:00.000000000Z",
          "2024-01-08T17:42:00.000000000Z",
          "2024-01-08T17:43:00.000000000Z",
          "2024-01-08T17:44:00.000000000Z",
          "2024-01-08T17:45:00.000000000Z",
          "2024-01-08T17:46:00.000000000Z",
          "2024-01-08T17:47:00.000000000Z",
          "2024-01-08T17:48:00.000000000Z",
          "2024-01-08T17:49:00.000000000Z",
          "2024-01-08T17:50:00.000000000Z",
          "2024-01-08T17:51:00.000000000Z",
          "2024-01-08T17:52:00.000000000Z",
          "2024-01-08T17:53:00.000000000Z",
          "2024-01-08T17:54:00.000000000Z",
          "2024-01-08T17:55:00.000000000Z",
          "2024-01-08T17:56:00.000000000Z",
          "2024-01-08T17:57:00.000000000Z",
          "2024-01-08T17:58:00.000000000Z",
          "2024-01-08T17:59:00.000000000Z",
          "2024-01-08T18:00:00.000000000Z",
          "2024-01-08T18:01:00.000000000Z",
          "2024-01-08T18:02:00.000000000Z",
          "2024-01-08T18:03:00.000000000Z",
          "2024-01-08T18:04:00.000000000Z",
          "2024-01-08T18:05:00.000000000Z",
          "2024-01-08T18:06:00.000000000Z",
          "2024-01-08T18:07:00.000000000Z",
          "2024-01-08T18:08:00.000000000Z",
          "2024-01-08T18:09:00.000000000Z"
         ],
         "y": [
          157.8787555387538,
          157.8808437911394,
          157.88770760927838,
          157.89633963989513,
          157.90899073954338,
          157.9348987425537,
          157.9606587787556,
          157.9800117566084,
          157.98840951390008,
          157.98830253390327,
          157.98419820107551,
          157.98005383778076,
          157.97813810449668,
          157.9771216176629,
          157.97820157975565,
          157.97566895293733,
          157.96740142386108,
          157.95095586889045,
          157.93759188812993,
          157.92541005116647,
          157.91282542330788,
          157.91571491782614,
          157.91442311932238,
          157.91270886486228,
          157.9111185802774,
          157.91168840165054,
          157.92006754611415,
          157.92907888604734,
          157.93188394276126,
          157.92919604961085,
          157.9199488325262,
          157.90896907465142,
          157.9049871489399,
          157.89740667663312,
          157.89439201388166,
          157.89376583362971,
          157.89348015002767,
          157.88892259066225,
          157.88618878269418,
          157.8873771632902,
          157.88835919833923,
          157.88798574136302,
          157.88767433457863,
          157.88319571138175,
          157.8707950111004,
          157.86570757404016,
          157.8642525482754,
          157.86244959192084,
          157.85681181401102,
          157.8473414258719,
          157.8380754394644,
          157.8271665660264,
          157.82040800293552,
          157.82153727130859,
          157.82775188356825,
          157.83025644125408,
          157.83099252484897,
          157.82857494470036,
          157.82700504320388,
          157.82693311573053,
          157.82683115736774,
          157.8277598624757,
          157.8403930697133,
          157.85957575309902,
          157.87156859595387,
          157.88732012016362,
          157.89928944145322,
          157.9059232795398,
          157.9051986097776,
          157.902679093817,
          157.89517062089723,
          157.88960093236707,
          157.88867246807638,
          157.88881921571652,
          157.88898676131583,
          157.8869161593446,
          157.88717948419756,
          157.8972385386687,
          157.91112508892857,
          157.91976302482053
         ]
        },
        {
         "close": [
          157.866
         ],
         "decreasing": {
          "fillcolor": "orange",
          "line": {
           "color": "orange"
          }
         },
         "high": [
          157.878
         ],
         "increasing": {
          "fillcolor": "orange",
          "line": {
           "color": "orange"
          }
         },
         "low": [
          157.85
         ],
         "open": [
          157.867
         ],
         "type": "candlestick",
         "x": [
          "2024-01-08T17:20:00.000000000Z"
         ]
        }
       ],
       "layout": {
        "autosize": true,
        "template": {
         "data": {
          "bar": [
           {
            "error_x": {
             "color": "#2a3f5f"
            },
            "error_y": {
             "color": "#2a3f5f"
            },
            "marker": {
             "line": {
              "color": "#E5ECF6",
              "width": 0.5
             },
             "pattern": {
              "fillmode": "overlay",
              "size": 10,
              "solidity": 0.2
             }
            },
            "type": "bar"
           }
          ],
          "barpolar": [
           {
            "marker": {
             "line": {
              "color": "#E5ECF6",
              "width": 0.5
             },
             "pattern": {
              "fillmode": "overlay",
              "size": 10,
              "solidity": 0.2
             }
            },
            "type": "barpolar"
           }
          ],
          "carpet": [
           {
            "aaxis": {
             "endlinecolor": "#2a3f5f",
             "gridcolor": "white",
             "linecolor": "white",
             "minorgridcolor": "white",
             "startlinecolor": "#2a3f5f"
            },
            "baxis": {
             "endlinecolor": "#2a3f5f",
             "gridcolor": "white",
             "linecolor": "white",
             "minorgridcolor": "white",
             "startlinecolor": "#2a3f5f"
            },
            "type": "carpet"
           }
          ],
          "choropleth": [
           {
            "colorbar": {
             "outlinewidth": 0,
             "ticks": ""
            },
            "type": "choropleth"
           }
          ],
          "contour": [
           {
            "colorbar": {
             "outlinewidth": 0,
             "ticks": ""
            },
            "colorscale": [
             [
              0,
              "#0d0887"
             ],
             [
              0.1111111111111111,
              "#46039f"
             ],
             [
              0.2222222222222222,
              "#7201a8"
             ],
             [
              0.3333333333333333,
              "#9c179e"
             ],
             [
              0.4444444444444444,
              "#bd3786"
             ],
             [
              0.5555555555555556,
              "#d8576b"
             ],
             [
              0.6666666666666666,
              "#ed7953"
             ],
             [
              0.7777777777777778,
              "#fb9f3a"
             ],
             [
              0.8888888888888888,
              "#fdca26"
             ],
             [
              1,
              "#f0f921"
             ]
            ],
            "type": "contour"
           }
          ],
          "contourcarpet": [
           {
            "colorbar": {
             "outlinewidth": 0,
             "ticks": ""
            },
            "type": "contourcarpet"
           }
          ],
          "heatmap": [
           {
            "colorbar": {
             "outlinewidth": 0,
             "ticks": ""
            },
            "colorscale": [
             [
              0,
              "#0d0887"
             ],
             [
              0.1111111111111111,
              "#46039f"
             ],
             [
              0.2222222222222222,
              "#7201a8"
             ],
             [
              0.3333333333333333,
              "#9c179e"
             ],
             [
              0.4444444444444444,
              "#bd3786"
             ],
             [
              0.5555555555555556,
              "#d8576b"
             ],
             [
              0.6666666666666666,
              "#ed7953"
             ],
             [
              0.7777777777777778,
              "#fb9f3a"
             ],
             [
              0.8888888888888888,
              "#fdca26"
             ],
             [
              1,
              "#f0f921"
             ]
            ],
            "type": "heatmap"
           }
          ],
          "heatmapgl": [
           {
            "colorbar": {
             "outlinewidth": 0,
             "ticks": ""
            },
            "colorscale": [
             [
              0,
              "#0d0887"
             ],
             [
              0.1111111111111111,
              "#46039f"
             ],
             [
              0.2222222222222222,
              "#7201a8"
             ],
             [
              0.3333333333333333,
              "#9c179e"
             ],
             [
              0.4444444444444444,
              "#bd3786"
             ],
             [
              0.5555555555555556,
              "#d8576b"
             ],
             [
              0.6666666666666666,
              "#ed7953"
             ],
             [
              0.7777777777777778,
              "#fb9f3a"
             ],
             [
              0.8888888888888888,
              "#fdca26"
             ],
             [
              1,
              "#f0f921"
             ]
            ],
            "type": "heatmapgl"
           }
          ],
          "histogram": [
           {
            "marker": {
             "pattern": {
              "fillmode": "overlay",
              "size": 10,
              "solidity": 0.2
             }
            },
            "type": "histogram"
           }
          ],
          "histogram2d": [
           {
            "colorbar": {
             "outlinewidth": 0,
             "ticks": ""
            },
            "colorscale": [
             [
              0,
              "#0d0887"
             ],
             [
              0.1111111111111111,
              "#46039f"
             ],
             [
              0.2222222222222222,
              "#7201a8"
             ],
             [
              0.3333333333333333,
              "#9c179e"
             ],
             [
              0.4444444444444444,
              "#bd3786"
             ],
             [
              0.5555555555555556,
              "#d8576b"
             ],
             [
              0.6666666666666666,
              "#ed7953"
             ],
             [
              0.7777777777777778,
              "#fb9f3a"
             ],
             [
              0.8888888888888888,
              "#fdca26"
             ],
             [
              1,
              "#f0f921"
             ]
            ],
            "type": "histogram2d"
           }
          ],
          "histogram2dcontour": [
           {
            "colorbar": {
             "outlinewidth": 0,
             "ticks": ""
            },
            "colorscale": [
             [
              0,
              "#0d0887"
             ],
             [
              0.1111111111111111,
              "#46039f"
             ],
             [
              0.2222222222222222,
              "#7201a8"
             ],
             [
              0.3333333333333333,
              "#9c179e"
             ],
             [
              0.4444444444444444,
              "#bd3786"
             ],
             [
              0.5555555555555556,
              "#d8576b"
             ],
             [
              0.6666666666666666,
              "#ed7953"
             ],
             [
              0.7777777777777778,
              "#fb9f3a"
             ],
             [
              0.8888888888888888,
              "#fdca26"
             ],
             [
              1,
              "#f0f921"
             ]
            ],
            "type": "histogram2dcontour"
           }
          ],
          "mesh3d": [
           {
            "colorbar": {
             "outlinewidth": 0,
             "ticks": ""
            },
            "type": "mesh3d"
           }
          ],
          "parcoords": [
           {
            "line": {
             "colorbar": {
              "outlinewidth": 0,
              "ticks": ""
             }
            },
            "type": "parcoords"
           }
          ],
          "pie": [
           {
            "automargin": true,
            "type": "pie"
           }
          ],
          "scatter": [
           {
            "fillpattern": {
             "fillmode": "overlay",
             "size": 10,
             "solidity": 0.2
            },
            "type": "scatter"
           }
          ],
          "scatter3d": [
           {
            "line": {
             "colorbar": {
              "outlinewidth": 0,
              "ticks": ""
             }
            },
            "marker": {
             "colorbar": {
              "outlinewidth": 0,
              "ticks": ""
             }
            },
            "type": "scatter3d"
           }
          ],
          "scattercarpet": [
           {
            "marker": {
             "colorbar": {
              "outlinewidth": 0,
              "ticks": ""
             }
            },
            "type": "scattercarpet"
           }
          ],
          "scattergeo": [
           {
            "marker": {
             "colorbar": {
              "outlinewidth": 0,
              "ticks": ""
             }
            },
            "type": "scattergeo"
           }
          ],
          "scattergl": [
           {
            "marker": {
             "colorbar": {
              "outlinewidth": 0,
              "ticks": ""
             }
            },
            "type": "scattergl"
           }
          ],
          "scattermapbox": [
           {
            "marker": {
             "colorbar": {
              "outlinewidth": 0,
              "ticks": ""
             }
            },
            "type": "scattermapbox"
           }
          ],
          "scatterpolar": [
           {
            "marker": {
             "colorbar": {
              "outlinewidth": 0,
              "ticks": ""
             }
            },
            "type": "scatterpolar"
           }
          ],
          "scatterpolargl": [
           {
            "marker": {
             "colorbar": {
              "outlinewidth": 0,
              "ticks": ""
             }
            },
            "type": "scatterpolargl"
           }
          ],
          "scatterternary": [
           {
            "marker": {
             "colorbar": {
              "outlinewidth": 0,
              "ticks": ""
             }
            },
            "type": "scatterternary"
           }
          ],
          "surface": [
           {
            "colorbar": {
             "outlinewidth": 0,
             "ticks": ""
            },
            "colorscale": [
             [
              0,
              "#0d0887"
             ],
             [
              0.1111111111111111,
              "#46039f"
             ],
             [
              0.2222222222222222,
              "#7201a8"
             ],
             [
              0.3333333333333333,
              "#9c179e"
             ],
             [
              0.4444444444444444,
              "#bd3786"
             ],
             [
              0.5555555555555556,
              "#d8576b"
             ],
             [
              0.6666666666666666,
              "#ed7953"
             ],
             [
              0.7777777777777778,
              "#fb9f3a"
             ],
             [
              0.8888888888888888,
              "#fdca26"
             ],
             [
              1,
              "#f0f921"
             ]
            ],
            "type": "surface"
           }
          ],
          "table": [
           {
            "cells": {
             "fill": {
              "color": "#EBF0F8"
             },
             "line": {
              "color": "white"
             }
            },
            "header": {
             "fill": {
              "color": "#C8D4E3"
             },
             "line": {
              "color": "white"
             }
            },
            "type": "table"
           }
          ]
         },
         "layout": {
          "annotationdefaults": {
           "arrowcolor": "#2a3f5f",
           "arrowhead": 0,
           "arrowwidth": 1
          },
          "autotypenumbers": "strict",
          "coloraxis": {
           "colorbar": {
            "outlinewidth": 0,
            "ticks": ""
           }
          },
          "colorscale": {
           "diverging": [
            [
             0,
             "#8e0152"
            ],
            [
             0.1,
             "#c51b7d"
            ],
            [
             0.2,
             "#de77ae"
            ],
            [
             0.3,
             "#f1b6da"
            ],
            [
             0.4,
             "#fde0ef"
            ],
            [
             0.5,
             "#f7f7f7"
            ],
            [
             0.6,
             "#e6f5d0"
            ],
            [
             0.7,
             "#b8e186"
            ],
            [
             0.8,
             "#7fbc41"
            ],
            [
             0.9,
             "#4d9221"
            ],
            [
             1,
             "#276419"
            ]
           ],
           "sequential": [
            [
             0,
             "#0d0887"
            ],
            [
             0.1111111111111111,
             "#46039f"
            ],
            [
             0.2222222222222222,
             "#7201a8"
            ],
            [
             0.3333333333333333,
             "#9c179e"
            ],
            [
             0.4444444444444444,
             "#bd3786"
            ],
            [
             0.5555555555555556,
             "#d8576b"
            ],
            [
             0.6666666666666666,
             "#ed7953"
            ],
            [
             0.7777777777777778,
             "#fb9f3a"
            ],
            [
             0.8888888888888888,
             "#fdca26"
            ],
            [
             1,
             "#f0f921"
            ]
           ],
           "sequentialminus": [
            [
             0,
             "#0d0887"
            ],
            [
             0.1111111111111111,
             "#46039f"
            ],
            [
             0.2222222222222222,
             "#7201a8"
            ],
            [
             0.3333333333333333,
             "#9c179e"
            ],
            [
             0.4444444444444444,
             "#bd3786"
            ],
            [
             0.5555555555555556,
             "#d8576b"
            ],
            [
             0.6666666666666666,
             "#ed7953"
            ],
            [
             0.7777777777777778,
             "#fb9f3a"
            ],
            [
             0.8888888888888888,
             "#fdca26"
            ],
            [
             1,
             "#f0f921"
            ]
           ]
          },
          "colorway": [
           "#636efa",
           "#EF553B",
           "#00cc96",
           "#ab63fa",
           "#FFA15A",
           "#19d3f3",
           "#FF6692",
           "#B6E880",
           "#FF97FF",
           "#FECB52"
          ],
          "font": {
           "color": "#2a3f5f"
          },
          "geo": {
           "bgcolor": "white",
           "lakecolor": "white",
           "landcolor": "#E5ECF6",
           "showlakes": true,
           "showland": true,
           "subunitcolor": "white"
          },
          "hoverlabel": {
           "align": "left"
          },
          "hovermode": "closest",
          "mapbox": {
           "style": "light"
          },
          "paper_bgcolor": "white",
          "plot_bgcolor": "#E5ECF6",
          "polar": {
           "angularaxis": {
            "gridcolor": "white",
            "linecolor": "white",
            "ticks": ""
           },
           "bgcolor": "#E5ECF6",
           "radialaxis": {
            "gridcolor": "white",
            "linecolor": "white",
            "ticks": ""
           }
          },
          "scene": {
           "xaxis": {
            "backgroundcolor": "#E5ECF6",
            "gridcolor": "white",
            "gridwidth": 2,
            "linecolor": "white",
            "showbackground": true,
            "ticks": "",
            "zerolinecolor": "white"
           },
           "yaxis": {
            "backgroundcolor": "#E5ECF6",
            "gridcolor": "white",
            "gridwidth": 2,
            "linecolor": "white",
            "showbackground": true,
            "ticks": "",
            "zerolinecolor": "white"
           },
           "zaxis": {
            "backgroundcolor": "#E5ECF6",
            "gridcolor": "white",
            "gridwidth": 2,
            "linecolor": "white",
            "showbackground": true,
            "ticks": "",
            "zerolinecolor": "white"
           }
          },
          "shapedefaults": {
           "line": {
            "color": "#2a3f5f"
           }
          },
          "ternary": {
           "aaxis": {
            "gridcolor": "white",
            "linecolor": "white",
            "ticks": ""
           },
           "baxis": {
            "gridcolor": "white",
            "linecolor": "white",
            "ticks": ""
           },
           "bgcolor": "#E5ECF6",
           "caxis": {
            "gridcolor": "white",
            "linecolor": "white",
            "ticks": ""
           }
          },
          "title": {
           "x": 0.05
          },
          "xaxis": {
           "automargin": true,
           "gridcolor": "white",
           "linecolor": "white",
           "ticks": "",
           "title": {
            "standoff": 15
           },
           "zerolinecolor": "white",
           "zerolinewidth": 2
          },
          "yaxis": {
           "automargin": true,
           "gridcolor": "white",
           "linecolor": "white",
           "ticks": "",
           "title": {
            "standoff": 15
           },
           "zerolinecolor": "white",
           "zerolinewidth": 2
          }
         }
        },
        "xaxis": {
         "autorange": true,
         "range": [
          "2024-01-08 16:49:30",
          "2024-01-08 18:09:30"
         ],
         "rangeslider": {
          "autorange": true,
          "range": [
           "2024-01-08 16:49:30",
           "2024-01-08 18:09:30"
          ],
          "yaxis": {
           "_template": null,
           "rangemode": "match"
          }
         },
         "type": "date"
        },
        "yaxis": {
         "autorange": true,
         "range": [
          157.76208836033888,
          158.0003211535612
         ],
         "type": "linear"
        }
       }
      },
      "text/html": [
       "<div>                            <div id=\"6573c779-41cf-4dd6-8655-fc6bee14adf6\" class=\"plotly-graph-div\" style=\"height:525px; width:100%;\"></div>            <script type=\"text/javascript\">                require([\"plotly\"], function(Plotly) {                    window.PLOTLYENV=window.PLOTLYENV || {};                                    if (document.getElementById(\"6573c779-41cf-4dd6-8655-fc6bee14adf6\")) {                    Plotly.newPlot(                        \"6573c779-41cf-4dd6-8655-fc6bee14adf6\",                        [{\"close\":[157.859,157.883,157.893,157.893,157.919,157.952,157.952,157.955,157.936,157.934,157.923,157.888,157.906,157.906,157.898,157.89,157.876,157.888,157.87,157.893,157.91,157.898,157.878,157.902,157.884,157.86,157.838,157.826,157.838,157.866,157.866,157.866,157.874,157.879,157.885,157.856,157.849,157.852,157.844,157.844,157.838,157.831,157.82,157.818,157.811,157.8,157.794,157.777,157.788,157.803,157.804,157.8,157.8,157.828,157.82,157.808,157.806,157.802,157.8,157.815,157.809,157.826,157.852,157.87,157.862,157.882,157.884,157.87,157.86,157.858,157.836,157.834,157.869,157.864,157.866,157.872,157.884,157.901,157.909,157.898],\"high\":[157.871,157.884,157.898,157.905,157.92,157.954,157.976,157.987,157.966,157.938,157.946,157.922,157.908,157.909,157.91,157.914,157.89,157.89,157.89,157.896,157.914,157.92,157.9,157.907,157.902,157.882,157.859,157.837,157.84,157.866,157.878,157.874,157.874,157.88,157.886,157.886,157.86,157.857,157.86,157.85,157.845,157.844,157.832,157.822,157.821,157.814,157.805,157.798,157.804,157.804,157.81,157.802,157.818,157.832,157.839,157.83,157.814,157.808,157.808,157.816,157.818,157.828,157.854,157.87,157.87,157.888,157.886,157.888,157.872,157.866,157.858,157.846,157.869,157.874,157.868,157.876,157.884,157.905,157.91,157.912],\"low\":[157.858,157.854,157.872,157.888,157.892,157.916,157.948,157.942,157.934,157.925,157.92,157.868,157.882,157.892,157.888,157.887,157.864,157.865,157.87,157.87,157.892,157.897,157.876,157.878,157.884,157.86,157.836,157.821,157.827,157.836,157.85,157.86,157.856,157.867,157.878,157.85,157.846,157.841,157.83,157.84,157.831,157.83,157.82,157.811,157.805,157.798,157.786,157.774,157.778,157.784,157.787,157.792,157.799,157.798,157.82,157.808,157.802,157.8,157.798,157.8,157.801,157.804,157.824,157.852,157.856,157.858,157.864,157.868,157.856,157.856,157.836,157.83,157.834,157.857,157.858,157.858,157.868,157.886,157.9,157.895],\"open\":[157.86,157.856,157.88,157.897,157.897,157.92,157.951,157.952,157.954,157.934,157.936,157.922,157.887,157.902,157.908,157.899,157.89,157.876,157.888,157.87,157.892,157.912,157.898,157.878,157.902,157.882,157.858,157.837,157.827,157.838,157.867,157.866,157.865,157.873,157.88,157.886,157.855,157.848,157.853,157.842,157.844,157.838,157.832,157.82,157.821,157.81,157.8,157.794,157.778,157.789,157.804,157.8,157.799,157.801,157.83,157.824,157.81,157.806,157.802,157.8,157.814,157.81,157.826,157.854,157.869,157.86,157.882,157.883,157.871,157.86,157.854,157.837,157.834,157.87,157.86,157.868,157.872,157.886,157.902,157.91],\"x\":[\"2024-01-08T16:50:00.000000000Z\",\"2024-01-08T16:51:00.000000000Z\",\"2024-01-08T16:52:00.000000000Z\",\"2024-01-08T16:53:00.000000000Z\",\"2024-01-08T16:54:00.000000000Z\",\"2024-01-08T16:55:00.000000000Z\",\"2024-01-08T16:56:00.000000000Z\",\"2024-01-08T16:57:00.000000000Z\",\"2024-01-08T16:58:00.000000000Z\",\"2024-01-08T16:59:00.000000000Z\",\"2024-01-08T17:00:00.000000000Z\",\"2024-01-08T17:01:00.000000000Z\",\"2024-01-08T17:02:00.000000000Z\",\"2024-01-08T17:03:00.000000000Z\",\"2024-01-08T17:04:00.000000000Z\",\"2024-01-08T17:05:00.000000000Z\",\"2024-01-08T17:06:00.000000000Z\",\"2024-01-08T17:07:00.000000000Z\",\"2024-01-08T17:08:00.000000000Z\",\"2024-01-08T17:09:00.000000000Z\",\"2024-01-08T17:10:00.000000000Z\",\"2024-01-08T17:11:00.000000000Z\",\"2024-01-08T17:12:00.000000000Z\",\"2024-01-08T17:13:00.000000000Z\",\"2024-01-08T17:14:00.000000000Z\",\"2024-01-08T17:15:00.000000000Z\",\"2024-01-08T17:16:00.000000000Z\",\"2024-01-08T17:17:00.000000000Z\",\"2024-01-08T17:18:00.000000000Z\",\"2024-01-08T17:19:00.000000000Z\",\"2024-01-08T17:20:00.000000000Z\",\"2024-01-08T17:21:00.000000000Z\",\"2024-01-08T17:22:00.000000000Z\",\"2024-01-08T17:23:00.000000000Z\",\"2024-01-08T17:24:00.000000000Z\",\"2024-01-08T17:25:00.000000000Z\",\"2024-01-08T17:26:00.000000000Z\",\"2024-01-08T17:27:00.000000000Z\",\"2024-01-08T17:28:00.000000000Z\",\"2024-01-08T17:29:00.000000000Z\",\"2024-01-08T17:30:00.000000000Z\",\"2024-01-08T17:31:00.000000000Z\",\"2024-01-08T17:32:00.000000000Z\",\"2024-01-08T17:33:00.000000000Z\",\"2024-01-08T17:34:00.000000000Z\",\"2024-01-08T17:35:00.000000000Z\",\"2024-01-08T17:36:00.000000000Z\",\"2024-01-08T17:37:00.000000000Z\",\"2024-01-08T17:38:00.000000000Z\",\"2024-01-08T17:39:00.000000000Z\",\"2024-01-08T17:40:00.000000000Z\",\"2024-01-08T17:41:00.000000000Z\",\"2024-01-08T17:42:00.000000000Z\",\"2024-01-08T17:43:00.000000000Z\",\"2024-01-08T17:44:00.000000000Z\",\"2024-01-08T17:45:00.000000000Z\",\"2024-01-08T17:46:00.000000000Z\",\"2024-01-08T17:47:00.000000000Z\",\"2024-01-08T17:48:00.000000000Z\",\"2024-01-08T17:49:00.000000000Z\",\"2024-01-08T17:50:00.000000000Z\",\"2024-01-08T17:51:00.000000000Z\",\"2024-01-08T17:52:00.000000000Z\",\"2024-01-08T17:53:00.000000000Z\",\"2024-01-08T17:54:00.000000000Z\",\"2024-01-08T17:55:00.000000000Z\",\"2024-01-08T17:56:00.000000000Z\",\"2024-01-08T17:57:00.000000000Z\",\"2024-01-08T17:58:00.000000000Z\",\"2024-01-08T17:59:00.000000000Z\",\"2024-01-08T18:00:00.000000000Z\",\"2024-01-08T18:01:00.000000000Z\",\"2024-01-08T18:02:00.000000000Z\",\"2024-01-08T18:03:00.000000000Z\",\"2024-01-08T18:04:00.000000000Z\",\"2024-01-08T18:05:00.000000000Z\",\"2024-01-08T18:06:00.000000000Z\",\"2024-01-08T18:07:00.000000000Z\",\"2024-01-08T18:08:00.000000000Z\",\"2024-01-08T18:09:00.000000000Z\"],\"type\":\"candlestick\"},{\"line\":{\"color\":\"blue\",\"width\":2},\"mode\":\"lines\",\"name\":\"BB_UP Moving Average\",\"x\":[\"2024-01-08T16:50:00.000000000Z\",\"2024-01-08T16:51:00.000000000Z\",\"2024-01-08T16:52:00.000000000Z\",\"2024-01-08T16:53:00.000000000Z\",\"2024-01-08T16:54:00.000000000Z\",\"2024-01-08T16:55:00.000000000Z\",\"2024-01-08T16:56:00.000000000Z\",\"2024-01-08T16:57:00.000000000Z\",\"2024-01-08T16:58:00.000000000Z\",\"2024-01-08T16:59:00.000000000Z\",\"2024-01-08T17:00:00.000000000Z\",\"2024-01-08T17:01:00.000000000Z\",\"2024-01-08T17:02:00.000000000Z\",\"2024-01-08T17:03:00.000000000Z\",\"2024-01-08T17:04:00.000000000Z\",\"2024-01-08T17:05:00.000000000Z\",\"2024-01-08T17:06:00.000000000Z\",\"2024-01-08T17:07:00.000000000Z\",\"2024-01-08T17:08:00.000000000Z\",\"2024-01-08T17:09:00.000000000Z\",\"2024-01-08T17:10:00.000000000Z\",\"2024-01-08T17:11:00.000000000Z\",\"2024-01-08T17:12:00.000000000Z\",\"2024-01-08T17:13:00.000000000Z\",\"2024-01-08T17:14:00.000000000Z\",\"2024-01-08T17:15:00.000000000Z\",\"2024-01-08T17:16:00.000000000Z\",\"2024-01-08T17:17:00.000000000Z\",\"2024-01-08T17:18:00.000000000Z\",\"2024-01-08T17:19:00.000000000Z\",\"2024-01-08T17:20:00.000000000Z\",\"2024-01-08T17:21:00.000000000Z\",\"2024-01-08T17:22:00.000000000Z\",\"2024-01-08T17:23:00.000000000Z\",\"2024-01-08T17:24:00.000000000Z\",\"2024-01-08T17:25:00.000000000Z\",\"2024-01-08T17:26:00.000000000Z\",\"2024-01-08T17:27:00.000000000Z\",\"2024-01-08T17:28:00.000000000Z\",\"2024-01-08T17:29:00.000000000Z\",\"2024-01-08T17:30:00.000000000Z\",\"2024-01-08T17:31:00.000000000Z\",\"2024-01-08T17:32:00.000000000Z\",\"2024-01-08T17:33:00.000000000Z\",\"2024-01-08T17:34:00.000000000Z\",\"2024-01-08T17:35:00.000000000Z\",\"2024-01-08T17:36:00.000000000Z\",\"2024-01-08T17:37:00.000000000Z\",\"2024-01-08T17:38:00.000000000Z\",\"2024-01-08T17:39:00.000000000Z\",\"2024-01-08T17:40:00.000000000Z\",\"2024-01-08T17:41:00.000000000Z\",\"2024-01-08T17:42:00.000000000Z\",\"2024-01-08T17:43:00.000000000Z\",\"2024-01-08T17:44:00.000000000Z\",\"2024-01-08T17:45:00.000000000Z\",\"2024-01-08T17:46:00.000000000Z\",\"2024-01-08T17:47:00.000000000Z\",\"2024-01-08T17:48:00.000000000Z\",\"2024-01-08T17:49:00.000000000Z\",\"2024-01-08T17:50:00.000000000Z\",\"2024-01-08T17:51:00.000000000Z\",\"2024-01-08T17:52:00.000000000Z\",\"2024-01-08T17:53:00.000000000Z\",\"2024-01-08T17:54:00.000000000Z\",\"2024-01-08T17:55:00.000000000Z\",\"2024-01-08T17:56:00.000000000Z\",\"2024-01-08T17:57:00.000000000Z\",\"2024-01-08T17:58:00.000000000Z\",\"2024-01-08T17:59:00.000000000Z\",\"2024-01-08T18:00:00.000000000Z\",\"2024-01-08T18:01:00.000000000Z\",\"2024-01-08T18:02:00.000000000Z\",\"2024-01-08T18:03:00.000000000Z\",\"2024-01-08T18:04:00.000000000Z\",\"2024-01-08T18:05:00.000000000Z\",\"2024-01-08T18:06:00.000000000Z\",\"2024-01-08T18:07:00.000000000Z\",\"2024-01-08T18:08:00.000000000Z\",\"2024-01-08T18:09:00.000000000Z\"],\"y\":[157.8787555387538,157.8808437911394,157.88770760927838,157.89633963989513,157.90899073954338,157.9348987425537,157.9606587787556,157.9800117566084,157.98840951390008,157.98830253390327,157.98419820107551,157.98005383778076,157.97813810449668,157.9771216176629,157.97820157975565,157.97566895293733,157.96740142386108,157.95095586889045,157.93759188812993,157.92541005116647,157.91282542330788,157.91571491782614,157.91442311932238,157.91270886486228,157.9111185802774,157.91168840165054,157.92006754611415,157.92907888604734,157.93188394276126,157.92919604961085,157.9199488325262,157.90896907465142,157.9049871489399,157.89740667663312,157.89439201388166,157.89376583362971,157.89348015002767,157.88892259066225,157.88618878269418,157.8873771632902,157.88835919833923,157.88798574136302,157.88767433457863,157.88319571138175,157.8707950111004,157.86570757404016,157.8642525482754,157.86244959192084,157.85681181401102,157.8473414258719,157.8380754394644,157.8271665660264,157.82040800293552,157.82153727130859,157.82775188356825,157.83025644125408,157.83099252484897,157.82857494470036,157.82700504320388,157.82693311573053,157.82683115736774,157.8277598624757,157.8403930697133,157.85957575309902,157.87156859595387,157.88732012016362,157.89928944145322,157.9059232795398,157.9051986097776,157.902679093817,157.89517062089723,157.88960093236707,157.88867246807638,157.88881921571652,157.88898676131583,157.8869161593446,157.88717948419756,157.8972385386687,157.91112508892857,157.91976302482053],\"type\":\"scatter\"},{\"close\":[157.866],\"decreasing\":{\"fillcolor\":\"orange\",\"line\":{\"color\":\"orange\"}},\"high\":[157.878],\"increasing\":{\"fillcolor\":\"orange\",\"line\":{\"color\":\"orange\"}},\"low\":[157.85],\"open\":[157.867],\"x\":[\"2024-01-08T17:20:00.000000000Z\"],\"type\":\"candlestick\"}],                        {\"template\":{\"data\":{\"histogram2dcontour\":[{\"type\":\"histogram2dcontour\",\"colorbar\":{\"outlinewidth\":0,\"ticks\":\"\"},\"colorscale\":[[0.0,\"#0d0887\"],[0.1111111111111111,\"#46039f\"],[0.2222222222222222,\"#7201a8\"],[0.3333333333333333,\"#9c179e\"],[0.4444444444444444,\"#bd3786\"],[0.5555555555555556,\"#d8576b\"],[0.6666666666666666,\"#ed7953\"],[0.7777777777777778,\"#fb9f3a\"],[0.8888888888888888,\"#fdca26\"],[1.0,\"#f0f921\"]]}],\"choropleth\":[{\"type\":\"choropleth\",\"colorbar\":{\"outlinewidth\":0,\"ticks\":\"\"}}],\"histogram2d\":[{\"type\":\"histogram2d\",\"colorbar\":{\"outlinewidth\":0,\"ticks\":\"\"},\"colorscale\":[[0.0,\"#0d0887\"],[0.1111111111111111,\"#46039f\"],[0.2222222222222222,\"#7201a8\"],[0.3333333333333333,\"#9c179e\"],[0.4444444444444444,\"#bd3786\"],[0.5555555555555556,\"#d8576b\"],[0.6666666666666666,\"#ed7953\"],[0.7777777777777778,\"#fb9f3a\"],[0.8888888888888888,\"#fdca26\"],[1.0,\"#f0f921\"]]}],\"heatmap\":[{\"type\":\"heatmap\",\"colorbar\":{\"outlinewidth\":0,\"ticks\":\"\"},\"colorscale\":[[0.0,\"#0d0887\"],[0.1111111111111111,\"#46039f\"],[0.2222222222222222,\"#7201a8\"],[0.3333333333333333,\"#9c179e\"],[0.4444444444444444,\"#bd3786\"],[0.5555555555555556,\"#d8576b\"],[0.6666666666666666,\"#ed7953\"],[0.7777777777777778,\"#fb9f3a\"],[0.8888888888888888,\"#fdca26\"],[1.0,\"#f0f921\"]]}],\"heatmapgl\":[{\"type\":\"heatmapgl\",\"colorbar\":{\"outlinewidth\":0,\"ticks\":\"\"},\"colorscale\":[[0.0,\"#0d0887\"],[0.1111111111111111,\"#46039f\"],[0.2222222222222222,\"#7201a8\"],[0.3333333333333333,\"#9c179e\"],[0.4444444444444444,\"#bd3786\"],[0.5555555555555556,\"#d8576b\"],[0.6666666666666666,\"#ed7953\"],[0.7777777777777778,\"#fb9f3a\"],[0.8888888888888888,\"#fdca26\"],[1.0,\"#f0f921\"]]}],\"contourcarpet\":[{\"type\":\"contourcarpet\",\"colorbar\":{\"outlinewidth\":0,\"ticks\":\"\"}}],\"contour\":[{\"type\":\"contour\",\"colorbar\":{\"outlinewidth\":0,\"ticks\":\"\"},\"colorscale\":[[0.0,\"#0d0887\"],[0.1111111111111111,\"#46039f\"],[0.2222222222222222,\"#7201a8\"],[0.3333333333333333,\"#9c179e\"],[0.4444444444444444,\"#bd3786\"],[0.5555555555555556,\"#d8576b\"],[0.6666666666666666,\"#ed7953\"],[0.7777777777777778,\"#fb9f3a\"],[0.8888888888888888,\"#fdca26\"],[1.0,\"#f0f921\"]]}],\"surface\":[{\"type\":\"surface\",\"colorbar\":{\"outlinewidth\":0,\"ticks\":\"\"},\"colorscale\":[[0.0,\"#0d0887\"],[0.1111111111111111,\"#46039f\"],[0.2222222222222222,\"#7201a8\"],[0.3333333333333333,\"#9c179e\"],[0.4444444444444444,\"#bd3786\"],[0.5555555555555556,\"#d8576b\"],[0.6666666666666666,\"#ed7953\"],[0.7777777777777778,\"#fb9f3a\"],[0.8888888888888888,\"#fdca26\"],[1.0,\"#f0f921\"]]}],\"mesh3d\":[{\"type\":\"mesh3d\",\"colorbar\":{\"outlinewidth\":0,\"ticks\":\"\"}}],\"scatter\":[{\"fillpattern\":{\"fillmode\":\"overlay\",\"size\":10,\"solidity\":0.2},\"type\":\"scatter\"}],\"parcoords\":[{\"type\":\"parcoords\",\"line\":{\"colorbar\":{\"outlinewidth\":0,\"ticks\":\"\"}}}],\"scatterpolargl\":[{\"type\":\"scatterpolargl\",\"marker\":{\"colorbar\":{\"outlinewidth\":0,\"ticks\":\"\"}}}],\"bar\":[{\"error_x\":{\"color\":\"#2a3f5f\"},\"error_y\":{\"color\":\"#2a3f5f\"},\"marker\":{\"line\":{\"color\":\"#E5ECF6\",\"width\":0.5},\"pattern\":{\"fillmode\":\"overlay\",\"size\":10,\"solidity\":0.2}},\"type\":\"bar\"}],\"scattergeo\":[{\"type\":\"scattergeo\",\"marker\":{\"colorbar\":{\"outlinewidth\":0,\"ticks\":\"\"}}}],\"scatterpolar\":[{\"type\":\"scatterpolar\",\"marker\":{\"colorbar\":{\"outlinewidth\":0,\"ticks\":\"\"}}}],\"histogram\":[{\"marker\":{\"pattern\":{\"fillmode\":\"overlay\",\"size\":10,\"solidity\":0.2}},\"type\":\"histogram\"}],\"scattergl\":[{\"type\":\"scattergl\",\"marker\":{\"colorbar\":{\"outlinewidth\":0,\"ticks\":\"\"}}}],\"scatter3d\":[{\"type\":\"scatter3d\",\"line\":{\"colorbar\":{\"outlinewidth\":0,\"ticks\":\"\"}},\"marker\":{\"colorbar\":{\"outlinewidth\":0,\"ticks\":\"\"}}}],\"scattermapbox\":[{\"type\":\"scattermapbox\",\"marker\":{\"colorbar\":{\"outlinewidth\":0,\"ticks\":\"\"}}}],\"scatterternary\":[{\"type\":\"scatterternary\",\"marker\":{\"colorbar\":{\"outlinewidth\":0,\"ticks\":\"\"}}}],\"scattercarpet\":[{\"type\":\"scattercarpet\",\"marker\":{\"colorbar\":{\"outlinewidth\":0,\"ticks\":\"\"}}}],\"carpet\":[{\"aaxis\":{\"endlinecolor\":\"#2a3f5f\",\"gridcolor\":\"white\",\"linecolor\":\"white\",\"minorgridcolor\":\"white\",\"startlinecolor\":\"#2a3f5f\"},\"baxis\":{\"endlinecolor\":\"#2a3f5f\",\"gridcolor\":\"white\",\"linecolor\":\"white\",\"minorgridcolor\":\"white\",\"startlinecolor\":\"#2a3f5f\"},\"type\":\"carpet\"}],\"table\":[{\"cells\":{\"fill\":{\"color\":\"#EBF0F8\"},\"line\":{\"color\":\"white\"}},\"header\":{\"fill\":{\"color\":\"#C8D4E3\"},\"line\":{\"color\":\"white\"}},\"type\":\"table\"}],\"barpolar\":[{\"marker\":{\"line\":{\"color\":\"#E5ECF6\",\"width\":0.5},\"pattern\":{\"fillmode\":\"overlay\",\"size\":10,\"solidity\":0.2}},\"type\":\"barpolar\"}],\"pie\":[{\"automargin\":true,\"type\":\"pie\"}]},\"layout\":{\"autotypenumbers\":\"strict\",\"colorway\":[\"#636efa\",\"#EF553B\",\"#00cc96\",\"#ab63fa\",\"#FFA15A\",\"#19d3f3\",\"#FF6692\",\"#B6E880\",\"#FF97FF\",\"#FECB52\"],\"font\":{\"color\":\"#2a3f5f\"},\"hovermode\":\"closest\",\"hoverlabel\":{\"align\":\"left\"},\"paper_bgcolor\":\"white\",\"plot_bgcolor\":\"#E5ECF6\",\"polar\":{\"bgcolor\":\"#E5ECF6\",\"angularaxis\":{\"gridcolor\":\"white\",\"linecolor\":\"white\",\"ticks\":\"\"},\"radialaxis\":{\"gridcolor\":\"white\",\"linecolor\":\"white\",\"ticks\":\"\"}},\"ternary\":{\"bgcolor\":\"#E5ECF6\",\"aaxis\":{\"gridcolor\":\"white\",\"linecolor\":\"white\",\"ticks\":\"\"},\"baxis\":{\"gridcolor\":\"white\",\"linecolor\":\"white\",\"ticks\":\"\"},\"caxis\":{\"gridcolor\":\"white\",\"linecolor\":\"white\",\"ticks\":\"\"}},\"coloraxis\":{\"colorbar\":{\"outlinewidth\":0,\"ticks\":\"\"}},\"colorscale\":{\"sequential\":[[0.0,\"#0d0887\"],[0.1111111111111111,\"#46039f\"],[0.2222222222222222,\"#7201a8\"],[0.3333333333333333,\"#9c179e\"],[0.4444444444444444,\"#bd3786\"],[0.5555555555555556,\"#d8576b\"],[0.6666666666666666,\"#ed7953\"],[0.7777777777777778,\"#fb9f3a\"],[0.8888888888888888,\"#fdca26\"],[1.0,\"#f0f921\"]],\"sequentialminus\":[[0.0,\"#0d0887\"],[0.1111111111111111,\"#46039f\"],[0.2222222222222222,\"#7201a8\"],[0.3333333333333333,\"#9c179e\"],[0.4444444444444444,\"#bd3786\"],[0.5555555555555556,\"#d8576b\"],[0.6666666666666666,\"#ed7953\"],[0.7777777777777778,\"#fb9f3a\"],[0.8888888888888888,\"#fdca26\"],[1.0,\"#f0f921\"]],\"diverging\":[[0,\"#8e0152\"],[0.1,\"#c51b7d\"],[0.2,\"#de77ae\"],[0.3,\"#f1b6da\"],[0.4,\"#fde0ef\"],[0.5,\"#f7f7f7\"],[0.6,\"#e6f5d0\"],[0.7,\"#b8e186\"],[0.8,\"#7fbc41\"],[0.9,\"#4d9221\"],[1,\"#276419\"]]},\"xaxis\":{\"gridcolor\":\"white\",\"linecolor\":\"white\",\"ticks\":\"\",\"title\":{\"standoff\":15},\"zerolinecolor\":\"white\",\"automargin\":true,\"zerolinewidth\":2},\"yaxis\":{\"gridcolor\":\"white\",\"linecolor\":\"white\",\"ticks\":\"\",\"title\":{\"standoff\":15},\"zerolinecolor\":\"white\",\"automargin\":true,\"zerolinewidth\":2},\"scene\":{\"xaxis\":{\"backgroundcolor\":\"#E5ECF6\",\"gridcolor\":\"white\",\"linecolor\":\"white\",\"showbackground\":true,\"ticks\":\"\",\"zerolinecolor\":\"white\",\"gridwidth\":2},\"yaxis\":{\"backgroundcolor\":\"#E5ECF6\",\"gridcolor\":\"white\",\"linecolor\":\"white\",\"showbackground\":true,\"ticks\":\"\",\"zerolinecolor\":\"white\",\"gridwidth\":2},\"zaxis\":{\"backgroundcolor\":\"#E5ECF6\",\"gridcolor\":\"white\",\"linecolor\":\"white\",\"showbackground\":true,\"ticks\":\"\",\"zerolinecolor\":\"white\",\"gridwidth\":2}},\"shapedefaults\":{\"line\":{\"color\":\"#2a3f5f\"}},\"annotationdefaults\":{\"arrowcolor\":\"#2a3f5f\",\"arrowhead\":0,\"arrowwidth\":1},\"geo\":{\"bgcolor\":\"white\",\"landcolor\":\"#E5ECF6\",\"subunitcolor\":\"white\",\"showland\":true,\"showlakes\":true,\"lakecolor\":\"white\"},\"title\":{\"x\":0.05},\"mapbox\":{\"style\":\"light\"}}}},                        {\"responsive\": true}                    ).then(function(){\n",
       "                            \n",
       "var gd = document.getElementById('6573c779-41cf-4dd6-8655-fc6bee14adf6');\n",
       "var x = new MutationObserver(function (mutations, observer) {{\n",
       "        var display = window.getComputedStyle(gd).display;\n",
       "        if (!display || display === 'none') {{\n",
       "            console.log([gd, 'removed!']);\n",
       "            Plotly.purge(gd);\n",
       "            observer.disconnect();\n",
       "        }}\n",
       "}});\n",
       "\n",
       "// Listen for the removal of the full notebook cells\n",
       "var notebookContainer = gd.closest('#notebook-container');\n",
       "if (notebookContainer) {{\n",
       "    x.observe(notebookContainer, {childList: true});\n",
       "}}\n",
       "\n",
       "// Listen for the clearing of the current output cell\n",
       "var outputEl = gd.closest('.output');\n",
       "if (outputEl) {{\n",
       "    x.observe(outputEl, {childList: true});\n",
       "}}\n",
       "\n",
       "                        })                };                });            </script>        </div>"
      ]
     },
     "metadata": {},
     "output_type": "display_data"
    }
   ],
   "source": [
    "# Add custom color for a specific candlestick\n",
    "# df_pl[df_pl['Date'] == custom_color_candle]\n",
    "fig.add_trace(go.Candlestick(\n",
    "    x=df_an.iloc[index:index+1]['time'],\n",
    "    open=df_an.iloc[index:index+1]['mid_o'],\n",
    "    high=df_an.iloc[index:index+1]['mid_h'],\n",
    "    low=df_an.iloc[index:index+1]['mid_l'],\n",
    "    close=df_an.iloc[index:index+1]['mid_c'],\n",
    "    increasing=dict(line=dict(color='orange'), fillcolor='orange'),\n",
    "    decreasing=dict(line=dict(color='orange'), fillcolor='orange')\n",
    "))\n",
    "\n",
    "\n",
    "fig.show()"
   ]
  },
  {
   "cell_type": "code",
   "execution_count": null,
   "id": "d86491a5-220f-42a7-8907-4a07c49492eb",
   "metadata": {},
   "outputs": [],
   "source": []
  },
  {
   "cell_type": "code",
   "execution_count": null,
   "id": "4bc7660b-203e-44be-a178-75133bcdfb39",
   "metadata": {},
   "outputs": [],
   "source": []
  },
  {
   "cell_type": "code",
   "execution_count": null,
   "id": "785b63b7-ea51-469e-9681-89b0dbb8f9f6",
   "metadata": {},
   "outputs": [],
   "source": []
  }
 ],
 "metadata": {
  "kernelspec": {
   "display_name": "Python 3 (ipykernel)",
   "language": "python",
   "name": "python3"
  },
  "language_info": {
   "codemirror_mode": {
    "name": "ipython",
    "version": 3
   },
   "file_extension": ".py",
   "mimetype": "text/x-python",
   "name": "python",
   "nbconvert_exporter": "python",
   "pygments_lexer": "ipython3",
   "version": "3.9.12"
  }
 },
 "nbformat": 4,
 "nbformat_minor": 5
}
