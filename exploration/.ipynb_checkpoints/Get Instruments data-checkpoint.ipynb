{
 "cells": [
  {
   "cell_type": "code",
   "execution_count": 24,
   "id": "8e113e27-5e66-4698-b15f-7e351ac599a6",
   "metadata": {},
   "outputs": [],
   "source": [
    "import requests\n",
    "import pandas as pd\n",
    "import json\n",
    "import sys\n",
    "sys.path.append('../')\n",
    "from dateutil import parser\n",
    "from infrastructure.instrument_collection import instrumentCollection\n",
    "# from datetime import datetime as datetime\n",
    "from datetime import timedelta, datetime\n",
    " \n"
   ]
  },
  {
   "cell_type": "code",
   "execution_count": 5,
   "id": "5b7dc2a2-7d35-4582-a761-e285fd886729",
   "metadata": {},
   "outputs": [],
   "source": [
    "API_KEY = \"69f109a1f4f5cc5df743768870afa57d-7eeba7f9b30b063c75a4c3e6fceeb083\"\n",
    "ACCOUNT_ID = \"101-004-29766214-001\"\n",
    "OANDA_URL = \"https://api-fxpractice.oanda.com/v3\" #\"https://api-fxpractice.oanda.com\""
   ]
  },
  {
   "cell_type": "code",
   "execution_count": 6,
   "id": "c80286c9-abd8-4ab0-b712-51f565a83ebd",
   "metadata": {},
   "outputs": [],
   "source": [
    "session = requests.Session()"
   ]
  },
  {
   "cell_type": "code",
   "execution_count": 7,
   "id": "700ccdaf-72eb-49f0-998e-458090269fa5",
   "metadata": {},
   "outputs": [],
   "source": [
    "session.headers.update({\"Authorization\": f\"Bearer {API_KEY}\", \"Content-Type\":\"application/json\"})"
   ]
  },
  {
   "cell_type": "code",
   "execution_count": 8,
   "id": "bac83d59-8ee9-4bb0-a491-92a6b6b66c79",
   "metadata": {},
   "outputs": [],
   "source": [
    "params = dict(count=10, price=\"MBA\",granularity=\"H1\" )"
   ]
  },
  {
   "cell_type": "code",
   "execution_count": 9,
   "id": "15d10a07-b802-48a4-8271-034537d56c8a",
   "metadata": {},
   "outputs": [],
   "source": [
    "#url = f\"{OANDA_URL}/accounts/{ACCOUNT_ID}/instruments\""
   ]
  },
  {
   "cell_type": "code",
   "execution_count": 10,
   "id": "5bed2973-95c9-46be-bb37-9e33dacfd34a",
   "metadata": {},
   "outputs": [],
   "source": [
    "#response = session.get(url,params=None, data=None, headers=None)"
   ]
  },
  {
   "cell_type": "code",
   "execution_count": 11,
   "id": "6351a8d1-f5e8-4b7b-ac6b-0495bf7c2d7f",
   "metadata": {},
   "outputs": [],
   "source": [
    "#session.headers"
   ]
  },
  {
   "cell_type": "code",
   "execution_count": 12,
   "id": "6cf6b976-f06d-46d4-8429-510ba16a0718",
   "metadata": {},
   "outputs": [],
   "source": [
    "#response.status_code"
   ]
  },
  {
   "cell_type": "code",
   "execution_count": 13,
   "id": "eacee48d-995c-46c5-a251-393a6a64f23c",
   "metadata": {},
   "outputs": [],
   "source": [
    "#data = response.json()"
   ]
  },
  {
   "cell_type": "code",
   "execution_count": 14,
   "id": "e1c24e10-4b70-44de-8dab-24792177719c",
   "metadata": {},
   "outputs": [],
   "source": [
    "#data_instruments = data['instruments']"
   ]
  },
  {
   "cell_type": "code",
   "execution_count": 15,
   "id": "ece1a788-e975-4066-b2b5-90ab7a64796b",
   "metadata": {},
   "outputs": [],
   "source": [
    "#data['instruments'][0].keys()"
   ]
  },
  {
   "cell_type": "code",
   "execution_count": 16,
   "id": "f6352f86-b8d6-4b73-b8a9-ae5bfc7189b0",
   "metadata": {},
   "outputs": [],
   "source": [
    "#key_i = ['name', 'type', 'displayName', 'pipLocation', 'displayPrecision','tradeUnitsPrecision','marginRate']"
   ]
  },
  {
   "cell_type": "code",
   "execution_count": 17,
   "id": "dcb05f5a-9dc1-46bf-a7ba-bc22193e4d09",
   "metadata": {},
   "outputs": [],
   "source": [
    "#instruments = {}\n",
    "#for i in data_instruments:\n",
    "#    key = i['name']\n",
    "#    instruments[key] = { j:i[j] for j in key_i }\n",
    "# instruments"
   ]
  },
  {
   "cell_type": "code",
   "execution_count": 18,
   "id": "0d7cd723-ed1d-4c85-b6e7-0686f9f44ea2",
   "metadata": {},
   "outputs": [],
   "source": [
    "#with open(\"../data/instruments.json\",\"w\") as f:\n",
    "#    f.write(json.dumps(instruments,indent=2))"
   ]
  },
  {
   "cell_type": "code",
   "execution_count": null,
   "id": "edb5b5df-9831-4506-acd1-ffd96bfba632",
   "metadata": {},
   "outputs": [],
   "source": []
  },
  {
   "cell_type": "code",
   "execution_count": 19,
   "id": "6a3937f4-a935-4c1b-9b17-08e9e5441550",
   "metadata": {},
   "outputs": [
    {
     "data": {
      "text/plain": [
       "['EUR_EUR',\n",
       " 'EUR_USD',\n",
       " 'EUR_JPY',\n",
       " 'EUR_CAD',\n",
       " 'USD_EUR',\n",
       " 'USD_USD',\n",
       " 'USD_JPY',\n",
       " 'USD_CAD',\n",
       " 'JPY_EUR',\n",
       " 'JPY_USD',\n",
       " 'JPY_JPY',\n",
       " 'JPY_CAD',\n",
       " 'CAD_EUR',\n",
       " 'CAD_USD',\n",
       " 'CAD_JPY',\n",
       " 'CAD_CAD']"
      ]
     },
     "execution_count": 19,
     "metadata": {},
     "output_type": "execute_result"
    }
   ],
   "source": [
    "instruments_list = [\"EUR\", \"USD\", \"JPY\", \"CAD\"]\n",
    "inst_names_list = []\n",
    "for i in instruments_list:\n",
    "    for j in instruments_list:\n",
    "        instrument_name = f\"{i}_{j}\"\n",
    "        inst_names_list.append(instrument_name)\n",
    "inst_names_list"
   ]
  },
  {
   "cell_type": "code",
   "execution_count": 20,
   "id": "db570682-6bd3-4ac4-8594-4071eeaf0fee",
   "metadata": {},
   "outputs": [
    {
     "name": "stdout",
     "output_type": "stream",
     "text": [
      "EUR_USD\n",
      "EUR_JPY\n",
      "EUR_CAD\n",
      "USD_JPY\n",
      "USD_CAD\n",
      "CAD_JPY\n"
     ]
    }
   ],
   "source": [
    "# instrumentCollection=InstrumentCollection()\n",
    "instrumentCollection.LoadInstruments(\"../data\")\n",
    "# instrumentCollection.instruments_dict\n",
    "myinstrument =  instrumentCollection.instruments_dict\n",
    "for instrument in inst_names_list:\n",
    "    if instrument in myinstrument.keys():\n",
    "        print(instrument)\n",
    "    "
   ]
  },
  {
   "cell_type": "code",
   "execution_count": 29,
   "id": "b00ac758-46bc-48b6-bfa0-17e80ba0c7a8",
   "metadata": {},
   "outputs": [],
   "source": [
    "duration={\"S5\": 5,\n",
    "\"S10\": 10, \n",
    "\"S15\": 15,\n",
    "\"S30\": 30,\n",
    "\"M1\":60,\n",
    "\"M2\": 120,\n",
    "\"M4\" :4*60, \n",
    "\"M5\": 5*60 ,\n",
    "\"M10\" :10*60 ,\n",
    "\"M15\": 15*60 ,\n",
    "\"M30\" :30*60 ,\n",
    "\"H1\" :1*60*60,\n",
    "\"H2\": 2*60*60,\n",
    "\"H3\" :3*60*60,\n",
    "\"H4\" :4*60*60,\n",
    "\"H6\" :6*60*60, \n",
    "\"H8\": 8*60*60,\n",
    "\"H12\":12*60*60,\n",
    "\"D1\":1*60*60*60,\n",
    "\"W1\" :7*60*60*60, \n",
    "\"M1\":31*60*60*60}"
   ]
  },
  {
   "cell_type": "code",
   "execution_count": 43,
   "id": "a4030891-5898-4236-acb3-b11f8bddfc63",
   "metadata": {},
   "outputs": [
    {
     "ename": "TypeError",
     "evalue": "can only concatenate str (not \"datetime.timedelta\") to str",
     "output_type": "error",
     "traceback": [
      "\u001b[0;31m---------------------------------------------------------------------------\u001b[0m",
      "\u001b[0;31mTypeError\u001b[0m                                 Traceback (most recent call last)",
      "Cell \u001b[0;32mIn[43], line 8\u001b[0m\n\u001b[1;32m      6\u001b[0m end \u001b[38;5;241m=\u001b[39m end\u001b[38;5;241m.\u001b[39mstrftime(\u001b[38;5;124m\"\u001b[39m\u001b[38;5;124m%\u001b[39m\u001b[38;5;124mY-\u001b[39m\u001b[38;5;124m%\u001b[39m\u001b[38;5;124mm-\u001b[39m\u001b[38;5;132;01m%d\u001b[39;00m\u001b[38;5;124mT\u001b[39m\u001b[38;5;124m%\u001b[39m\u001b[38;5;124mH:\u001b[39m\u001b[38;5;124m%\u001b[39m\u001b[38;5;124mM:\u001b[39m\u001b[38;5;124m%\u001b[39m\u001b[38;5;124mSZ\u001b[39m\u001b[38;5;124m\"\u001b[39m)\n\u001b[1;32m      7\u001b[0m epoch \u001b[38;5;241m=\u001b[39m datetime(\u001b[38;5;241m1970\u001b[39m, \u001b[38;5;241m1\u001b[39m, \u001b[38;5;241m1\u001b[39m)\n\u001b[0;32m----> 8\u001b[0m midbreak \u001b[38;5;241m=\u001b[39m \u001b[43mstart\u001b[49m\u001b[43m \u001b[49m\u001b[38;5;241;43m+\u001b[39;49m\u001b[43m \u001b[49m\u001b[43mtimedelta\u001b[49m\u001b[43m(\u001b[49m\u001b[43mminutes\u001b[49m\u001b[38;5;241;43m=\u001b[39;49m\u001b[43mcount\u001b[49m\u001b[38;5;241;43m*\u001b[39;49m\u001b[43mduration\u001b[49m\u001b[43m[\u001b[49m\u001b[43mgranularity\u001b[49m\u001b[43m]\u001b[49m\u001b[43m)\u001b[49m  \u001b[38;5;66;03m#count*duration[granularity]\u001b[39;00m\n\u001b[1;32m      9\u001b[0m midbreak \u001b[38;5;241m=\u001b[39m midbreak\u001b[38;5;241m.\u001b[39mstrftime(\u001b[38;5;124m\"\u001b[39m\u001b[38;5;124m%\u001b[39m\u001b[38;5;124mY-\u001b[39m\u001b[38;5;124m%\u001b[39m\u001b[38;5;124mm-\u001b[39m\u001b[38;5;132;01m%d\u001b[39;00m\u001b[38;5;124mT\u001b[39m\u001b[38;5;124m%\u001b[39m\u001b[38;5;124mH:\u001b[39m\u001b[38;5;124m%\u001b[39m\u001b[38;5;124mM:\u001b[39m\u001b[38;5;124m%\u001b[39m\u001b[38;5;124mSZ\u001b[39m\u001b[38;5;124m\"\u001b[39m)\n\u001b[1;32m     10\u001b[0m start,end,midbreak\n",
      "\u001b[0;31mTypeError\u001b[0m: can only concatenate str (not \"datetime.timedelta\") to str"
     ]
    }
   ],
   "source": [
    "granularity=\"S5\"\n",
    "count= 5000\n",
    "start = datetime(2020, 5, 17)\n",
    "midbreak = start + timedelta(minutes= count*duration[granularity])  #count*duration[granularity]\n",
    "end = datetime.now()\n",
    "end = end.strftime(\"%Y-%m-%dT%H:%M:%SZ\")\n",
    "start = start.strftime(\"%Y-%m-%dT%H:%M:%SZ\")\n",
    "midbreak = midbreak.strftime(\"%Y-%m-%dT%H:%M:%SZ\")\n",
    "start,end,midbreak"
   ]
  },
  {
   "cell_type": "code",
   "execution_count": 38,
   "id": "9d89883a-bacc-44e4-8877-5367c6e31ff0",
   "metadata": {},
   "outputs": [],
   "source": [
    "# S5\t5 second candlesticks, minute alignment\n",
    "# S10\t10 second candlesticks, minute alignment\n",
    "# S15\t15 second candlesticks, minute alignment\n",
    "# S30\t30 second candlesticks, minute alignment\n",
    "# M1\t1 minute candlesticks, minute alignment\n",
    "# M2\t2 minute candlesticks, hour alignment\n",
    "# M4\t4 minute candlesticks, hour alignment\n",
    "# M5\t5 minute candlesticks, hour alignment\n",
    "# M10\t10 minute candlesticks, hour alignment\n",
    "# M15\t15 minute candlesticks, hour alignment\n",
    "# M30\t30 minute candlesticks, hour alignment\n",
    "# H1\t1 hour candlesticks, hour alignment\n",
    "# H2\t2 hour candlesticks, day alignment\n",
    "# H3\t3 hour candlesticks, day alignment\n",
    "# H4\t4 hour candlesticks, day alignment\n",
    "# H6\t6 hour candlesticks, day alignment\n",
    "# H8\t8 hour candlesticks, day alignment\n",
    "# H12\t12 hour candlesticks, day alignment\n",
    "# D\t1 day candlesticks, day alignment\n",
    "# W\t1 week candlesticks, aligned to start of week\n",
    "# M\t1 month candlesticks, aligned to first day of the month"
   ]
  },
  {
   "cell_type": "code",
   "execution_count": 25,
   "id": "fc1bc2f7-ea64-475c-9eb8-09e3cd265550",
   "metadata": {},
   "outputs": [
    {
     "ename": "SyntaxError",
     "evalue": "invalid syntax (3517553454.py, line 4)",
     "output_type": "error",
     "traceback": [
      "\u001b[0;36m  Cell \u001b[0;32mIn[25], line 4\u001b[0;36m\u001b[0m\n\u001b[0;31m    params['from']=\u001b[0m\n\u001b[0m                   ^\u001b[0m\n\u001b[0;31mSyntaxError\u001b[0m\u001b[0;31m:\u001b[0m invalid syntax\n"
     ]
    }
   ],
   "source": [
    "\n",
    "def getCandlesData(pair,price=\"MAB\",granularity=\"S5\"):\n",
    "    candles_url = f\"{OANDA_URL}/instruments/{pair}/candles\"\n",
    "    params = dict(count=count, price =price, granularity=granularity)\n",
    "    params['from']=\n",
    "    params['to']=datetime.now()\n",
    "    response  = session.get(candles_url, params=params, data= None)\n",
    "    data = response.json()\n",
    "    candles = data['candles']\n",
    "    return candles"
   ]
  },
  {
   "cell_type": "code",
   "execution_count": null,
   "id": "523ce71f-1838-4dbd-9827-acbb612be41a",
   "metadata": {},
   "outputs": [],
   "source": [
    "\n",
    "candles = getCandlesData(\"EUR_CAD\",granularity=\"M1\")"
   ]
  },
  {
   "cell_type": "code",
   "execution_count": null,
   "id": "7190a70c-3622-4ca5-84eb-16d8fd586256",
   "metadata": {},
   "outputs": [],
   "source": [
    "candles[0], candles[1]"
   ]
  },
  {
   "cell_type": "code",
   "execution_count": null,
   "id": "3715c945-6600-46c4-a2a9-1dfaef5bc301",
   "metadata": {},
   "outputs": [],
   "source": [
    "candles_list  = []\n",
    "for acandle in candles:\n",
    "    new_dict = {}\n",
    "    new_dict['time'] = parser.parse(acandle['time'])\n",
    "    new_dict['mid_o'] = float(acandle['mid']['o'])\n",
    "    new_dict['mid_h'] = float(acandle['mid']['h'])\n",
    "    new_dict['mid_l'] = float(acandle['mid']['l'])\n",
    "    new_dict['mid_c'] = float(acandle['mid']['c'])\n",
    "    new_dict['ask_o'] = float(acandle['ask']['o'])\n",
    "    new_dict['ask_h'] = float(acandle['ask']['h'])\n",
    "    new_dict['ask_l'] = float(acandle['ask']['l'])\n",
    "    new_dict['ask_c'] = float(acandle['ask']['c'])\n",
    "    new_dict['bid_o'] = float(acandle['bid']['o'])\n",
    "    new_dict['bid_h'] = float(acandle['bid']['h'])\n",
    "    new_dict['bid_l'] = float(acandle['bid']['l'])\n",
    "    new_dict['bid_c'] = float(acandle['bid']['c'])\n",
    "    \n",
    "    candles_list.append(new_dict)\n",
    "# candles_list\n",
    "    "
   ]
  },
  {
   "cell_type": "code",
   "execution_count": null,
   "id": "2ecb24d2-9097-4086-8113-fa68ea972244",
   "metadata": {},
   "outputs": [],
   "source": [
    "import pandas as pd\n",
    "df = pd.DataFrame.from_dict(candles_list)\n",
    "df"
   ]
  },
  {
   "cell_type": "code",
   "execution_count": null,
   "id": "cf20bf6c-f617-44c9-8d6e-84e6ea84f569",
   "metadata": {},
   "outputs": [],
   "source": [
    "fileName = f\"{instrument}.pkl\"\n",
    "path  = \"../data\"\n",
    "full_path = f'{path}/{fileName}'\n"
   ]
  },
  {
   "cell_type": "code",
   "execution_count": null,
   "id": "818aa7a7-81d3-4657-ae5e-cbc9a0874fad",
   "metadata": {},
   "outputs": [],
   "source": [
    "# with open(full_path,'w') as f:\n",
    "#     df.to_pickle(full_path)\n",
    "df.to_pickle(full_path)"
   ]
  },
  {
   "cell_type": "code",
   "execution_count": null,
   "id": "771ad80e-c12f-4eec-9ac0-5018fa7a2343",
   "metadata": {},
   "outputs": [],
   "source": [
    "new_df = pd.read_pickle(full_path)"
   ]
  },
  {
   "cell_type": "code",
   "execution_count": null,
   "id": "29ef6a31-f027-43c5-8a95-01bdb4c684fa",
   "metadata": {},
   "outputs": [],
   "source": [
    "# with open(full_path,'w') as f:\n",
    "#     df.to_pickle(full_path)"
   ]
  },
  {
   "cell_type": "code",
   "execution_count": null,
   "id": "3048e039-cfbf-4e16-b856-2cb78428034e",
   "metadata": {},
   "outputs": [],
   "source": [
    "mas =  [10,20,50,100,200]"
   ]
  },
  {
   "cell_type": "code",
   "execution_count": null,
   "id": "c4c79b4f-b4c8-48b1-ab2c-0528bb66ffa2",
   "metadata": {},
   "outputs": [],
   "source": [
    "df_an  = new_df.copy() "
   ]
  },
  {
   "cell_type": "code",
   "execution_count": null,
   "id": "b3bd9da0-9f89-4300-ad1f-01d8c8b1f29e",
   "metadata": {},
   "outputs": [],
   "source": [
    "for i in mas:\n",
    "    df_an[f'MA_{i}']= df_an['mid_o'].rolling(window=i).mean()\n"
   ]
  },
  {
   "cell_type": "code",
   "execution_count": null,
   "id": "7cf3a34c-95a9-4da5-8e2c-85af51db5a62",
   "metadata": {},
   "outputs": [],
   "source": [
    "df_an.dropna(inplace=True)"
   ]
  },
  {
   "cell_type": "code",
   "execution_count": null,
   "id": "d3a8f685-30c2-4846-b81b-17c9fb269eae",
   "metadata": {},
   "outputs": [],
   "source": [
    "df_an"
   ]
  },
  {
   "cell_type": "code",
   "execution_count": null,
   "id": "a29ec7c8-7951-45bb-b099-4f25d38e87b6",
   "metadata": {},
   "outputs": [],
   "source": []
  },
  {
   "cell_type": "code",
   "execution_count": null,
   "id": "c7bd7ecf-7f17-4dd5-ad74-12dc1ae0aac8",
   "metadata": {},
   "outputs": [],
   "source": []
  },
  {
   "cell_type": "code",
   "execution_count": null,
   "id": "0323155b-20ea-4418-a88b-642741b8567b",
   "metadata": {},
   "outputs": [],
   "source": []
  },
  {
   "cell_type": "code",
   "execution_count": null,
   "id": "9cb598ef-fcf8-4cdd-a131-0fdc8b6f801b",
   "metadata": {},
   "outputs": [],
   "source": []
  }
 ],
 "metadata": {
  "kernelspec": {
   "display_name": "Python 3 (ipykernel)",
   "language": "python",
   "name": "python3"
  },
  "language_info": {
   "codemirror_mode": {
    "name": "ipython",
    "version": 3
   },
   "file_extension": ".py",
   "mimetype": "text/x-python",
   "name": "python",
   "nbconvert_exporter": "python",
   "pygments_lexer": "ipython3",
   "version": "3.9.12"
  }
 },
 "nbformat": 4,
 "nbformat_minor": 5
}
